{
 "cells": [
  {
   "cell_type": "code",
   "execution_count": 2,
   "metadata": {
    "ExecuteTime": {
     "end_time": "2020-08-26T02:14:16.202342Z",
     "start_time": "2020-08-26T02:14:14.317559Z"
    }
   },
   "outputs": [],
   "source": [
    "from fastai2.text.all import *\n",
    "import plotly.express as px"
   ]
  },
  {
   "cell_type": "code",
   "execution_count": 3,
   "metadata": {
    "ExecuteTime": {
     "end_time": "2020-08-26T02:14:16.274027Z",
     "start_time": "2020-08-26T02:14:16.204131Z"
    }
   },
   "outputs": [],
   "source": [
    "df = pd.read_csv('tweets_100thou.csv')"
   ]
  },
  {
   "cell_type": "code",
   "execution_count": 40,
   "metadata": {
    "ExecuteTime": {
     "end_time": "2020-08-26T02:14:16.291353Z",
     "start_time": "2020-08-26T02:14:16.275786Z"
    },
    "scrolled": true
   },
   "outputs": [
    {
     "data": {
      "text/html": [
       "<div>\n",
       "<style scoped>\n",
       "    .dataframe tbody tr th:only-of-type {\n",
       "        vertical-align: middle;\n",
       "    }\n",
       "\n",
       "    .dataframe tbody tr th {\n",
       "        vertical-align: top;\n",
       "    }\n",
       "\n",
       "    .dataframe thead th {\n",
       "        text-align: right;\n",
       "    }\n",
       "</style>\n",
       "<table border=\"1\" class=\"dataframe\">\n",
       "  <thead>\n",
       "    <tr style=\"text-align: right;\">\n",
       "      <th></th>\n",
       "      <th>target</th>\n",
       "      <th>id</th>\n",
       "      <th>date</th>\n",
       "      <th>flag</th>\n",
       "      <th>user</th>\n",
       "      <th>text</th>\n",
       "      <th>is_valid</th>\n",
       "    </tr>\n",
       "  </thead>\n",
       "  <tbody>\n",
       "    <tr>\n",
       "      <th>0</th>\n",
       "      <td>0</td>\n",
       "      <td>2233254056</td>\n",
       "      <td>Thu Jun 18 21:04:20 PDT 2009</td>\n",
       "      <td>NO_QUERY</td>\n",
       "      <td>celestislove</td>\n",
       "      <td>uon't go to school today. Sorry sports jrn</td>\n",
       "      <td>False</td>\n",
       "    </tr>\n",
       "    <tr>\n",
       "      <th>1</th>\n",
       "      <td>4</td>\n",
       "      <td>2184967497</td>\n",
       "      <td>Mon Jun 15 16:41:10 PDT 2009</td>\n",
       "      <td>NO_QUERY</td>\n",
       "      <td>yeahshestamps</td>\n",
       "      <td>Making pasta and insalata blu with mom</td>\n",
       "      <td>True</td>\n",
       "    </tr>\n",
       "    <tr>\n",
       "      <th>2</th>\n",
       "      <td>0</td>\n",
       "      <td>1691306190</td>\n",
       "      <td>Sun May 03 17:33:58 PDT 2009</td>\n",
       "      <td>NO_QUERY</td>\n",
       "      <td>Dubtron9000</td>\n",
       "      <td>Worst. Day. Ever. Needing some legitimate hug action. Show starts in 30</td>\n",
       "      <td>True</td>\n",
       "    </tr>\n",
       "    <tr>\n",
       "      <th>3</th>\n",
       "      <td>4</td>\n",
       "      <td>1827681634</td>\n",
       "      <td>Sun May 17 11:13:28 PDT 2009</td>\n",
       "      <td>NO_QUERY</td>\n",
       "      <td>Travel_Trips</td>\n",
       "      <td>@riqfreire Aproveiteeeeeeeeeeeeeeeee!!</td>\n",
       "      <td>False</td>\n",
       "    </tr>\n",
       "    <tr>\n",
       "      <th>4</th>\n",
       "      <td>4</td>\n",
       "      <td>1972614114</td>\n",
       "      <td>Sat May 30 09:33:25 PDT 2009</td>\n",
       "      <td>NO_QUERY</td>\n",
       "      <td>Richpinoc</td>\n",
       "      <td>Sitting in the Tower District (gay district) in Fresno</td>\n",
       "      <td>False</td>\n",
       "    </tr>\n",
       "  </tbody>\n",
       "</table>\n",
       "</div>"
      ],
      "text/plain": [
       "   target          id                          date      flag           user  \\\n",
       "0       0  2233254056  Thu Jun 18 21:04:20 PDT 2009  NO_QUERY   celestislove   \n",
       "1       4  2184967497  Mon Jun 15 16:41:10 PDT 2009  NO_QUERY  yeahshestamps   \n",
       "2       0  1691306190  Sun May 03 17:33:58 PDT 2009  NO_QUERY    Dubtron9000   \n",
       "3       4  1827681634  Sun May 17 11:13:28 PDT 2009  NO_QUERY   Travel_Trips   \n",
       "4       4  1972614114  Sat May 30 09:33:25 PDT 2009  NO_QUERY      Richpinoc   \n",
       "\n",
       "                                                                       text  \\\n",
       "0                               uon't go to school today. Sorry sports jrn    \n",
       "1                                   Making pasta and insalata blu with mom    \n",
       "2  Worst. Day. Ever. Needing some legitimate hug action. Show starts in 30    \n",
       "3                                   @riqfreire Aproveiteeeeeeeeeeeeeeeee!!    \n",
       "4                   Sitting in the Tower District (gay district) in Fresno    \n",
       "\n",
       "   is_valid  \n",
       "0     False  \n",
       "1      True  \n",
       "2      True  \n",
       "3     False  \n",
       "4     False  "
      ]
     },
     "execution_count": 40,
     "metadata": {},
     "output_type": "execute_result"
    }
   ],
   "source": [
    "df.head()"
   ]
  },
  {
   "cell_type": "markdown",
   "metadata": {
    "heading_collapsed": true
   },
   "source": [
    "## Trial 1"
   ]
  },
  {
   "cell_type": "code",
   "execution_count": 4,
   "metadata": {
    "ExecuteTime": {
     "end_time": "2020-08-26T01:26:36.447416Z",
     "start_time": "2020-08-26T01:26:02.740827Z"
    },
    "hidden": true
   },
   "outputs": [
    {
     "data": {
      "text/html": [],
      "text/plain": [
       "<IPython.core.display.HTML object>"
      ]
     },
     "metadata": {},
     "output_type": "display_data"
    }
   ],
   "source": [
    "dls = TextDataLoaders.from_df(df, valid_col=\"is_valid\", text_col='text', label_col='target')"
   ]
  },
  {
   "cell_type": "code",
   "execution_count": 43,
   "metadata": {
    "ExecuteTime": {
     "end_time": "2020-08-25T02:32:37.880206Z",
     "start_time": "2020-08-25T02:32:37.525463Z"
    },
    "hidden": true,
    "scrolled": true
   },
   "outputs": [
    {
     "data": {
      "text/html": [
       "<table border=\"1\" class=\"dataframe\">\n",
       "  <thead>\n",
       "    <tr style=\"text-align: right;\">\n",
       "      <th></th>\n",
       "      <th>text</th>\n",
       "      <th>category</th>\n",
       "    </tr>\n",
       "  </thead>\n",
       "  <tbody>\n",
       "    <tr>\n",
       "      <th>0</th>\n",
       "      <td>xxbos xxmaj the xxmaj sun xxmaj is xxmaj out , xxmaj it 's xxmaj hot &amp; &amp; xxmaj there xxmaj is n't a xxmaj cloud xxmaj in xxmaj the sky .. what xxmaj shall xxmaj we xxmaj do ? xxmaj time xxmaj to xxmaj get xxmaj the xxmaj grill xxmaj going xxmaj grab a xxmaj beer &amp; &amp; xxmaj get xxmaj in xxmaj that xxmaj pool</td>\n",
       "      <td>4</td>\n",
       "    </tr>\n",
       "    <tr>\n",
       "      <th>1</th>\n",
       "      <td>xxbos xxmaj good xxmaj morning xxmaj everyone . xxmaj looks xxmaj like xxmaj today 's xxmaj gon na xxmaj be a xxmaj beautiful xxmaj one . xxmaj gon na xxmaj try xxmaj and xxmaj get xxmaj out xxmaj and xxmaj get xxmaj some xxmaj vitamin xxup d. xxmaj happy xxmaj hump xxmaj day xxmaj ya'll xxpad xxpad xxpad xxpad xxpad xxpad xxpad xxpad xxpad xxpad xxpad</td>\n",
       "      <td>4</td>\n",
       "    </tr>\n",
       "    <tr>\n",
       "      <th>2</th>\n",
       "      <td>xxbos xxup this xxup town xxup will xxup be xxup the xxup downfall xxup of xxup us xxup all ! ! xxmaj makes me sad i missed such epic - ness … xxmaj also : &amp; ' xxunk xxup moines ! ! &amp; ' xxmaj xxunk … rock on boys … rock on xxpad xxpad xxpad xxpad xxpad xxpad xxpad xxpad xxpad xxpad xxpad xxpad xxpad</td>\n",
       "      <td>0</td>\n",
       "    </tr>\n",
       "    <tr>\n",
       "      <th>3</th>\n",
       "      <td>xxbos xxmaj whoo h xxrep 4 o ! xxup feel xxup good xxup music here ! http : / / bit.ly / xxunk xxup enjoy ! ! xxup just xxup added a xxup really xxup funny xxup video ! xxmaj throw xxmaj yo xxmaj hands xxmaj up ! ( please retweet ) xxpad xxpad xxpad xxpad xxpad xxpad xxpad xxpad xxpad xxpad xxpad xxpad xxpad xxpad</td>\n",
       "      <td>4</td>\n",
       "    </tr>\n",
       "    <tr>\n",
       "      <th>4</th>\n",
       "      <td>xxbos xxmaj listening to : 50 xxmaj cent - i xxmaj get xxmaj money … i xxup forgot xxup how xxup much xxup this xxup song xxup hits xxrep 3 ! xxup wow xxrep 3 ! xxmaj flow on this song = &amp; ' get xxmaj rich or xxmaj die xxmaj xxunk xxpad xxpad xxpad xxpad xxpad xxpad xxpad xxpad xxpad xxpad xxpad xxpad xxpad xxpad</td>\n",
       "      <td>4</td>\n",
       "    </tr>\n",
       "    <tr>\n",
       "      <th>5</th>\n",
       "      <td>xxbos its just a book still pissed cuz i ai nt got xxmaj deja xxmaj king : &amp; ' queen xxmaj bitch &amp; ' or &amp; ' last xxmaj bitch xxmaj standing &amp; ' but i m a get it soon ( i hope ) lol xxunk ® â¥ xxunk nite xxpad xxpad xxpad xxpad xxpad xxpad xxpad xxpad xxpad xxpad xxpad xxpad xxpad xxpad xxpad</td>\n",
       "      <td>4</td>\n",
       "    </tr>\n",
       "    <tr>\n",
       "      <th>6</th>\n",
       "      <td>xxbos xxmaj at the end of the day , can we say , &amp; ' i did what had 2 b done . i did my best . i lived in my heart 2 day . &amp; ' xxmaj if so … it was a xxup good day xxpad xxpad xxpad xxpad xxpad xxpad xxpad xxpad xxpad xxpad xxpad xxpad xxpad xxpad xxpad xxpad xxpad xxpad</td>\n",
       "      <td>4</td>\n",
       "    </tr>\n",
       "    <tr>\n",
       "      <th>7</th>\n",
       "      <td>xxbos please talk to m xxrep 5 e … . xxup i 'm xxup so xxup bore xxrep 4 d xxunk today is xxup monday ! i just want to stay at home and surf da net in my own comp .. how xxrep 3 a xxpad xxpad xxpad xxpad xxpad xxpad xxpad xxpad xxpad xxpad xxpad xxpad xxpad xxpad xxpad xxpad xxpad xxpad xxpad xxpad</td>\n",
       "      <td>0</td>\n",
       "    </tr>\n",
       "    <tr>\n",
       "      <th>8</th>\n",
       "      <td>xxbos xxmaj who xxmaj likes xxmaj the xxmaj show xxmaj ghost xxmaj xxunk ) ? xxmaj do xxmaj you xxmaj believe xxmaj the xxmaj stuff … : xxunk said , . xxmaj june 5 , 2009 @ xxunk .. http : / / bit.ly / xxunk xxpad xxpad xxpad xxpad xxpad xxpad xxpad xxpad xxpad xxpad xxpad xxpad xxpad xxpad xxpad xxpad xxpad xxpad xxpad xxpad</td>\n",
       "      <td>4</td>\n",
       "    </tr>\n",
       "  </tbody>\n",
       "</table>"
      ],
      "text/plain": [
       "<IPython.core.display.HTML object>"
      ]
     },
     "metadata": {},
     "output_type": "display_data"
    }
   ],
   "source": [
    "dls.show_batch()"
   ]
  },
  {
   "cell_type": "code",
   "execution_count": 44,
   "metadata": {
    "ExecuteTime": {
     "end_time": "2020-08-25T02:40:15.049964Z",
     "start_time": "2020-08-25T02:40:14.376247Z"
    },
    "hidden": true
   },
   "outputs": [
    {
     "data": {
      "text/html": [],
      "text/plain": [
       "<IPython.core.display.HTML object>"
      ]
     },
     "metadata": {},
     "output_type": "display_data"
    }
   ],
   "source": [
    "learn = text_classifier_learner(dls, AWD_LSTM, drop_mult=0.5, metrics=accuracy)"
   ]
  },
  {
   "cell_type": "code",
   "execution_count": 45,
   "metadata": {
    "ExecuteTime": {
     "end_time": "2020-08-25T02:34:09.409195Z",
     "start_time": "2020-08-25T02:34:04.152935Z"
    },
    "hidden": true
   },
   "outputs": [
    {
     "data": {
      "text/html": [],
      "text/plain": [
       "<IPython.core.display.HTML object>"
      ]
     },
     "metadata": {},
     "output_type": "display_data"
    },
    {
     "data": {
      "text/plain": [
       "SuggestedLRs(lr_min=0.006918309628963471, lr_steep=7.585775847473997e-07)"
      ]
     },
     "execution_count": 45,
     "metadata": {},
     "output_type": "execute_result"
    },
    {
     "data": {
      "image/png": "[encoded data removed]",
      "text/plain": [
       "<Figure size 432x288 with 1 Axes>"
      ]
     },
     "metadata": {
      "needs_background": "light"
     },
     "output_type": "display_data"
    }
   ],
   "source": [
    "learn.lr_find()"
   ]
  },
  {
   "cell_type": "code",
   "execution_count": 46,
   "metadata": {
    "ExecuteTime": {
     "end_time": "2020-08-25T02:41:02.556327Z",
     "start_time": "2020-08-25T02:40:17.721398Z"
    },
    "hidden": true
   },
   "outputs": [
    {
     "data": {
      "text/html": [
       "<table border=\"1\" class=\"dataframe\">\n",
       "  <thead>\n",
       "    <tr style=\"text-align: left;\">\n",
       "      <th>epoch</th>\n",
       "      <th>train_loss</th>\n",
       "      <th>valid_loss</th>\n",
       "      <th>accuracy</th>\n",
       "      <th>time</th>\n",
       "    </tr>\n",
       "  </thead>\n",
       "  <tbody>\n",
       "    <tr>\n",
       "      <td>0</td>\n",
       "      <td>0.773181</td>\n",
       "      <td>0.574068</td>\n",
       "      <td>0.698450</td>\n",
       "      <td>00:44</td>\n",
       "    </tr>\n",
       "  </tbody>\n",
       "</table>"
      ],
      "text/plain": [
       "<IPython.core.display.HTML object>"
      ]
     },
     "metadata": {},
     "output_type": "display_data"
    },
    {
     "data": {
      "text/html": [
       "<table border=\"1\" class=\"dataframe\">\n",
       "  <thead>\n",
       "    <tr style=\"text-align: left;\">\n",
       "      <th>epoch</th>\n",
       "      <th>train_loss</th>\n",
       "      <th>valid_loss</th>\n",
       "      <th>accuracy</th>\n",
       "      <th>time</th>\n",
       "    </tr>\n",
       "  </thead>\n",
       "  <tbody>\n",
       "    <tr>\n",
       "      <td>0</td>\n",
       "      <td>0.586839</td>\n",
       "      <td>0.516505</td>\n",
       "      <td>0.739600</td>\n",
       "      <td>01:28</td>\n",
       "    </tr>\n",
       "    <tr>\n",
       "      <td>1</td>\n",
       "      <td>0.524948</td>\n",
       "      <td>0.484331</td>\n",
       "      <td>0.762900</td>\n",
       "      <td>01:30</td>\n",
       "    </tr>\n",
       "    <tr>\n",
       "      <td>2</td>\n",
       "      <td>0.509391</td>\n",
       "      <td>0.469365</td>\n",
       "      <td>0.772250</td>\n",
       "      <td>01:29</td>\n",
       "    </tr>\n",
       "    <tr>\n",
       "      <td>3</td>\n",
       "      <td>0.487433</td>\n",
       "      <td>0.464466</td>\n",
       "      <td>0.777500</td>\n",
       "      <td>01:29</td>\n",
       "    </tr>\n",
       "  </tbody>\n",
       "</table>"
      ],
      "text/plain": [
       "<IPython.core.display.HTML object>"
      ]
     },
     "metadata": {},
     "output_type": "display_data"
    }
   ],
   "source": [
    "learn.fine_tune(4, 1e-3)"
   ]
  },
  {
   "cell_type": "code",
   "execution_count": 48,
   "metadata": {
    "ExecuteTime": {
     "end_time": "2020-08-25T02:41:47.391515Z",
     "start_time": "2020-08-25T02:41:02.558572Z"
    },
    "hidden": true
   },
   "outputs": [
    {
     "data": {
      "text/html": [],
      "text/plain": [
       "<IPython.core.display.HTML object>"
      ]
     },
     "metadata": {},
     "output_type": "display_data"
    },
    {
     "data": {
      "text/html": [
       "<table border=\"1\" class=\"dataframe\">\n",
       "  <thead>\n",
       "    <tr style=\"text-align: right;\">\n",
       "      <th></th>\n",
       "      <th>text</th>\n",
       "      <th>category</th>\n",
       "      <th>category_</th>\n",
       "    </tr>\n",
       "  </thead>\n",
       "  <tbody>\n",
       "    <tr>\n",
       "      <th>0</th>\n",
       "      <td>xxbos xxmaj it 's xxmaj been a xxmaj while … xxmaj but i xxmaj been xxmaj busy ! ! xxmaj xxunk xxmaj tha xxmaj show … xxmaj now xxmaj i 'm xxmaj celebrating ! ! xxmaj i 'm xxmaj ur 2009 xxmaj mr . xxmaj muscle xxmaj beach xxrep 3 ! i xxmaj took xxmaj tha xxmaj show xxmaj baby xxrep 3 !</td>\n",
       "      <td>4</td>\n",
       "      <td>4</td>\n",
       "    </tr>\n",
       "    <tr>\n",
       "      <th>1</th>\n",
       "      <td>xxbos # seb - day # seb - day # seb - day # seb - day # seb - day # seb - day # seb - day # seb - day # seb - day # seb - day # seb - day # seb - day # seb - day # seb - day # seb - day xxpad xxpad</td>\n",
       "      <td>4</td>\n",
       "      <td>4</td>\n",
       "    </tr>\n",
       "    <tr>\n",
       "      <th>2</th>\n",
       "      <td>xxbos xxup is xxup asking xxup all xxup of xxup twitter … . xxup how xxup do xxup you xxup get xxup great xxup amount xxup of xxup twitter xxup traffic xxup to xxup be xxup sent xxup to xxup your xxup website xxrep 4 ? xxup that s xxup all i xxup ask ? xxup please xxup help ! ! xxpad xxpad</td>\n",
       "      <td>0</td>\n",
       "      <td>4</td>\n",
       "    </tr>\n",
       "    <tr>\n",
       "      <th>3</th>\n",
       "      <td>xxbos xxup just xxup got xxup back xxup from xxup cedar xxup point xxup in xxup oh . xxup lil xxup road xxup trip xxup for xxup da xxup fam xxup rode xxup every xxup thing xxup uno xxup g 's xxup ai nt xxup scared xxup of xxup no xxup roller xxup coaster xxpad xxpad xxpad xxpad xxpad xxpad xxpad xxpad xxpad</td>\n",
       "      <td>4</td>\n",
       "      <td>0</td>\n",
       "    </tr>\n",
       "    <tr>\n",
       "      <th>4</th>\n",
       "      <td>xxbos xxunk i xxup do n't xxup want xxup him xxup to xxup go xxup xxunk xxrep 3 r . xxrep 3 ( xxmaj it 's so xxunk xxrep 3 g … xxmaj he 's booked &amp; &amp; everythin xxrep 3 g . i think he 's leaving xxmaj september 3 . xxpad xxpad xxpad xxpad xxpad xxpad xxpad xxpad xxpad xxpad xxpad</td>\n",
       "      <td>0</td>\n",
       "      <td>0</td>\n",
       "    </tr>\n",
       "    <tr>\n",
       "      <th>5</th>\n",
       "      <td>xxbos @tommcfly xxup you 're xxup so xxup bad xxup man ! xxup god , xxup please xxup you xxup can xxup say xxup anything xxup with xxup me xxup or xxup reply xxup my xxup other xxup message ! xxup please , i xxup love xxup you ! xxup xx xxpad xxpad xxpad xxpad xxpad xxpad xxpad xxpad xxpad xxpad xxpad xxpad</td>\n",
       "      <td>4</td>\n",
       "      <td>4</td>\n",
       "    </tr>\n",
       "    <tr>\n",
       "      <th>6</th>\n",
       "      <td>xxbos ca n't get this &amp; ' must xxup be xxup love &amp; ' song by xxmaj cassie outta my head . xxmaj it 's still on repeat &amp; &amp; it 's helping me get through the dayy . xxmaj i 'm s xxrep 3 o sleepy xxpad xxpad xxpad xxpad xxpad xxpad xxpad xxpad xxpad xxpad xxpad xxpad xxpad xxpad xxpad xxpad</td>\n",
       "      <td>0</td>\n",
       "      <td>0</td>\n",
       "    </tr>\n",
       "    <tr>\n",
       "      <th>7</th>\n",
       "      <td>xxbos xxunk xxup wrong .. wrong … right ! xxmaj stupid xxmaj bitch ! xxmaj he xxmaj is xxup not xxmaj fat ! xxmaj all i xxmaj do xxmaj is xxmaj twitter xxmaj all xxmaj my friends .. i xxmaj dnt xxmaj call xxmaj ppl xxmaj anymore xxpad xxpad xxpad xxpad xxpad xxpad xxpad xxpad xxpad xxpad xxpad xxpad xxpad xxpad xxpad xxpad</td>\n",
       "      <td>4</td>\n",
       "      <td>0</td>\n",
       "    </tr>\n",
       "    <tr>\n",
       "      <th>8</th>\n",
       "      <td>xxbos xxup bbq was g xxrep 5 r xxrep 5 e att yesterday ! ! xxmaj ate 2 xxunk , 2 dogs , and two corn on xxunk ! ! xxup yes ! ! i xxup am a xxup monster ! ! xxup ga xxrep 4 r xxpad xxpad xxpad xxpad xxpad xxpad xxpad xxpad xxpad xxpad xxpad xxpad xxpad xxpad xxpad xxpad</td>\n",
       "      <td>4</td>\n",
       "      <td>4</td>\n",
       "    </tr>\n",
       "  </tbody>\n",
       "</table>"
      ],
      "text/plain": [
       "<IPython.core.display.HTML object>"
      ]
     },
     "metadata": {},
     "output_type": "display_data"
    }
   ],
   "source": [
    "learn.show_results()"
   ]
  },
  {
   "cell_type": "code",
   "execution_count": 49,
   "metadata": {},
   "outputs": [
    {
     "data": {
      "text/html": [],
      "text/plain": [
       "<IPython.core.display.HTML object>"
      ]
     },
     "metadata": {},
     "output_type": "display_data"
    },
    {
     "data": {
      "text/plain": [
       "('4', tensor(1), tensor([0.0423, 0.9577]))"
      ]
     },
     "execution_count": 49,
     "metadata": {},
     "output_type": "execute_result"
    }
   ],
   "source": [
    "learn.predict(\"Rest in power, Chadwick. This is all still too difficult to process, thank you for all the movies and all the inspiration. We love you so much\")"
   ]
  },
  {
   "cell_type": "code",
   "execution_count": 50,
   "metadata": {},
   "outputs": [
    {
     "data": {
      "text/html": [],
      "text/plain": [
       "<IPython.core.display.HTML object>"
      ]
     },
     "metadata": {},
     "output_type": "display_data"
    },
    {
     "data": {
      "text/plain": [
       "('0', tensor(0), tensor([0.9313, 0.0687]))"
      ]
     },
     "execution_count": 50,
     "metadata": {},
     "output_type": "execute_result"
    }
   ],
   "source": [
    "learn.predict(\"Rest in power, chadwick. This is all still too difficult to process\")"
   ]
  },
  {
   "cell_type": "markdown",
   "metadata": {},
   "source": [
    "## Fine tuning"
   ]
  },
  {
   "cell_type": "code",
   "execution_count": 6,
   "metadata": {
    "ExecuteTime": {
     "end_time": "2020-08-26T02:14:37.205298Z",
     "start_time": "2020-08-26T02:14:23.458821Z"
    }
   },
   "outputs": [
    {
     "data": {
      "text/html": [],
      "text/plain": [
       "<IPython.core.display.HTML object>"
      ]
     },
     "metadata": {},
     "output_type": "display_data"
    }
   ],
   "source": [
    "dls_lm = TextDataLoaders.from_df(df, is_lm=True, text_col='text', valid_pct=0.2, bs=128)"
   ]
  },
  {
   "cell_type": "code",
   "execution_count": 52,
   "metadata": {
    "ExecuteTime": {
     "end_time": "2020-08-26T02:14:37.772941Z",
     "start_time": "2020-08-26T02:14:37.208073Z"
    }
   },
   "outputs": [
    {
     "data": {
      "text/html": [
       "<table border=\"1\" class=\"dataframe\">\n",
       "  <thead>\n",
       "    <tr style=\"text-align: right;\">\n",
       "      <th></th>\n",
       "      <th>text</th>\n",
       "      <th>text_</th>\n",
       "    </tr>\n",
       "  </thead>\n",
       "  <tbody>\n",
       "    <tr>\n",
       "      <th>0</th>\n",
       "      <td>xxbos xxmaj chick xxmaj fil a later … . xxbos @gulpanag xxmaj mornin ' lady ! xxmaj have a great day ahead , shooting star xxbos xxmaj xxunk from my neighbors bday party . i was fu xxrep 3 n there was a bouncy and water balloon fight ! xxmaj but i forgot sunblock and now i ca n't move xxbos xxunk lol yea ! i keep thinking about what we 're</td>\n",
       "      <td>xxmaj chick xxmaj fil a later … . xxbos @gulpanag xxmaj mornin ' lady ! xxmaj have a great day ahead , shooting star xxbos xxmaj xxunk from my neighbors bday party . i was fu xxrep 3 n there was a bouncy and water balloon fight ! xxmaj but i forgot sunblock and now i ca n't move xxbos xxunk lol yea ! i keep thinking about what we 're doing</td>\n",
       "    </tr>\n",
       "    <tr>\n",
       "      <th>1</th>\n",
       "      <td>nights ! xxbos xxmaj i 'm at page 80 / 400 pages of my text . xxmaj how much am i supposed to memorize ? ! xxmaj my brain ca n't take it ! xxmaj i 'm not a xxunk ! xxbos has no fone and is lonely xxbos xxunk i m starting too , i ca nt upload a photo though xxup hey does xxunk have twitter ? keen to stalk</td>\n",
       "      <td>! xxbos xxmaj i 'm at page 80 / 400 pages of my text . xxmaj how much am i supposed to memorize ? ! xxmaj my brain ca n't take it ! xxmaj i 'm not a xxunk ! xxbos has no fone and is lonely xxbos xxunk i m starting too , i ca nt upload a photo though xxup hey does xxunk have twitter ? keen to stalk …</td>\n",
       "    </tr>\n",
       "    <tr>\n",
       "      <th>2</th>\n",
       "      <td>was in the xxmaj house xxmaj but i like him bcause he 's running completly on ideas , and being xxup lg is about ideas xxbos xxunk xxunk sleep well charles you make xxunk a lot ! xxbos xxmaj fome , fome , fome ! ! xxbos xxmaj everthing hurts . xxbos xxunk i agree ! xxmaj i 'm having to deny about 10 ' experts ' per day ! xxmaj it</td>\n",
       "      <td>in the xxmaj house xxmaj but i like him bcause he 's running completly on ideas , and being xxup lg is about ideas xxbos xxunk xxunk sleep well charles you make xxunk a lot ! xxbos xxmaj fome , fome , fome ! ! xxbos xxmaj everthing hurts . xxbos xxunk i agree ! xxmaj i 'm having to deny about 10 ' experts ' per day ! xxmaj it 's</td>\n",
       "    </tr>\n",
       "  </tbody>\n",
       "</table>"
      ],
      "text/plain": [
       "<IPython.core.display.HTML object>"
      ]
     },
     "metadata": {},
     "output_type": "display_data"
    }
   ],
   "source": [
    "dls_lm.show_batch(max_n=3)"
   ]
  },
  {
   "cell_type": "code",
   "execution_count": 53,
   "metadata": {
    "ExecuteTime": {
     "end_time": "2020-08-26T02:14:38.586980Z",
     "start_time": "2020-08-26T02:14:37.775033Z"
    }
   },
   "outputs": [],
   "source": [
    "learn = language_model_learner(dls_lm, AWD_LSTM, metrics=[accuracy, Perplexity()], wd=0.1, )"
   ]
  },
  {
   "cell_type": "code",
   "execution_count": 54,
   "metadata": {
    "ExecuteTime": {
     "end_time": "2020-08-26T02:15:39.266761Z",
     "start_time": "2020-08-26T02:14:38.588772Z"
    }
   },
   "outputs": [
    {
     "data": {
      "text/html": [],
      "text/plain": [
       "<IPython.core.display.HTML object>"
      ]
     },
     "metadata": {},
     "output_type": "display_data"
    },
    {
     "data": {
      "text/plain": [
       "SuggestedLRs(lr_min=0.05248074531555176, lr_steep=0.033113110810518265)"
      ]
     },
     "execution_count": 54,
     "metadata": {},
     "output_type": "execute_result"
    },
    {
     "data": {
      "image/png": "[encoded data removed]",
      "text/plain": [
       "<Figure size 432x288 with 1 Axes>"
      ]
     },
     "metadata": {
      "needs_background": "light"
     },
     "output_type": "display_data"
    }
   ],
   "source": [
    "learn.lr_find()"
   ]
  },
  {
   "cell_type": "code",
   "execution_count": 55,
   "metadata": {
    "ExecuteTime": {
     "end_time": "2020-08-26T02:15:58.811011Z",
     "start_time": "2020-08-26T02:15:39.268520Z"
    }
   },
   "outputs": [
    {
     "data": {
      "text/html": [
       "<table border=\"1\" class=\"dataframe\">\n",
       "  <thead>\n",
       "    <tr style=\"text-align: left;\">\n",
       "      <th>epoch</th>\n",
       "      <th>train_loss</th>\n",
       "      <th>valid_loss</th>\n",
       "      <th>accuracy</th>\n",
       "      <th>perplexity</th>\n",
       "      <th>time</th>\n",
       "    </tr>\n",
       "  </thead>\n",
       "  <tbody>\n",
       "    <tr>\n",
       "      <td>0</td>\n",
       "      <td>4.775272</td>\n",
       "      <td>4.402635</td>\n",
       "      <td>0.228717</td>\n",
       "      <td>81.665787</td>\n",
       "      <td>02:28</td>\n",
       "    </tr>\n",
       "  </tbody>\n",
       "</table>"
      ],
      "text/plain": [
       "<IPython.core.display.HTML object>"
      ]
     },
     "metadata": {},
     "output_type": "display_data"
    }
   ],
   "source": [
    "learn.fit_one_cycle(1, 5e-2)"
   ]
  },
  {
   "cell_type": "code",
   "execution_count": 56,
   "metadata": {
    "ExecuteTime": {
     "end_time": "2020-08-26T02:15:59.111988Z",
     "start_time": "2020-08-26T02:15:58.813398Z"
    }
   },
   "outputs": [],
   "source": [
    "learn.save('1epoch_fit_one_cycle')"
   ]
  },
  {
   "cell_type": "code",
   "execution_count": 57,
   "metadata": {
    "ExecuteTime": {
     "end_time": "2020-08-26T02:15:59.214243Z",
     "start_time": "2020-08-26T02:15:59.113793Z"
    }
   },
   "outputs": [],
   "source": [
    "learn = learn.load('1epoch_fit_one_cycle')"
   ]
  },
  {
   "cell_type": "code",
   "execution_count": 58,
   "metadata": {
    "ExecuteTime": {
     "end_time": "2020-08-26T02:18:05.062489Z",
     "start_time": "2020-08-26T02:15:59.216928Z"
    }
   },
   "outputs": [
    {
     "data": {
      "text/html": [
       "<table border=\"1\" class=\"dataframe\">\n",
       "  <thead>\n",
       "    <tr style=\"text-align: left;\">\n",
       "      <th>epoch</th>\n",
       "      <th>train_loss</th>\n",
       "      <th>valid_loss</th>\n",
       "      <th>accuracy</th>\n",
       "      <th>perplexity</th>\n",
       "      <th>time</th>\n",
       "    </tr>\n",
       "  </thead>\n",
       "  <tbody>\n",
       "    <tr>\n",
       "      <td>0</td>\n",
       "      <td>4.428035</td>\n",
       "      <td>4.251678</td>\n",
       "      <td>0.246946</td>\n",
       "      <td>70.223183</td>\n",
       "      <td>02:44</td>\n",
       "    </tr>\n",
       "    <tr>\n",
       "      <td>1</td>\n",
       "      <td>4.304978</td>\n",
       "      <td>4.165888</td>\n",
       "      <td>0.257260</td>\n",
       "      <td>64.449905</td>\n",
       "      <td>02:44</td>\n",
       "    </tr>\n",
       "    <tr>\n",
       "      <td>2</td>\n",
       "      <td>4.204672</td>\n",
       "      <td>4.115406</td>\n",
       "      <td>0.262313</td>\n",
       "      <td>61.277088</td>\n",
       "      <td>02:44</td>\n",
       "    </tr>\n",
       "    <tr>\n",
       "      <td>3</td>\n",
       "      <td>4.100685</td>\n",
       "      <td>4.086133</td>\n",
       "      <td>0.267449</td>\n",
       "      <td>59.509323</td>\n",
       "      <td>02:44</td>\n",
       "    </tr>\n",
       "    <tr>\n",
       "      <td>4</td>\n",
       "      <td>4.012729</td>\n",
       "      <td>4.076208</td>\n",
       "      <td>0.269033</td>\n",
       "      <td>58.921623</td>\n",
       "      <td>02:44</td>\n",
       "    </tr>\n",
       "    <tr>\n",
       "      <td>5</td>\n",
       "      <td>3.963781</td>\n",
       "      <td>4.079766</td>\n",
       "      <td>0.268960</td>\n",
       "      <td>59.131649</td>\n",
       "      <td>02:44</td>\n",
       "    </tr>\n",
       "  </tbody>\n",
       "</table>"
      ],
      "text/plain": [
       "<IPython.core.display.HTML object>"
      ]
     },
     "metadata": {},
     "output_type": "display_data"
    }
   ],
   "source": [
    "learn.unfreeze()\n",
    "learn.fit_one_cycle(6, 5e-3)"
   ]
  },
  {
   "cell_type": "code",
   "execution_count": 59,
   "metadata": {
    "ExecuteTime": {
     "end_time": "2020-08-26T02:18:05.281028Z",
     "start_time": "2020-08-26T02:18:05.064276Z"
    }
   },
   "outputs": [],
   "source": [
    "learn.save_encoder('finetuned')"
   ]
  },
  {
   "cell_type": "code",
   "execution_count": 60,
   "metadata": {
    "ExecuteTime": {
     "end_time": "2020-08-26T02:18:06.266940Z",
     "start_time": "2020-08-26T02:18:05.282544Z"
    }
   },
   "outputs": [
    {
     "data": {
      "text/html": [],
      "text/plain": [
       "<IPython.core.display.HTML object>"
      ]
     },
     "metadata": {},
     "output_type": "display_data"
    },
    {
     "data": {
      "text/html": [],
      "text/plain": [
       "<IPython.core.display.HTML object>"
      ]
     },
     "metadata": {},
     "output_type": "display_data"
    }
   ],
   "source": [
    "TEXT = \"WALKING HOME\"\n",
    "N_WORDS = 40\n",
    "N_SENTENCES = 2\n",
    "preds = [learn.predict(TEXT, N_WORDS, temperature=0.75) \n",
    "         for _ in range(N_SENTENCES)]"
   ]
  },
  {
   "cell_type": "code",
   "execution_count": 61,
   "metadata": {
    "ExecuteTime": {
     "end_time": "2020-08-26T02:18:06.271708Z",
     "start_time": "2020-08-26T02:18:06.268421Z"
    }
   },
   "outputs": [
    {
     "name": "stdout",
     "output_type": "stream",
     "text": [
      "WALKING HOME ! my luggage have been at Columbus Field for a month . Wish i could do a transfer to my computer . Just realised why May i have to be an AT&&T store\n",
      "WALKING HOME FROM THE PARK WITH THE BF Is in the hospital , so not sure if she 's going to be home Its raining outside and i wish i was in\n"
     ]
    }
   ],
   "source": [
    "print(\"\\n\".join(preds))"
   ]
  },
  {
   "cell_type": "markdown",
   "metadata": {},
   "source": [
    "## Train the text classifier"
   ]
  },
  {
   "cell_type": "code",
   "execution_count": 7,
   "metadata": {
    "ExecuteTime": {
     "end_time": "2020-08-26T02:18:34.668083Z",
     "start_time": "2020-08-26T02:18:13.450090Z"
    }
   },
   "outputs": [
    {
     "data": {
      "text/html": [],
      "text/plain": [
       "<IPython.core.display.HTML object>"
      ]
     },
     "metadata": {},
     "output_type": "display_data"
    }
   ],
   "source": [
    "dls_clas = TextDataLoaders.from_df(df, valid_col=\"is_valid\", text_col='text', label_col='target', text_vocab=dls_lm.vocab)"
   ]
  },
  {
   "cell_type": "code",
   "execution_count": 8,
   "metadata": {
    "ExecuteTime": {
     "end_time": "2020-08-26T02:18:35.226537Z",
     "start_time": "2020-08-26T02:18:34.670616Z"
    }
   },
   "outputs": [],
   "source": [
    "learn = text_classifier_learner(dls_clas, AWD_LSTM, drop_mult=0.5, metrics=accuracy)"
   ]
  },
  {
   "cell_type": "code",
   "execution_count": 9,
   "metadata": {
    "ExecuteTime": {
     "end_time": "2020-08-26T02:18:35.296669Z",
     "start_time": "2020-08-26T02:18:35.228374Z"
    }
   },
   "outputs": [],
   "source": [
    "learn = learn.load_encoder('finetuned')"
   ]
  },
  {
   "cell_type": "code",
   "execution_count": 10,
   "metadata": {
    "ExecuteTime": {
     "end_time": "2020-08-26T02:18:42.791559Z",
     "start_time": "2020-08-26T02:18:38.599674Z"
    }
   },
   "outputs": [
    {
     "data": {
      "text/html": [],
      "text/plain": [
       "<IPython.core.display.HTML object>"
      ]
     },
     "metadata": {},
     "output_type": "display_data"
    },
    {
     "data": {
      "text/plain": [
       "SuggestedLRs(lr_min=0.014454397559165954, lr_steep=0.001737800776027143)"
      ]
     },
     "execution_count": 10,
     "metadata": {},
     "output_type": "execute_result"
    },
    {
     "data": {
      "image/png": "[encoded data removed]",
      "text/plain": [
       "<Figure size 432x288 with 1 Axes>"
      ]
     },
     "metadata": {
      "needs_background": "light"
     },
     "output_type": "display_data"
    }
   ],
   "source": [
    "learn.lr_find()"
   ]
  },
  {
   "cell_type": "code",
   "execution_count": 11,
   "metadata": {
    "ExecuteTime": {
     "end_time": "2020-08-26T02:19:04.717775Z",
     "start_time": "2020-08-26T02:18:59.650244Z"
    }
   },
   "outputs": [
    {
     "data": {
      "text/html": [
       "<table border=\"1\" class=\"dataframe\">\n",
       "  <thead>\n",
       "    <tr style=\"text-align: left;\">\n",
       "      <th>epoch</th>\n",
       "      <th>train_loss</th>\n",
       "      <th>valid_loss</th>\n",
       "      <th>accuracy</th>\n",
       "      <th>time</th>\n",
       "    </tr>\n",
       "  </thead>\n",
       "  <tbody>\n",
       "    <tr>\n",
       "      <td>0</td>\n",
       "      <td>0.589490</td>\n",
       "      <td>0.457047</td>\n",
       "      <td>0.780350</td>\n",
       "      <td>00:49</td>\n",
       "    </tr>\n",
       "  </tbody>\n",
       "</table>"
      ],
      "text/plain": [
       "<IPython.core.display.HTML object>"
      ]
     },
     "metadata": {},
     "output_type": "display_data"
    }
   ],
   "source": [
    "learn.fit_one_cycle(1, 1e-2)"
   ]
  },
  {
   "cell_type": "code",
   "execution_count": 12,
   "metadata": {
    "ExecuteTime": {
     "end_time": "2020-08-26T02:20:34.238638Z",
     "start_time": "2020-08-26T02:20:28.836894Z"
    }
   },
   "outputs": [
    {
     "data": {
      "text/html": [
       "<table border=\"1\" class=\"dataframe\">\n",
       "  <thead>\n",
       "    <tr style=\"text-align: left;\">\n",
       "      <th>epoch</th>\n",
       "      <th>train_loss</th>\n",
       "      <th>valid_loss</th>\n",
       "      <th>accuracy</th>\n",
       "      <th>time</th>\n",
       "    </tr>\n",
       "  </thead>\n",
       "  <tbody>\n",
       "    <tr>\n",
       "      <td>0</td>\n",
       "      <td>0.468958</td>\n",
       "      <td>0.421705</td>\n",
       "      <td>0.801100</td>\n",
       "      <td>00:55</td>\n",
       "    </tr>\n",
       "  </tbody>\n",
       "</table>"
      ],
      "text/plain": [
       "<IPython.core.display.HTML object>"
      ]
     },
     "metadata": {},
     "output_type": "display_data"
    }
   ],
   "source": [
    "learn.freeze_to(-2)\n",
    "learn.fit_one_cycle(1, slice(5e-3/(2.6**4),5e-3))"
   ]
  },
  {
   "cell_type": "code",
   "execution_count": 13,
   "metadata": {
    "ExecuteTime": {
     "end_time": "2020-08-26T02:20:40.225560Z",
     "start_time": "2020-08-26T02:20:34.629634Z"
    }
   },
   "outputs": [
    {
     "data": {
      "text/html": [
       "<table border=\"1\" class=\"dataframe\">\n",
       "  <thead>\n",
       "    <tr style=\"text-align: left;\">\n",
       "      <th>epoch</th>\n",
       "      <th>train_loss</th>\n",
       "      <th>valid_loss</th>\n",
       "      <th>accuracy</th>\n",
       "      <th>time</th>\n",
       "    </tr>\n",
       "  </thead>\n",
       "  <tbody>\n",
       "    <tr>\n",
       "      <td>0</td>\n",
       "      <td>0.445963</td>\n",
       "      <td>0.419821</td>\n",
       "      <td>0.800650</td>\n",
       "      <td>01:05</td>\n",
       "    </tr>\n",
       "  </tbody>\n",
       "</table>"
      ],
      "text/plain": [
       "<IPython.core.display.HTML object>"
      ]
     },
     "metadata": {},
     "output_type": "display_data"
    }
   ],
   "source": [
    "learn.freeze_to(-3)\n",
    "learn.fit_one_cycle(1, slice(1e-4/(2.6**4),1e-4))"
   ]
  },
  {
   "cell_type": "code",
   "execution_count": 14,
   "metadata": {
    "ExecuteTime": {
     "end_time": "2020-08-26T02:20:56.130265Z",
     "start_time": "2020-08-26T02:20:43.858689Z"
    }
   },
   "outputs": [
    {
     "data": {
      "text/html": [
       "<table border=\"1\" class=\"dataframe\">\n",
       "  <thead>\n",
       "    <tr style=\"text-align: left;\">\n",
       "      <th>epoch</th>\n",
       "      <th>train_loss</th>\n",
       "      <th>valid_loss</th>\n",
       "      <th>accuracy</th>\n",
       "      <th>time</th>\n",
       "    </tr>\n",
       "  </thead>\n",
       "  <tbody>\n",
       "    <tr>\n",
       "      <td>0</td>\n",
       "      <td>0.443092</td>\n",
       "      <td>0.413514</td>\n",
       "      <td>0.807050</td>\n",
       "      <td>01:24</td>\n",
       "    </tr>\n",
       "    <tr>\n",
       "      <td>1</td>\n",
       "      <td>0.426087</td>\n",
       "      <td>0.410975</td>\n",
       "      <td>0.807150</td>\n",
       "      <td>01:23</td>\n",
       "    </tr>\n",
       "  </tbody>\n",
       "</table>"
      ],
      "text/plain": [
       "<IPython.core.display.HTML object>"
      ]
     },
     "metadata": {},
     "output_type": "display_data"
    }
   ],
   "source": [
    "learn.unfreeze()\n",
    "learn.fit_one_cycle(2, slice(1e-3/(2.6**4)/5,1e-3/5))"
   ]
  },
  {
   "cell_type": "code",
   "execution_count": 15,
   "metadata": {
    "ExecuteTime": {
     "end_time": "2020-08-26T02:21:28.217631Z",
     "start_time": "2020-08-26T02:21:15.760165Z"
    }
   },
   "outputs": [
    {
     "data": {
      "text/html": [
       "<table border=\"1\" class=\"dataframe\">\n",
       "  <thead>\n",
       "    <tr style=\"text-align: left;\">\n",
       "      <th>epoch</th>\n",
       "      <th>train_loss</th>\n",
       "      <th>valid_loss</th>\n",
       "      <th>accuracy</th>\n",
       "      <th>time</th>\n",
       "    </tr>\n",
       "  </thead>\n",
       "  <tbody>\n",
       "    <tr>\n",
       "      <td>0</td>\n",
       "      <td>0.427607</td>\n",
       "      <td>0.408234</td>\n",
       "      <td>0.809400</td>\n",
       "      <td>01:22</td>\n",
       "    </tr>\n",
       "    <tr>\n",
       "      <td>1</td>\n",
       "      <td>0.411414</td>\n",
       "      <td>0.407558</td>\n",
       "      <td>0.809600</td>\n",
       "      <td>01:23</td>\n",
       "    </tr>\n",
       "  </tbody>\n",
       "</table>"
      ],
      "text/plain": [
       "<IPython.core.display.HTML object>"
      ]
     },
     "metadata": {},
     "output_type": "display_data"
    }
   ],
   "source": [
    "learn.fit_one_cycle(2, slice(1e-3/(2.6**4)/5,1e-3/5))"
   ]
  },
  {
   "cell_type": "code",
   "execution_count": 16,
   "metadata": {
    "ExecuteTime": {
     "end_time": "2020-08-26T02:21:40.265222Z",
     "start_time": "2020-08-26T02:21:40.051679Z"
    }
   },
   "outputs": [
    {
     "data": {
      "text/html": [],
      "text/plain": [
       "<IPython.core.display.HTML object>"
      ]
     },
     "metadata": {},
     "output_type": "display_data"
    },
    {
     "data": {
      "text/html": [
       "<table border=\"1\" class=\"dataframe\">\n",
       "  <thead>\n",
       "    <tr style=\"text-align: right;\">\n",
       "      <th></th>\n",
       "      <th>text</th>\n",
       "      <th>category</th>\n",
       "      <th>category_</th>\n",
       "    </tr>\n",
       "  </thead>\n",
       "  <tbody>\n",
       "    <tr>\n",
       "      <th>0</th>\n",
       "      <td>xxbos xxmaj it 's xxmaj been a xxmaj while … xxmaj but i xxmaj been xxmaj busy ! ! xxmaj xxunk xxmaj tha xxmaj show … xxmaj now xxmaj i 'm xxmaj celebrating ! ! xxmaj i 'm xxmaj ur 2009 xxmaj mr . xxmaj muscle xxmaj beach xxrep 3 ! i xxmaj took xxmaj tha xxmaj show xxmaj baby xxrep 3 !</td>\n",
       "      <td>4</td>\n",
       "      <td>4</td>\n",
       "    </tr>\n",
       "    <tr>\n",
       "      <th>1</th>\n",
       "      <td>xxbos xxunk i xxup do n't xxup want xxup him xxup to xxup go xxup xxunk xxrep 3 r . xxrep 3 ( xxmaj it 's so xxunk xxrep 3 g … xxmaj he 's booked &amp; &amp; everythin xxrep 3 g . i think he 's leaving xxmaj september 3 . xxpad xxpad xxpad xxpad xxpad xxpad xxpad xxpad xxpad xxpad xxpad</td>\n",
       "      <td>0</td>\n",
       "      <td>0</td>\n",
       "    </tr>\n",
       "    <tr>\n",
       "      <th>2</th>\n",
       "      <td>xxbos xxmaj talking xxmaj to xxmaj alyssa and xxmaj chillin out .. going xxmaj through xxmaj pictures xxmaj my xxmaj xxunk ( ( xxunk ) ) xxmaj sent xxmaj mee xxmaj oh xxup yea ! xxmaj lol xxmaj but xxmaj anyway … i xxmaj miss xxmaj my xxmaj xxunk xxpad xxpad xxpad xxpad xxpad xxpad xxpad xxpad xxpad xxpad xxpad xxpad xxpad xxpad</td>\n",
       "      <td>0</td>\n",
       "      <td>0</td>\n",
       "    </tr>\n",
       "    <tr>\n",
       "      <th>3</th>\n",
       "      <td>xxbos xxmaj i 'm goin to xxup l.a . tomorrow night … .have to leave my puppies i do n't how xxmaj i 'm going to deal . xxup but xxup i 'm xxup going xxup to xxup the xxup beach xxrep 3 ! i will deal ! xxpad xxpad xxpad xxpad xxpad xxpad xxpad xxpad xxpad xxpad xxpad xxpad xxpad xxpad xxpad</td>\n",
       "      <td>0</td>\n",
       "      <td>0</td>\n",
       "    </tr>\n",
       "    <tr>\n",
       "      <th>4</th>\n",
       "      <td>xxbos xxmaj i 'm back xxrep 3 ! xxmaj i 'm # alive &amp; &amp; # kicking ! xxmaj no xxunk , no xxunk ! xxmaj xxunk * in one piece * xxup jb was … overrated . xxmaj but had a great time with my ladies ! xxpad xxpad xxpad xxpad xxpad xxpad xxpad xxpad xxpad xxpad xxpad xxpad xxpad xxpad xxpad</td>\n",
       "      <td>4</td>\n",
       "      <td>4</td>\n",
       "    </tr>\n",
       "    <tr>\n",
       "      <th>5</th>\n",
       "      <td>xxbos xxmaj i 'm tired of the sun . xxmaj it 's not going away for days yet , but xxmaj i 'm done with it . xxmaj where can i go to escape ? xxmaj sad , it 's only in the mid 70 's xxpad xxpad xxpad xxpad xxpad xxpad xxpad xxpad xxpad xxpad xxpad xxpad xxpad xxpad xxpad xxpad xxpad</td>\n",
       "      <td>0</td>\n",
       "      <td>0</td>\n",
       "    </tr>\n",
       "    <tr>\n",
       "      <th>6</th>\n",
       "      <td>xxbos xxmaj there was never any reason for me to be hopeful . xxmaj i 'll just let the tide take me . xxmaj one day xxmaj i 'll get &amp; ' her . &amp; ' xxmaj when i do , this will be silly … xxpad xxpad xxpad xxpad xxpad xxpad xxpad xxpad xxpad xxpad xxpad xxpad xxpad xxpad xxpad xxpad xxpad</td>\n",
       "      <td>0</td>\n",
       "      <td>0</td>\n",
       "    </tr>\n",
       "    <tr>\n",
       "      <th>7</th>\n",
       "      <td>xxbos xxmaj lemme find out xxunk is on xxmaj miss xxmaj twitter xxrep 3 ! xxmaj lol … xxrep 3 a xxup nd i wanted to bowl last nite so bad n u ai n't txt bak ! xxup i 'm xxup over xxup it ! xxpad xxpad xxpad xxpad xxpad xxpad xxpad xxpad xxpad xxpad xxpad xxpad xxpad xxpad xxpad xxpad xxpad</td>\n",
       "      <td>0</td>\n",
       "      <td>0</td>\n",
       "    </tr>\n",
       "    <tr>\n",
       "      <th>8</th>\n",
       "      <td>xxbos xxmaj family 's gone … .. i 'm all alone … … w xxrep 3 o h xxrep 3 o xxrep 5 ! xxup lol xxmaj unfortunately , i have lots of cleaning to do xxmaj time to pop in xxup xxunk and start … xxpad xxpad xxpad xxpad xxpad xxpad xxpad xxpad xxpad xxpad xxpad xxpad xxpad xxpad xxpad xxpad xxpad</td>\n",
       "      <td>0</td>\n",
       "      <td>0</td>\n",
       "    </tr>\n",
       "  </tbody>\n",
       "</table>"
      ],
      "text/plain": [
       "<IPython.core.display.HTML object>"
      ]
     },
     "metadata": {},
     "output_type": "display_data"
    }
   ],
   "source": [
    "learn.show_results()"
   ]
  },
  {
   "cell_type": "code",
   "execution_count": 17,
   "metadata": {
    "ExecuteTime": {
     "end_time": "2020-08-26T01:29:59.792844Z",
     "start_time": "2020-08-26T01:29:50.291493Z"
    }
   },
   "outputs": [
    {
     "data": {
      "text/html": [
       "<table border=\"1\" class=\"dataframe\">\n",
       "  <thead>\n",
       "    <tr style=\"text-align: left;\">\n",
       "      <th>epoch</th>\n",
       "      <th>train_loss</th>\n",
       "      <th>valid_loss</th>\n",
       "      <th>accuracy</th>\n",
       "      <th>time</th>\n",
       "    </tr>\n",
       "  </thead>\n",
       "  <tbody>\n",
       "    <tr>\n",
       "      <td>0</td>\n",
       "      <td>0.420367</td>\n",
       "      <td>0.404707</td>\n",
       "      <td>0.811150</td>\n",
       "      <td>01:23</td>\n",
       "    </tr>\n",
       "  </tbody>\n",
       "</table>"
      ],
      "text/plain": [
       "<IPython.core.display.HTML object>"
      ]
     },
     "metadata": {},
     "output_type": "display_data"
    }
   ],
   "source": [
    "learn.fit_one_cycle(1, slice(1e-4/(2.6**4),1e-4))"
   ]
  },
  {
   "cell_type": "code",
   "execution_count": 18,
   "metadata": {
    "ExecuteTime": {
     "end_time": "2020-08-26T01:30:09.403385Z",
     "start_time": "2020-08-26T01:29:59.794993Z"
    }
   },
   "outputs": [
    {
     "data": {
      "text/html": [
       "<table border=\"1\" class=\"dataframe\">\n",
       "  <thead>\n",
       "    <tr style=\"text-align: left;\">\n",
       "      <th>epoch</th>\n",
       "      <th>train_loss</th>\n",
       "      <th>valid_loss</th>\n",
       "      <th>accuracy</th>\n",
       "      <th>time</th>\n",
       "    </tr>\n",
       "  </thead>\n",
       "  <tbody>\n",
       "    <tr>\n",
       "      <td>0</td>\n",
       "      <td>0.409222</td>\n",
       "      <td>0.403688</td>\n",
       "      <td>0.811150</td>\n",
       "      <td>01:23</td>\n",
       "    </tr>\n",
       "  </tbody>\n",
       "</table>"
      ],
      "text/plain": [
       "<IPython.core.display.HTML object>"
      ]
     },
     "metadata": {},
     "output_type": "display_data"
    }
   ],
   "source": [
    "learn.fit_one_cycle(1, slice(1e-4/(2.6**4),1e-4))"
   ]
  },
  {
   "cell_type": "code",
   "execution_count": 19,
   "metadata": {
    "ExecuteTime": {
     "end_time": "2020-08-26T02:24:20.627634Z",
     "start_time": "2020-08-26T02:24:17.097990Z"
    }
   },
   "outputs": [
    {
     "data": {
      "text/html": [],
      "text/plain": [
       "<IPython.core.display.HTML object>"
      ]
     },
     "metadata": {},
     "output_type": "display_data"
    }
   ],
   "source": [
    "preds = learn.get_preds()"
   ]
  },
  {
   "cell_type": "code",
   "execution_count": 20,
   "metadata": {
    "ExecuteTime": {
     "end_time": "2020-08-26T02:28:07.876269Z",
     "start_time": "2020-08-26T02:28:07.871283Z"
    }
   },
   "outputs": [
    {
     "data": {
      "text/plain": [
       "tensor([[0.0173, 0.9827],\n",
       "        [0.7907, 0.2093],\n",
       "        [0.8137, 0.1863],\n",
       "        [0.8775, 0.1225]])"
      ]
     },
     "execution_count": 20,
     "metadata": {},
     "output_type": "execute_result"
    }
   ],
   "source": [
    "preds[0][:4]"
   ]
  },
  {
   "cell_type": "code",
   "execution_count": 21,
   "metadata": {
    "ExecuteTime": {
     "end_time": "2020-08-26T02:23:20.760555Z",
     "start_time": "2020-08-26T02:23:14.822573Z"
    }
   },
   "outputs": [
    {
     "data": {
      "text/html": [],
      "text/plain": [
       "<IPython.core.display.HTML object>"
      ]
     },
     "metadata": {},
     "output_type": "display_data"
    }
   ],
   "source": [
    "interp = ClassificationInterpretation.from_learner(learn)"
   ]
  },
  {
   "cell_type": "code",
   "execution_count": 22,
   "metadata": {
    "ExecuteTime": {
     "end_time": "2020-08-26T02:23:20.870170Z",
     "start_time": "2020-08-26T02:23:20.763032Z"
    }
   },
   "outputs": [
    {
     "data": {
      "image/png": "[encoded data removed]",
      "text/plain": [
       "<Figure size 432x288 with 1 Axes>"
      ]
     },
     "metadata": {
      "needs_background": "light"
     },
     "output_type": "display_data"
    }
   ],
   "source": [
    "interp.plot_confusion_matrix()"
   ]
  },
  {
   "cell_type": "code",
   "execution_count": 23,
   "metadata": {},
   "outputs": [
    {
     "data": {
      "image/png": "[encoded data removed]",
      "text/plain": [
       "<Figure size 432x288 with 1 Axes>"
      ]
     },
     "metadata": {
      "needs_background": "light"
     },
     "output_type": "display_data"
    }
   ],
   "source": [
    "interp.plot_confusion_matrix(normalize='true')"
   ]
  },
  {
   "cell_type": "code",
   "execution_count": 81,
   "metadata": {
    "ExecuteTime": {
     "end_time": "2020-08-26T02:23:20.877993Z",
     "start_time": "2020-08-26T02:23:20.871972Z"
    }
   },
   "outputs": [
    {
     "data": {
      "text/plain": [
       "torch.return_types.topk(\n",
       "values=tensor([6.6708e+00, 6.3969e+00, 6.2744e+00,  ..., 2.2531e-04, 1.8549e-04,\n",
       "        1.2493e-04]),\n",
       "indices=tensor([ 7857,  2312, 17645,  ..., 11439, 19749, 17233]))"
      ]
     },
     "execution_count": 81,
     "metadata": {},
     "output_type": "execute_result"
    }
   ],
   "source": [
    "interp.top_losses()"
   ]
  },
  {
   "cell_type": "code",
   "execution_count": null,
   "metadata": {},
   "outputs": [],
   "source": []
  }
 ],
 "metadata": {
  "kernelspec": {
   "display_name": "Python 3",
   "language": "python",
   "name": "python3"
  },
  "language_info": {
   "codemirror_mode": {
    "name": "ipython",
    "version": 3
   },
   "file_extension": ".py",
   "mimetype": "text/x-python",
   "name": "python",
   "nbconvert_exporter": "python",
   "pygments_lexer": "ipython3",
   "version": "3.7.6"
  },
  "toc": {
   "base_numbering": 1,
   "nav_menu": {},
   "number_sections": true,
   "sideBar": true,
   "skip_h1_title": false,
   "title_cell": "Table of Contents",
   "title_sidebar": "Contents",
   "toc_cell": false,
   "toc_position": {},
   "toc_section_display": true,
   "toc_window_display": false
  }
 },
 "nbformat": 4,
 "nbformat_minor": 4
}
