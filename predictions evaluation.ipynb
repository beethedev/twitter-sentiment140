{
 "cells": [
  {
   "cell_type": "code",
   "execution_count": 1,
   "metadata": {},
   "outputs": [],
   "source": [
    "from fastai2.text.all import *"
   ]
  },
  {
   "cell_type": "code",
   "execution_count": 2,
   "metadata": {},
   "outputs": [],
   "source": [
    "df = pd.read_csv('data/tweets_100thou.csv')"
   ]
  },
  {
   "cell_type": "markdown",
   "metadata": {},
   "source": [
    "## Create learner and load saved model"
   ]
  },
  {
   "cell_type": "code",
   "execution_count": 3,
   "metadata": {},
   "outputs": [
    {
     "data": {
      "text/html": [],
      "text/plain": [
       "<IPython.core.display.HTML object>"
      ]
     },
     "metadata": {},
     "output_type": "display_data"
    },
    {
     "name": "stderr",
     "output_type": "stream",
     "text": [
      "/opt/conda/envs/fastai/lib/python3.8/site-packages/numpy/core/_asarray.py:83: VisibleDeprecationWarning: Creating an ndarray from ragged nested sequences (which is a list-or-tuple of lists-or-tuples-or ndarrays with different lengths or shapes) is deprecated. If you meant to do this, you must specify 'dtype=object' when creating the ndarray\n",
      "  return array(a, dtype, copy=False, order=order)\n"
     ]
    }
   ],
   "source": [
    "dls_lm = TextDataLoaders.from_df(df, is_lm=True, text_col='text', valid_pct=0.2, bs=128, shuffle_train=False)"
   ]
  },
  {
   "cell_type": "code",
   "execution_count": null,
   "metadata": {},
   "outputs": [
    {
     "data": {
      "text/html": [],
      "text/plain": [
       "<IPython.core.display.HTML object>"
      ]
     },
     "metadata": {},
     "output_type": "display_data"
    },
    {
     "name": "stderr",
     "output_type": "stream",
     "text": [
      "/opt/conda/envs/fastai/lib/python3.8/site-packages/numpy/core/_asarray.py:83: VisibleDeprecationWarning: Creating an ndarray from ragged nested sequences (which is a list-or-tuple of lists-or-tuples-or ndarrays with different lengths or shapes) is deprecated. If you meant to do this, you must specify 'dtype=object' when creating the ndarray\n",
      "  return array(a, dtype, copy=False, order=order)\n"
     ]
    }
   ],
   "source": [
    "dls_clas = TextDataLoaders.from_df(df, valid_col=\"is_valid\", text_col='text', label_col='target',shuffle_train=False, text_vocab=dls_lm.vocab)"
   ]
  },
  {
   "cell_type": "code",
   "execution_count": null,
   "metadata": {},
   "outputs": [],
   "source": [
    "learn = text_classifier_learner(dls_clas, AWD_LSTM, drop_mult=0.5, metrics=accuracy)"
   ]
  },
  {
   "cell_type": "code",
   "execution_count": null,
   "metadata": {},
   "outputs": [],
   "source": [
    "learn = learn.load('classifier_81')"
   ]
  },
  {
   "cell_type": "markdown",
   "metadata": {},
   "source": [
    "## Evaluating the learner"
   ]
  },
  {
   "cell_type": "code",
   "execution_count": 217,
   "metadata": {},
   "outputs": [
    {
     "data": {
      "text/html": [],
      "text/plain": [
       "<IPython.core.display.HTML object>"
      ]
     },
     "metadata": {},
     "output_type": "display_data"
    }
   ],
   "source": [
    "interp = ClassificationInterpretation.from_learner(learn)"
   ]
  },
  {
   "cell_type": "code",
   "execution_count": 218,
   "metadata": {},
   "outputs": [
    {
     "data": {
      "image/png": "[encoded data removed]",
      "text/plain": [
       "<Figure size 432x288 with 1 Axes>"
      ]
     },
     "metadata": {
      "needs_background": "light"
     },
     "output_type": "display_data"
    }
   ],
   "source": [
    "interp.plot_confusion_matrix()"
   ]
  },
  {
   "cell_type": "code",
   "execution_count": 219,
   "metadata": {},
   "outputs": [
    {
     "data": {
      "text/html": [
       "<table border=\"1\" class=\"dataframe\">\n",
       "  <thead>\n",
       "    <tr style=\"text-align: right;\">\n",
       "      <th></th>\n",
       "      <th>input</th>\n",
       "      <th>target</th>\n",
       "      <th>predicted</th>\n",
       "      <th>probability</th>\n",
       "      <th>loss</th>\n",
       "    </tr>\n",
       "  </thead>\n",
       "  <tbody>\n",
       "    <tr>\n",
       "      <th>0</th>\n",
       "      <td>xxbos last day of highschool tomorrow xxrep 4 ! so sad xxpad xxpad xxpad xxpad xxpad xxpad xxpad xxpad xxpad xxpad xxpad xxpad xxpad xxpad xxpad xxpad xxpad xxpad xxpad xxpad xxpad xxpad xxpad xxpad xxpad xxpad</td>\n",
       "      <td>4</td>\n",
       "      <td>0</td>\n",
       "      <td>0.9989833235740662</td>\n",
       "      <td>6.8912787437438965</td>\n",
       "    </tr>\n",
       "    <tr>\n",
       "      <th>1</th>\n",
       "      <td>xxbos xxunk cool ! thank you thank you xxpad xxpad xxpad xxpad xxpad xxpad xxpad xxpad xxpad xxpad xxpad xxpad xxpad xxpad xxpad xxpad xxpad xxpad xxpad xxpad xxpad xxpad xxpad xxpad xxpad xxpad xxpad xxpad xxpad</td>\n",
       "      <td>0</td>\n",
       "      <td>4</td>\n",
       "      <td>0.9989431500434875</td>\n",
       "      <td>6.8524675369262695</td>\n",
       "    </tr>\n",
       "    <tr>\n",
       "      <th>2</th>\n",
       "      <td>xxbos xxmaj bummed out becuase my twin boys championship baseball game just got cancelled due to wet field . xxmaj stinkin stinks . xxpad xxpad xxpad xxpad xxpad xxpad xxpad xxpad xxpad xxpad xxpad xxpad xxpad xxpad</td>\n",
       "      <td>4</td>\n",
       "      <td>0</td>\n",
       "      <td>0.9979625940322876</td>\n",
       "      <td>6.196087837219238</td>\n",
       "    </tr>\n",
       "    <tr>\n",
       "      <th>3</th>\n",
       "      <td>xxbos just woke up wondering why my itunes wo nt play songs and why my printer went spaz at four this morning .. xxpad xxpad xxpad xxpad xxpad xxpad xxpad xxpad xxpad xxpad xxpad xxpad xxpad xxpad</td>\n",
       "      <td>4</td>\n",
       "      <td>0</td>\n",
       "      <td>0.9978423118591309</td>\n",
       "      <td>6.138705253601074</td>\n",
       "    </tr>\n",
       "    <tr>\n",
       "      <th>4</th>\n",
       "      <td>xxbos xxmaj waiting for next storm so i can kite in xxmaj sydney xxmaj heading to cairns soon . xxmaj see green island http : / / xxrep 3 w xxunk / graphs / xxunk xxmaj nice</td>\n",
       "      <td>0</td>\n",
       "      <td>4</td>\n",
       "      <td>0.9938675761222839</td>\n",
       "      <td>5.094171524047852</td>\n",
       "    </tr>\n",
       "  </tbody>\n",
       "</table>"
      ],
      "text/plain": [
       "<IPython.core.display.HTML object>"
      ]
     },
     "metadata": {},
     "output_type": "display_data"
    }
   ],
   "source": [
    "df_toplosses = interp.plot_top_losses(5)"
   ]
  },
  {
   "cell_type": "code",
   "execution_count": 220,
   "metadata": {},
   "outputs": [],
   "source": [
    "losses = interp.top_losses()"
   ]
  },
  {
   "cell_type": "markdown",
   "metadata": {},
   "source": [
    "## Getting predictions"
   ]
  },
  {
   "cell_type": "code",
   "execution_count": 221,
   "metadata": {},
   "outputs": [
    {
     "data": {
      "text/html": [],
      "text/plain": [
       "<IPython.core.display.HTML object>"
      ]
     },
     "metadata": {},
     "output_type": "display_data"
    }
   ],
   "source": [
    "probabilities, targets = learn.get_preds(dl= dls_clas.valid)"
   ]
  },
  {
   "cell_type": "code",
   "execution_count": 222,
   "metadata": {},
   "outputs": [
    {
     "data": {
      "text/html": [],
      "text/plain": [
       "<IPython.core.display.HTML object>"
      ]
     },
     "metadata": {},
     "output_type": "display_data"
    },
    {
     "data": {
      "text/plain": [
       "('0', tensor(0), tensor([0.8676, 0.1324]))"
      ]
     },
     "execution_count": 222,
     "metadata": {},
     "output_type": "execute_result"
    }
   ],
   "source": [
    "learn.predict('grr boys annoy the shit out of me, why cant i just hang with mah girls all the time')"
   ]
  },
  {
   "cell_type": "code",
   "execution_count": 223,
   "metadata": {},
   "outputs": [
    {
     "data": {
      "text/html": [],
      "text/plain": [
       "<IPython.core.display.HTML object>"
      ]
     },
     "metadata": {},
     "output_type": "display_data"
    },
    {
     "data": {
      "text/plain": [
       "('4', tensor(1), tensor([0.0060, 0.9940]))"
      ]
     },
     "execution_count": 223,
     "metadata": {},
     "output_type": "execute_result"
    }
   ],
   "source": [
    "learn.predict('this is totally awesome')"
   ]
  },
  {
   "cell_type": "code",
   "execution_count": 224,
   "metadata": {},
   "outputs": [
    {
     "data": {
      "text/plain": [
       "1"
      ]
     },
     "execution_count": 224,
     "metadata": {},
     "output_type": "execute_result"
    }
   ],
   "source": [
    "convert(df_pred['probability_0'][0], df_pred['probability_4'][0])"
   ]
  },
  {
   "cell_type": "code",
   "execution_count": 225,
   "metadata": {},
   "outputs": [],
   "source": [
    "df_pred = pd.DataFrame(data = {\n",
    "    'probability_0': np.array(probabilities[:,0]),\n",
    "    'probability_4': np.array(probabilities[:,1]),\n",
    "    'targets': np.array(targets)\n",
    "})"
   ]
  },
  {
   "cell_type": "code",
   "execution_count": 226,
   "metadata": {},
   "outputs": [],
   "source": [
    "df_pred['preds'] = ''"
   ]
  },
  {
   "cell_type": "code",
   "execution_count": 227,
   "metadata": {},
   "outputs": [],
   "source": [
    "df_pred['preds'] = np.where((df_pred['probability_0'] > df_pred['probability_4']), 0, 1)"
   ]
  },
  {
   "cell_type": "code",
   "execution_count": 228,
   "metadata": {},
   "outputs": [
    {
     "data": {
      "text/html": [
       "<div>\n",
       "<style scoped>\n",
       "    .dataframe tbody tr th:only-of-type {\n",
       "        vertical-align: middle;\n",
       "    }\n",
       "\n",
       "    .dataframe tbody tr th {\n",
       "        vertical-align: top;\n",
       "    }\n",
       "\n",
       "    .dataframe thead th {\n",
       "        text-align: right;\n",
       "    }\n",
       "</style>\n",
       "<table border=\"1\" class=\"dataframe\">\n",
       "  <thead>\n",
       "    <tr style=\"text-align: right;\">\n",
       "      <th></th>\n",
       "      <th>probability_0</th>\n",
       "      <th>probability_4</th>\n",
       "      <th>targets</th>\n",
       "      <th>preds</th>\n",
       "    </tr>\n",
       "  </thead>\n",
       "  <tbody>\n",
       "    <tr>\n",
       "      <th>0</th>\n",
       "      <td>0.012769</td>\n",
       "      <td>0.987231</td>\n",
       "      <td>1</td>\n",
       "      <td>1</td>\n",
       "    </tr>\n",
       "    <tr>\n",
       "      <th>1</th>\n",
       "      <td>0.906533</td>\n",
       "      <td>0.093467</td>\n",
       "      <td>0</td>\n",
       "      <td>0</td>\n",
       "    </tr>\n",
       "    <tr>\n",
       "      <th>2</th>\n",
       "      <td>0.610903</td>\n",
       "      <td>0.389097</td>\n",
       "      <td>0</td>\n",
       "      <td>0</td>\n",
       "    </tr>\n",
       "    <tr>\n",
       "      <th>3</th>\n",
       "      <td>0.867641</td>\n",
       "      <td>0.132359</td>\n",
       "      <td>1</td>\n",
       "      <td>0</td>\n",
       "    </tr>\n",
       "    <tr>\n",
       "      <th>4</th>\n",
       "      <td>0.688572</td>\n",
       "      <td>0.311428</td>\n",
       "      <td>1</td>\n",
       "      <td>0</td>\n",
       "    </tr>\n",
       "  </tbody>\n",
       "</table>\n",
       "</div>"
      ],
      "text/plain": [
       "   probability_0  probability_4  targets  preds\n",
       "0       0.012769       0.987231        1      1\n",
       "1       0.906533       0.093467        0      0\n",
       "2       0.610903       0.389097        0      0\n",
       "3       0.867641       0.132359        1      0\n",
       "4       0.688572       0.311428        1      0"
      ]
     },
     "execution_count": 228,
     "metadata": {},
     "output_type": "execute_result"
    }
   ],
   "source": [
    "df_pred.head()"
   ]
  },
  {
   "cell_type": "markdown",
   "metadata": {},
   "source": [
    "the following line of code compare the confusion matrix to the confusion matrix generated from the classifier"
   ]
  },
  {
   "cell_type": "code",
   "execution_count": 229,
   "metadata": {},
   "outputs": [
    {
     "data": {
      "text/plain": [
       "array([[8389, 1767],\n",
       "       [2011, 7833]])"
      ]
     },
     "execution_count": 229,
     "metadata": {},
     "output_type": "execute_result"
    }
   ],
   "source": [
    "from sklearn.metrics import confusion_matrix\n",
    "confusion_matrix(df_pred['targets'], df_pred['preds'])"
   ]
  },
  {
   "cell_type": "markdown",
   "metadata": {},
   "source": [
    "## merging predictions with validation dataset"
   ]
  },
  {
   "cell_type": "code",
   "execution_count": 230,
   "metadata": {
    "scrolled": true
   },
   "outputs": [],
   "source": [
    "df_valid = df[df['is_valid'] == True ]"
   ]
  },
  {
   "cell_type": "code",
   "execution_count": 231,
   "metadata": {},
   "outputs": [],
   "source": [
    "df_valid = df_valid[['target', 'text', 'is_valid']].reset_index(drop=True)"
   ]
  },
  {
   "cell_type": "code",
   "execution_count": 232,
   "metadata": {},
   "outputs": [],
   "source": [
    "df_eval = df_valid.join(df_pred)"
   ]
  },
  {
   "cell_type": "markdown",
   "metadata": {},
   "source": [
    "Note: 'targets' is the expected target from the `get_preds()` method. It is expected to match up exactly with 'target' col from the validation set"
   ]
  },
  {
   "cell_type": "code",
   "execution_count": 233,
   "metadata": {
    "scrolled": true
   },
   "outputs": [
    {
     "data": {
      "text/html": [
       "<div>\n",
       "<style scoped>\n",
       "    .dataframe tbody tr th:only-of-type {\n",
       "        vertical-align: middle;\n",
       "    }\n",
       "\n",
       "    .dataframe tbody tr th {\n",
       "        vertical-align: top;\n",
       "    }\n",
       "\n",
       "    .dataframe thead th {\n",
       "        text-align: right;\n",
       "    }\n",
       "</style>\n",
       "<table border=\"1\" class=\"dataframe\">\n",
       "  <thead>\n",
       "    <tr style=\"text-align: right;\">\n",
       "      <th></th>\n",
       "      <th>target</th>\n",
       "      <th>text</th>\n",
       "      <th>is_valid</th>\n",
       "      <th>probability_0</th>\n",
       "      <th>probability_4</th>\n",
       "      <th>targets</th>\n",
       "      <th>preds</th>\n",
       "    </tr>\n",
       "  </thead>\n",
       "  <tbody>\n",
       "    <tr>\n",
       "      <th>0</th>\n",
       "      <td>4</td>\n",
       "      <td>Making pasta and insalata blu with mom</td>\n",
       "      <td>True</td>\n",
       "      <td>0.012769</td>\n",
       "      <td>0.987231</td>\n",
       "      <td>1</td>\n",
       "      <td>1</td>\n",
       "    </tr>\n",
       "    <tr>\n",
       "      <th>1</th>\n",
       "      <td>0</td>\n",
       "      <td>Worst. Day. Ever. Needing some legitimate hug action. Show starts in 30</td>\n",
       "      <td>True</td>\n",
       "      <td>0.906533</td>\n",
       "      <td>0.093467</td>\n",
       "      <td>0</td>\n",
       "      <td>0</td>\n",
       "    </tr>\n",
       "    <tr>\n",
       "      <th>2</th>\n",
       "      <td>0</td>\n",
       "      <td>@HonnyDipp oh no today is not a good day. Aw doll</td>\n",
       "      <td>True</td>\n",
       "      <td>0.610903</td>\n",
       "      <td>0.389097</td>\n",
       "      <td>0</td>\n",
       "      <td>0</td>\n",
       "    </tr>\n",
       "    <tr>\n",
       "      <th>3</th>\n",
       "      <td>4</td>\n",
       "      <td>grr boys annoy the shit out of me, why cant i just hang with mah girls all the time</td>\n",
       "      <td>True</td>\n",
       "      <td>0.867641</td>\n",
       "      <td>0.132359</td>\n",
       "      <td>1</td>\n",
       "      <td>0</td>\n",
       "    </tr>\n",
       "    <tr>\n",
       "      <th>4</th>\n",
       "      <td>4</td>\n",
       "      <td>FUCK YOU LORD OF THE FLIES I HATE YOU - bubbleant: O.O You hate it?! I loved it!  lol But I read it a long... http://tumblr.com/xbw1t3cwz</td>\n",
       "      <td>True</td>\n",
       "      <td>0.688572</td>\n",
       "      <td>0.311428</td>\n",
       "      <td>1</td>\n",
       "      <td>0</td>\n",
       "    </tr>\n",
       "  </tbody>\n",
       "</table>\n",
       "</div>"
      ],
      "text/plain": [
       "   target  \\\n",
       "0       4   \n",
       "1       0   \n",
       "2       0   \n",
       "3       4   \n",
       "4       4   \n",
       "\n",
       "                                                                                                                                        text  \\\n",
       "0                                                                                                    Making pasta and insalata blu with mom    \n",
       "1                                                                   Worst. Day. Ever. Needing some legitimate hug action. Show starts in 30    \n",
       "2                                                                                         @HonnyDipp oh no today is not a good day. Aw doll    \n",
       "3                                                       grr boys annoy the shit out of me, why cant i just hang with mah girls all the time    \n",
       "4  FUCK YOU LORD OF THE FLIES I HATE YOU - bubbleant: O.O You hate it?! I loved it!  lol But I read it a long... http://tumblr.com/xbw1t3cwz   \n",
       "\n",
       "   is_valid  probability_0  probability_4  targets  preds  \n",
       "0      True       0.012769       0.987231        1      1  \n",
       "1      True       0.906533       0.093467        0      0  \n",
       "2      True       0.610903       0.389097        0      0  \n",
       "3      True       0.867641       0.132359        1      0  \n",
       "4      True       0.688572       0.311428        1      0  "
      ]
     },
     "execution_count": 233,
     "metadata": {},
     "output_type": "execute_result"
    }
   ],
   "source": [
    "df_eval.head()"
   ]
  },
  {
   "cell_type": "markdown",
   "metadata": {},
   "source": [
    "mapping the targets and preditions to the original labels"
   ]
  },
  {
   "cell_type": "code",
   "execution_count": 234,
   "metadata": {},
   "outputs": [],
   "source": [
    "df_eval['preds'] = df_eval['preds'].replace(1, 4)\n",
    "df_eval['targets'] = df_eval['targets'].replace(1, 4)"
   ]
  },
  {
   "cell_type": "markdown",
   "metadata": {},
   "source": [
    "selecting the dataframe with wrong predicitions"
   ]
  },
  {
   "cell_type": "code",
   "execution_count": 235,
   "metadata": {},
   "outputs": [],
   "source": [
    "df_wrong = df_eval[df_eval['target'] != df_eval['preds']]"
   ]
  },
  {
   "cell_type": "code",
   "execution_count": 236,
   "metadata": {},
   "outputs": [
    {
     "data": {
      "text/html": [
       "<div>\n",
       "<style scoped>\n",
       "    .dataframe tbody tr th:only-of-type {\n",
       "        vertical-align: middle;\n",
       "    }\n",
       "\n",
       "    .dataframe tbody tr th {\n",
       "        vertical-align: top;\n",
       "    }\n",
       "\n",
       "    .dataframe thead th {\n",
       "        text-align: right;\n",
       "    }\n",
       "</style>\n",
       "<table border=\"1\" class=\"dataframe\">\n",
       "  <thead>\n",
       "    <tr style=\"text-align: right;\">\n",
       "      <th></th>\n",
       "      <th>target</th>\n",
       "      <th>text</th>\n",
       "      <th>is_valid</th>\n",
       "      <th>probability_0</th>\n",
       "      <th>probability_4</th>\n",
       "      <th>targets</th>\n",
       "      <th>preds</th>\n",
       "    </tr>\n",
       "  </thead>\n",
       "  <tbody>\n",
       "    <tr>\n",
       "      <th>3</th>\n",
       "      <td>4</td>\n",
       "      <td>grr boys annoy the shit out of me, why cant i just hang with mah girls all the time</td>\n",
       "      <td>True</td>\n",
       "      <td>0.867641</td>\n",
       "      <td>0.132359</td>\n",
       "      <td>4</td>\n",
       "      <td>0</td>\n",
       "    </tr>\n",
       "    <tr>\n",
       "      <th>4</th>\n",
       "      <td>4</td>\n",
       "      <td>FUCK YOU LORD OF THE FLIES I HATE YOU - bubbleant: O.O You hate it?! I loved it!  lol But I read it a long... http://tumblr.com/xbw1t3cwz</td>\n",
       "      <td>True</td>\n",
       "      <td>0.688572</td>\n",
       "      <td>0.311428</td>\n",
       "      <td>4</td>\n",
       "      <td>0</td>\n",
       "    </tr>\n",
       "    <tr>\n",
       "      <th>9</th>\n",
       "      <td>0</td>\n",
       "      <td>home from school had the shitest day today</td>\n",
       "      <td>True</td>\n",
       "      <td>0.192823</td>\n",
       "      <td>0.807177</td>\n",
       "      <td>0</td>\n",
       "      <td>4</td>\n",
       "    </tr>\n",
       "    <tr>\n",
       "      <th>10</th>\n",
       "      <td>0</td>\n",
       "      <td>Is jelous Jennifer got to see Jeff Dunham</td>\n",
       "      <td>True</td>\n",
       "      <td>0.368201</td>\n",
       "      <td>0.631799</td>\n",
       "      <td>0</td>\n",
       "      <td>4</td>\n",
       "    </tr>\n",
       "    <tr>\n",
       "      <th>13</th>\n",
       "      <td>4</td>\n",
       "      <td>@esteffi movement after laying around like a couch potato for a few days is always nice! i chewed my first full meal today</td>\n",
       "      <td>True</td>\n",
       "      <td>0.524137</td>\n",
       "      <td>0.475863</td>\n",
       "      <td>4</td>\n",
       "      <td>0</td>\n",
       "    </tr>\n",
       "  </tbody>\n",
       "</table>\n",
       "</div>"
      ],
      "text/plain": [
       "    target  \\\n",
       "3        4   \n",
       "4        4   \n",
       "9        0   \n",
       "10       0   \n",
       "13       4   \n",
       "\n",
       "                                                                                                                                         text  \\\n",
       "3                                                        grr boys annoy the shit out of me, why cant i just hang with mah girls all the time    \n",
       "4   FUCK YOU LORD OF THE FLIES I HATE YOU - bubbleant: O.O You hate it?! I loved it!  lol But I read it a long... http://tumblr.com/xbw1t3cwz   \n",
       "9                                                                                                 home from school had the shitest day today    \n",
       "10                                                                                                 Is jelous Jennifer got to see Jeff Dunham    \n",
       "13                @esteffi movement after laying around like a couch potato for a few days is always nice! i chewed my first full meal today    \n",
       "\n",
       "    is_valid  probability_0  probability_4  targets  preds  \n",
       "3       True       0.867641       0.132359        4      0  \n",
       "4       True       0.688572       0.311428        4      0  \n",
       "9       True       0.192823       0.807177        0      4  \n",
       "10      True       0.368201       0.631799        0      4  \n",
       "13      True       0.524137       0.475863        4      0  "
      ]
     },
     "execution_count": 236,
     "metadata": {},
     "output_type": "execute_result"
    }
   ],
   "source": [
    "df_wrong.head()"
   ]
  },
  {
   "cell_type": "markdown",
   "metadata": {},
   "source": [
    "## Evaluating top losses"
   ]
  },
  {
   "cell_type": "code",
   "execution_count": 237,
   "metadata": {},
   "outputs": [
    {
     "data": {
      "text/plain": [
       "torch.return_types.topk(\n",
       "values=tensor([6.8913e+00, 6.8525e+00, 6.1961e+00,  ..., 9.1076e-05, 7.6294e-05,\n",
       "        3.9577e-05]),\n",
       "indices=tensor([ 7857,  2312,   773,  ...,  2776, 11439, 17233]))"
      ]
     },
     "execution_count": 237,
     "metadata": {},
     "output_type": "execute_result"
    }
   ],
   "source": [
    "losses"
   ]
  },
  {
   "cell_type": "code",
   "execution_count": 238,
   "metadata": {},
   "outputs": [],
   "source": [
    "df_loss = pd.DataFrame(data = {'values': np.array(losses[0])}, index =  np.array(losses[1]))"
   ]
  },
  {
   "cell_type": "markdown",
   "metadata": {},
   "source": [
    "### merging losses to predictions"
   ]
  },
  {
   "cell_type": "code",
   "execution_count": 239,
   "metadata": {},
   "outputs": [],
   "source": [
    "sorted_loss = df_eval.join(df_loss)"
   ]
  },
  {
   "cell_type": "code",
   "execution_count": 240,
   "metadata": {},
   "outputs": [],
   "source": [
    "sorted_loss = sorted_loss.sort_values('values', ascending=False)"
   ]
  },
  {
   "cell_type": "code",
   "execution_count": 241,
   "metadata": {},
   "outputs": [
    {
     "data": {
      "text/html": [
       "<div>\n",
       "<style scoped>\n",
       "    .dataframe tbody tr th:only-of-type {\n",
       "        vertical-align: middle;\n",
       "    }\n",
       "\n",
       "    .dataframe tbody tr th {\n",
       "        vertical-align: top;\n",
       "    }\n",
       "\n",
       "    .dataframe thead th {\n",
       "        text-align: right;\n",
       "    }\n",
       "</style>\n",
       "<table border=\"1\" class=\"dataframe\">\n",
       "  <thead>\n",
       "    <tr style=\"text-align: right;\">\n",
       "      <th></th>\n",
       "      <th>target</th>\n",
       "      <th>text</th>\n",
       "      <th>is_valid</th>\n",
       "      <th>probability_0</th>\n",
       "      <th>probability_4</th>\n",
       "      <th>targets</th>\n",
       "      <th>preds</th>\n",
       "      <th>values</th>\n",
       "    </tr>\n",
       "  </thead>\n",
       "  <tbody>\n",
       "    <tr>\n",
       "      <th>7857</th>\n",
       "      <td>4</td>\n",
       "      <td>last day of highschool tomorrow!!!! so sad</td>\n",
       "      <td>True</td>\n",
       "      <td>0.998983</td>\n",
       "      <td>0.001017</td>\n",
       "      <td>4</td>\n",
       "      <td>0</td>\n",
       "      <td>6.891279</td>\n",
       "    </tr>\n",
       "    <tr>\n",
       "      <th>2312</th>\n",
       "      <td>0</td>\n",
       "      <td>@theu4life219 cool! thank you thank you</td>\n",
       "      <td>True</td>\n",
       "      <td>0.001057</td>\n",
       "      <td>0.998943</td>\n",
       "      <td>0</td>\n",
       "      <td>4</td>\n",
       "      <td>6.852468</td>\n",
       "    </tr>\n",
       "    <tr>\n",
       "      <th>773</th>\n",
       "      <td>4</td>\n",
       "      <td>Bummed out becuase my twin boys championship baseball game just got cancelled due to wet field. Stinkin stinks.</td>\n",
       "      <td>True</td>\n",
       "      <td>0.997963</td>\n",
       "      <td>0.002037</td>\n",
       "      <td>4</td>\n",
       "      <td>0</td>\n",
       "      <td>6.196088</td>\n",
       "    </tr>\n",
       "    <tr>\n",
       "      <th>17645</th>\n",
       "      <td>4</td>\n",
       "      <td>just woke up  wondering why my itunes wont play songs and why my printer went spaz at four this morning..</td>\n",
       "      <td>True</td>\n",
       "      <td>0.997842</td>\n",
       "      <td>0.002158</td>\n",
       "      <td>4</td>\n",
       "      <td>0</td>\n",
       "      <td>6.138705</td>\n",
       "    </tr>\n",
       "    <tr>\n",
       "      <th>16906</th>\n",
       "      <td>0</td>\n",
       "      <td>Waiting for next storm so I can kite in Sydney   Heading to cairns soon. See green island http://www.seabreeze.com.au/graphs/qld2.asp Nice</td>\n",
       "      <td>True</td>\n",
       "      <td>0.006132</td>\n",
       "      <td>0.993868</td>\n",
       "      <td>0</td>\n",
       "      <td>4</td>\n",
       "      <td>5.094172</td>\n",
       "    </tr>\n",
       "  </tbody>\n",
       "</table>\n",
       "</div>"
      ],
      "text/plain": [
       "       target  \\\n",
       "7857        4   \n",
       "2312        0   \n",
       "773         4   \n",
       "17645       4   \n",
       "16906       0   \n",
       "\n",
       "                                                                                                                                             text  \\\n",
       "7857                                                                                                  last day of highschool tomorrow!!!! so sad    \n",
       "2312                                                                                                     @theu4life219 cool! thank you thank you    \n",
       "773                              Bummed out becuase my twin boys championship baseball game just got cancelled due to wet field. Stinkin stinks.    \n",
       "17645                                   just woke up  wondering why my itunes wont play songs and why my printer went spaz at four this morning..   \n",
       "16906  Waiting for next storm so I can kite in Sydney   Heading to cairns soon. See green island http://www.seabreeze.com.au/graphs/qld2.asp Nice   \n",
       "\n",
       "       is_valid  probability_0  probability_4  targets  preds    values  \n",
       "7857       True       0.998983       0.001017        4      0  6.891279  \n",
       "2312       True       0.001057       0.998943        0      4  6.852468  \n",
       "773        True       0.997963       0.002037        4      0  6.196088  \n",
       "17645      True       0.997842       0.002158        4      0  6.138705  \n",
       "16906      True       0.006132       0.993868        0      4  5.094172  "
      ]
     },
     "execution_count": 241,
     "metadata": {},
     "output_type": "execute_result"
    }
   ],
   "source": [
    "sorted_loss.head()"
   ]
  },
  {
   "cell_type": "markdown",
   "metadata": {},
   "source": [
    "### extracting wrong predictions with losses"
   ]
  },
  {
   "cell_type": "code",
   "execution_count": 242,
   "metadata": {},
   "outputs": [],
   "source": [
    "wrong_sorted_loss = sorted_loss[sorted_loss['target'] != sorted_loss['preds']]"
   ]
  },
  {
   "cell_type": "code",
   "execution_count": 243,
   "metadata": {},
   "outputs": [
    {
     "data": {
      "text/html": [
       "<div>\n",
       "<style scoped>\n",
       "    .dataframe tbody tr th:only-of-type {\n",
       "        vertical-align: middle;\n",
       "    }\n",
       "\n",
       "    .dataframe tbody tr th {\n",
       "        vertical-align: top;\n",
       "    }\n",
       "\n",
       "    .dataframe thead th {\n",
       "        text-align: right;\n",
       "    }\n",
       "</style>\n",
       "<table border=\"1\" class=\"dataframe\">\n",
       "  <thead>\n",
       "    <tr style=\"text-align: right;\">\n",
       "      <th></th>\n",
       "      <th>target</th>\n",
       "      <th>text</th>\n",
       "      <th>is_valid</th>\n",
       "      <th>probability_0</th>\n",
       "      <th>probability_4</th>\n",
       "      <th>targets</th>\n",
       "      <th>preds</th>\n",
       "      <th>values</th>\n",
       "    </tr>\n",
       "  </thead>\n",
       "  <tbody>\n",
       "    <tr>\n",
       "      <th>7857</th>\n",
       "      <td>4</td>\n",
       "      <td>last day of highschool tomorrow!!!! so sad</td>\n",
       "      <td>True</td>\n",
       "      <td>0.998983</td>\n",
       "      <td>0.001017</td>\n",
       "      <td>4</td>\n",
       "      <td>0</td>\n",
       "      <td>6.891279</td>\n",
       "    </tr>\n",
       "    <tr>\n",
       "      <th>2312</th>\n",
       "      <td>0</td>\n",
       "      <td>@theu4life219 cool! thank you thank you</td>\n",
       "      <td>True</td>\n",
       "      <td>0.001057</td>\n",
       "      <td>0.998943</td>\n",
       "      <td>0</td>\n",
       "      <td>4</td>\n",
       "      <td>6.852468</td>\n",
       "    </tr>\n",
       "    <tr>\n",
       "      <th>773</th>\n",
       "      <td>4</td>\n",
       "      <td>Bummed out becuase my twin boys championship baseball game just got cancelled due to wet field. Stinkin stinks.</td>\n",
       "      <td>True</td>\n",
       "      <td>0.997963</td>\n",
       "      <td>0.002037</td>\n",
       "      <td>4</td>\n",
       "      <td>0</td>\n",
       "      <td>6.196088</td>\n",
       "    </tr>\n",
       "    <tr>\n",
       "      <th>17645</th>\n",
       "      <td>4</td>\n",
       "      <td>just woke up  wondering why my itunes wont play songs and why my printer went spaz at four this morning..</td>\n",
       "      <td>True</td>\n",
       "      <td>0.997842</td>\n",
       "      <td>0.002158</td>\n",
       "      <td>4</td>\n",
       "      <td>0</td>\n",
       "      <td>6.138705</td>\n",
       "    </tr>\n",
       "    <tr>\n",
       "      <th>16906</th>\n",
       "      <td>0</td>\n",
       "      <td>Waiting for next storm so I can kite in Sydney   Heading to cairns soon. See green island http://www.seabreeze.com.au/graphs/qld2.asp Nice</td>\n",
       "      <td>True</td>\n",
       "      <td>0.006132</td>\n",
       "      <td>0.993868</td>\n",
       "      <td>0</td>\n",
       "      <td>4</td>\n",
       "      <td>5.094172</td>\n",
       "    </tr>\n",
       "  </tbody>\n",
       "</table>\n",
       "</div>"
      ],
      "text/plain": [
       "       target  \\\n",
       "7857        4   \n",
       "2312        0   \n",
       "773         4   \n",
       "17645       4   \n",
       "16906       0   \n",
       "\n",
       "                                                                                                                                             text  \\\n",
       "7857                                                                                                  last day of highschool tomorrow!!!! so sad    \n",
       "2312                                                                                                     @theu4life219 cool! thank you thank you    \n",
       "773                              Bummed out becuase my twin boys championship baseball game just got cancelled due to wet field. Stinkin stinks.    \n",
       "17645                                   just woke up  wondering why my itunes wont play songs and why my printer went spaz at four this morning..   \n",
       "16906  Waiting for next storm so I can kite in Sydney   Heading to cairns soon. See green island http://www.seabreeze.com.au/graphs/qld2.asp Nice   \n",
       "\n",
       "       is_valid  probability_0  probability_4  targets  preds    values  \n",
       "7857       True       0.998983       0.001017        4      0  6.891279  \n",
       "2312       True       0.001057       0.998943        0      4  6.852468  \n",
       "773        True       0.997963       0.002037        4      0  6.196088  \n",
       "17645      True       0.997842       0.002158        4      0  6.138705  \n",
       "16906      True       0.006132       0.993868        0      4  5.094172  "
      ]
     },
     "execution_count": 243,
     "metadata": {},
     "output_type": "execute_result"
    }
   ],
   "source": [
    "wrong_sorted_loss.head()"
   ]
  },
  {
   "cell_type": "markdown",
   "metadata": {},
   "source": [
    "Conclusion : Some errorneous classification is seen in the original classification of the text that may explain the high errors in the validation prediction."
   ]
  },
  {
   "cell_type": "code",
   "execution_count": null,
   "metadata": {},
   "outputs": [],
   "source": []
  }
 ],
 "metadata": {
  "kernelspec": {
   "display_name": "Python 3",
   "language": "python",
   "name": "python3"
  },
  "language_info": {
   "codemirror_mode": {
    "name": "ipython",
    "version": 3
   },
   "file_extension": ".py",
   "mimetype": "text/x-python",
   "name": "python",
   "nbconvert_exporter": "python",
   "pygments_lexer": "ipython3",
   "version": "3.8.5"
  },
  "toc": {
   "base_numbering": 1,
   "nav_menu": {},
   "number_sections": true,
   "sideBar": true,
   "skip_h1_title": false,
   "title_cell": "Table of Contents",
   "title_sidebar": "Contents",
   "toc_cell": false,
   "toc_position": {},
   "toc_section_display": true,
   "toc_window_display": false
  }
 },
 "nbformat": 4,
 "nbformat_minor": 4
}
