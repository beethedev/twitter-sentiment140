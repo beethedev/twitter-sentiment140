{
 "cells": [
  {
   "cell_type": "markdown",
   "metadata": {},
   "source": [
    "# Tweet Sentiment Analysis"
   ]
  },
  {
   "cell_type": "markdown",
   "metadata": {},
   "source": [
    "## Import Statements"
   ]
  },
  {
   "cell_type": "code",
   "execution_count": 1,
   "metadata": {
    "ExecuteTime": {
     "end_time": "2020-11-07T11:46:48.759006Z",
     "start_time": "2020-11-07T11:46:47.247391Z"
    }
   },
   "outputs": [],
   "source": [
    "from fastai2.text.all import *\n",
    "# import plotly.express as px"
   ]
  },
  {
   "cell_type": "code",
   "execution_count": 2,
   "metadata": {
    "ExecuteTime": {
     "end_time": "2020-11-07T11:46:49.993501Z",
     "start_time": "2020-11-07T11:46:48.760961Z"
    }
   },
   "outputs": [],
   "source": [
    "df = pd.read_csv('tweets_500thou.csv')"
   ]
  },
  {
   "cell_type": "code",
   "execution_count": 3,
   "metadata": {
    "ExecuteTime": {
     "end_time": "2020-11-05T01:29:39.974047Z",
     "start_time": "2020-11-05T01:29:39.967781Z"
    }
   },
   "outputs": [
    {
     "data": {
      "text/plain": [
       "Index(['target', 'id', 'date', 'flag', 'user', 'text'], dtype='object')"
      ]
     },
     "execution_count": 3,
     "metadata": {},
     "output_type": "execute_result"
    }
   ],
   "source": [
    "df.columns"
   ]
  },
  {
   "cell_type": "markdown",
   "metadata": {
    "heading_collapsed": true
   },
   "source": [
    "## Utilizing out of the box language model from `fastai`"
   ]
  },
  {
   "cell_type": "markdown",
   "metadata": {
    "hidden": true
   },
   "source": [
    "The standard `fastai` language model was build from all the non-trivial Wikipedia articles."
   ]
  },
  {
   "cell_type": "code",
   "execution_count": 6,
   "metadata": {
    "ExecuteTime": {
     "end_time": "2020-10-24T21:28:38.685168Z",
     "start_time": "2020-10-24T21:20:57.539674Z"
    },
    "hidden": true
   },
   "outputs": [
    {
     "data": {
      "text/html": [],
      "text/plain": [
       "<IPython.core.display.HTML object>"
      ]
     },
     "metadata": {},
     "output_type": "display_data"
    },
    {
     "name": "stderr",
     "output_type": "stream",
     "text": [
      "/opt/conda/envs/fastai/lib/python3.8/site-packages/numpy/core/_asarray.py:83: VisibleDeprecationWarning: Creating an ndarray from ragged nested sequences (which is a list-or-tuple of lists-or-tuples-or ndarrays with different lengths or shapes) is deprecated. If you meant to do this, you must specify 'dtype=object' when creating the ndarray\n",
      "  return array(a, dtype, copy=False, order=order)\n"
     ]
    }
   ],
   "source": [
    "dls = TextDataLoaders.from_df(df, text_col='text', label_col='target', \n",
    "                              shuffle_train=False, bs=128)"
   ]
  },
  {
   "cell_type": "code",
   "execution_count": 7,
   "metadata": {
    "ExecuteTime": {
     "end_time": "2020-10-24T21:28:39.113271Z",
     "start_time": "2020-10-24T21:28:38.686929Z"
    },
    "hidden": true
   },
   "outputs": [
    {
     "data": {
      "text/html": [
       "<table border=\"1\" class=\"dataframe\">\n",
       "  <thead>\n",
       "    <tr style=\"text-align: right;\">\n",
       "      <th></th>\n",
       "      <th>text</th>\n",
       "      <th>category</th>\n",
       "    </tr>\n",
       "  </thead>\n",
       "  <tbody>\n",
       "    <tr>\n",
       "      <th>0</th>\n",
       "      <td>xxbos xxunk à ® xxunk ® xxunk ® ¤à ® ¿à ® ° à ® xxunk ® ªà ® xxunk ® xxunk ® xxunk à ® ªà ® xxunk ® ¤à ® xxunk ! à ® xxunk ® xxunk ® ¤à ® ¿à ® ° à ® à¯?à ® à ® xxunk ® ° à ® © xxunk ® à¯?à ® xxunk ? à ® ",
       " à ® xxunk ® ¿à ® xxunk ? à ® ® à ® à¯?à ® xxunk ? xxunk</td>\n",
       "      <td>4</td>\n",
       "    </tr>\n",
       "    <tr>\n",
       "      <th>1</th>\n",
       "      <td>xxbos xxunk xxup do xxup it xxup do xxup it xxup do xxup it xxup do xxup it xxup do xxup it xxup do xxup it xxup do xxup it xxup do xxup it xxup do xxup it xxup do xxup it xxup do xxup it xxup do xxup it xxup do xxup it xxup do xxup it xxup do xxup it xxup do xxup it xxup do xxup it xxup do xxup it xxup do xxup it xxup do xxup it xxpad xxpad</td>\n",
       "      <td>4</td>\n",
       "    </tr>\n",
       "    <tr>\n",
       "      <th>2</th>\n",
       "      <td>xxbos # xxup bts is fallin ! ! # xxup bts # xxup bts # xxup bts # xxup bts # xxup bts # xxup bts # xxup bts # xxup bts # xxup bts # xxup bts # xxup bts # xxup bts # xxup bts # xxup bts # xxup bts # xxup bts # xxup bts # xxup bts # xxup bts # xxup bts # xxup bts # xxup bts # xxup bts xxpad xxpad xxpad xxpad xxpad xxpad xxpad</td>\n",
       "      <td>0</td>\n",
       "    </tr>\n",
       "    <tr>\n",
       "      <th>3</th>\n",
       "      <td>xxbos xxunk ? ° xxunk ° xxunk xxunk ",
       " xxunk  ▁ xxunk xxunk ° ì ¦ xxunk xxunk  ▁ xxunk xxunk ? ´ xxunk xxunk ° xxunk   xxunk … xxunk ì ¿   xxunk  ▁ ì ° xxunk xxunk ? ´ xxunk xxunk xxunk ° xxunk  ▁ xxunk xxunk xxunk xxunk ° xxunk   xxunk    ì ° xxunk ? ´ xxunk ",
       " xxunk xxunk  ▁ xxunk  ▁ xxunk ° xxunk … xxpad xxpad xxpad xxpad xxpad xxpad xxpad xxpad xxpad xxpad</td>\n",
       "      <td>4</td>\n",
       "    </tr>\n",
       "    <tr>\n",
       "      <th>4</th>\n",
       "      <td>xxbos xxup oh xxup em xxup f'ing g xxrep 4 e i xxup never xxup kne xxrep 3 w ! xxup never xxup would xxup have xxup thought xxup eve xxrep 4 r xxup in xxup my xxup lif xxrep 3 e ! xxup this xxup is s xxrep 4 o xxup crazy i xxup wa xxrep 3 n a xxup fxckin xxup cry xxup lol xxup jk xxup but xxup wow xxpad xxpad xxpad xxpad xxpad xxpad xxpad xxpad xxpad xxpad xxpad xxpad</td>\n",
       "      <td>0</td>\n",
       "    </tr>\n",
       "    <tr>\n",
       "      <th>5</th>\n",
       "      <td>xxbos ? ? ? ? ? ? ? ? ? ? ? ? ? ? ? ? ? ? ? ? ? ? ? ? ? ? ? ? ? ? ? ? ? ? ? ? ? ? ? ? ? ? ? ? ? ? ? ? ? ? ? ? ? ? ? ? ? ? ? ? ? ? ? ? take that xxpad xxpad xxpad xxpad xxpad xxpad xxpad xxpad xxpad xxpad xxpad xxpad xxpad xxpad xxpad xxpad xxpad</td>\n",
       "      <td>4</td>\n",
       "    </tr>\n",
       "    <tr>\n",
       "      <th>6</th>\n",
       "      <td>xxbos xxrep 4 ? , xxrep 6 ? xxrep 9 ? tweetie ? ? xxrep 10 ? xxrep 5 ? direct ' ? ( xxrep 3 ? xxrep 10 ? ) , xxrep 4 ? xxrep 3 ? ? ? xxrep 7 ? ? xxrep 4 ? xxrep 6 ? xxrep 3 ? xxrep 3 ? ? xxrep 4 ? xxrep 3 ? - xxrep 3 ? xxpad xxpad xxpad xxpad xxpad xxpad xxpad xxpad xxpad xxpad xxpad xxpad xxpad xxpad xxpad xxpad xxpad</td>\n",
       "      <td>0</td>\n",
       "    </tr>\n",
       "    <tr>\n",
       "      <th>7</th>\n",
       "      <td>xxbos xxmaj who xxmaj am i xxmaj lying ! ? ! i xxmaj know , xxmaj you xxmaj know , xxmaj we xxmaj all xxmaj know , xxmaj my xxmaj ass xxmaj is xxmaj still xxmaj gon na xxmaj be xxmaj up . xxmaj hehe . xxmaj my xxmaj ass xxmaj ca n't xxmaj sleep . i xxmaj need xxmaj help . xxmaj for xxmaj real ! xxpad xxpad xxpad xxpad xxpad xxpad xxpad xxpad xxpad xxpad xxpad xxpad xxpad xxpad xxpad xxpad xxpad</td>\n",
       "      <td>0</td>\n",
       "    </tr>\n",
       "    <tr>\n",
       "      <th>8</th>\n",
       "      <td>xxbos @songzy xxrep 3 u p o xxup my ! u r xxup over 100k &amp; ' xxunk &amp; ' ( i m xxup one xxup of xxup them xxup so xxup i 'm j / xxup k ! ) i xxup lost xxup dis xxup bet xxup dat xxup i 'd xxup get a xxup reply 4rm u xxup b4 u xxup got xxup there ! xxpad xxpad xxpad xxpad xxpad xxpad xxpad xxpad xxpad xxpad xxpad xxpad xxpad xxpad xxpad xxpad xxpad</td>\n",
       "      <td>0</td>\n",
       "    </tr>\n",
       "  </tbody>\n",
       "</table>"
      ],
      "text/plain": [
       "<IPython.core.display.HTML object>"
      ]
     },
     "metadata": {},
     "output_type": "display_data"
    }
   ],
   "source": [
    "dls.show_batch()"
   ]
  },
  {
   "cell_type": "code",
   "execution_count": 8,
   "metadata": {
    "ExecuteTime": {
     "end_time": "2020-10-24T21:29:55.509303Z",
     "start_time": "2020-10-24T21:29:50.927523Z"
    },
    "hidden": true
   },
   "outputs": [],
   "source": [
    "learn = text_classifier_learner(dls, AWD_LSTM, drop_mult=0.5, metrics=accuracy)"
   ]
  },
  {
   "cell_type": "code",
   "execution_count": 9,
   "metadata": {
    "ExecuteTime": {
     "end_time": "2020-10-24T21:30:03.007211Z",
     "start_time": "2020-10-24T21:29:55.511700Z"
    },
    "hidden": true
   },
   "outputs": [
    {
     "data": {
      "text/html": [],
      "text/plain": [
       "<IPython.core.display.HTML object>"
      ]
     },
     "metadata": {},
     "output_type": "display_data"
    },
    {
     "data": {
      "text/plain": [
       "SuggestedLRs(lr_min=0.014454397559165954, lr_steep=9.12010818865383e-07)"
      ]
     },
     "execution_count": 9,
     "metadata": {},
     "output_type": "execute_result"
    },
    {
     "data": {
      "image/png": "[encoded data removed]",
      "text/plain": [
       "<Figure size 432x288 with 1 Axes>"
      ]
     },
     "metadata": {
      "needs_background": "light"
     },
     "output_type": "display_data"
    }
   ],
   "source": [
    "learn.lr_find()"
   ]
  },
  {
   "cell_type": "code",
   "execution_count": 10,
   "metadata": {
    "ExecuteTime": {
     "end_time": "2020-10-24T21:46:57.079092Z",
     "start_time": "2020-10-24T21:30:03.009990Z"
    },
    "hidden": true
   },
   "outputs": [
    {
     "data": {
      "text/html": [
       "<table border=\"1\" class=\"dataframe\">\n",
       "  <thead>\n",
       "    <tr style=\"text-align: left;\">\n",
       "      <th>epoch</th>\n",
       "      <th>train_loss</th>\n",
       "      <th>valid_loss</th>\n",
       "      <th>accuracy</th>\n",
       "      <th>time</th>\n",
       "    </tr>\n",
       "  </thead>\n",
       "  <tbody>\n",
       "    <tr>\n",
       "      <td>0</td>\n",
       "      <td>0.752270</td>\n",
       "      <td>0.596586</td>\n",
       "      <td>0.671530</td>\n",
       "      <td>02:09</td>\n",
       "    </tr>\n",
       "  </tbody>\n",
       "</table>"
      ],
      "text/plain": [
       "<IPython.core.display.HTML object>"
      ]
     },
     "metadata": {},
     "output_type": "display_data"
    },
    {
     "data": {
      "text/html": [
       "<table border=\"1\" class=\"dataframe\">\n",
       "  <thead>\n",
       "    <tr style=\"text-align: left;\">\n",
       "      <th>epoch</th>\n",
       "      <th>train_loss</th>\n",
       "      <th>valid_loss</th>\n",
       "      <th>accuracy</th>\n",
       "      <th>time</th>\n",
       "    </tr>\n",
       "  </thead>\n",
       "  <tbody>\n",
       "    <tr>\n",
       "      <td>0</td>\n",
       "      <td>0.380937</td>\n",
       "      <td>0.448160</td>\n",
       "      <td>0.804030</td>\n",
       "      <td>04:54</td>\n",
       "    </tr>\n",
       "    <tr>\n",
       "      <td>1</td>\n",
       "      <td>0.340983</td>\n",
       "      <td>1.335268</td>\n",
       "      <td>0.805860</td>\n",
       "      <td>04:54</td>\n",
       "    </tr>\n",
       "    <tr>\n",
       "      <td>2</td>\n",
       "      <td>0.327785</td>\n",
       "      <td>1.578040</td>\n",
       "      <td>0.820950</td>\n",
       "      <td>04:55</td>\n",
       "    </tr>\n",
       "  </tbody>\n",
       "</table>"
      ],
      "text/plain": [
       "<IPython.core.display.HTML object>"
      ]
     },
     "metadata": {},
     "output_type": "display_data"
    }
   ],
   "source": [
    "learn.fine_tune(3, 4.4e-2)"
   ]
  },
  {
   "cell_type": "code",
   "execution_count": 11,
   "metadata": {
    "ExecuteTime": {
     "end_time": "2020-10-24T21:55:41.423918Z",
     "start_time": "2020-10-24T21:55:39.840580Z"
    },
    "hidden": true
   },
   "outputs": [],
   "source": [
    "learn.save('3epoch_fine_tune_AWD_LSTM')"
   ]
  },
  {
   "cell_type": "code",
   "execution_count": 12,
   "metadata": {
    "ExecuteTime": {
     "end_time": "2020-10-24T21:57:31.662756Z",
     "start_time": "2020-10-24T21:57:31.297110Z"
    },
    "hidden": true
   },
   "outputs": [
    {
     "data": {
      "text/html": [],
      "text/plain": [
       "<IPython.core.display.HTML object>"
      ]
     },
     "metadata": {},
     "output_type": "display_data"
    },
    {
     "data": {
      "text/html": [
       "<table border=\"1\" class=\"dataframe\">\n",
       "  <thead>\n",
       "    <tr style=\"text-align: right;\">\n",
       "      <th></th>\n",
       "      <th>text</th>\n",
       "      <th>category</th>\n",
       "      <th>category_</th>\n",
       "    </tr>\n",
       "  </thead>\n",
       "  <tbody>\n",
       "    <tr>\n",
       "      <th>0</th>\n",
       "      <td>xxbos xxunk xxmaj taylor xxunk -- &gt; # &amp; &amp; $ ( # &amp; &amp; $ ! ( @ # $ ( ! @ # * $ ( # ! ( sweet mother of # xxunk # ( $ * ( ! @ # * $ ( ! @ # &amp; &amp; $ ( ! @ # $ &amp; &amp; ! ( @ # ! # xxunk … my xxunk is only xxunk</td>\n",
       "      <td>0</td>\n",
       "      <td>0</td>\n",
       "    </tr>\n",
       "    <tr>\n",
       "      <th>1</th>\n",
       "      <td>xxbos xxrep 5 ? ? ? xxrep 3 ? xxrep 8 ? , xxrep 5 ? ? ? xxrep 3 ? xxrep 7 ? , xxrep 3 ? xxrep 3 ? ? ? xxrep 6 ? xxrep 3 ? ? ? , xxrep 4 ? xxrep 3 ? ? ? xxrep 7 ? … xxmaj the magic of xxmaj xxunk singing for xxmaj xxunk xxmaj xxunk xxpad xxpad xxpad xxpad xxpad xxpad xxpad</td>\n",
       "      <td>4</td>\n",
       "      <td>4</td>\n",
       "    </tr>\n",
       "    <tr>\n",
       "      <th>2</th>\n",
       "      <td>xxbos xxmaj mike xxmaj francis ââ   xxunk ° xxunk ð½ð ° xxunk ",
       "▁ ð   xxunk ° xxunk ° ñ ",
       "▁ ñ xxmaj blank &amp; &amp; xxmaj jones ( some xxmaj one xxmaj like xxmaj you , i xxmaj love xxmaj you … ) . xxunk ð² ð   xxunk xxunk ð¾ñ ñð ° ðºð ° xxunk xxpad xxpad xxpad xxpad xxpad xxpad xxpad xxpad xxpad xxpad xxpad xxpad xxpad xxpad xxpad</td>\n",
       "      <td>0</td>\n",
       "      <td>4</td>\n",
       "    </tr>\n",
       "    <tr>\n",
       "      <th>3</th>\n",
       "      <td>xxbos xxunk ì   xxunk °  xxunk ´ xxunk ° xxunk xxunk ? ^^ ; xxunk xxunk xxunk xxunk ° xxunk xxunk ° xxunk xxunk °  xxunk   ? xxunk xxunk xxmaj xxunk xxunk xxunk °  xxunk ° xxunk xxunk xxunk ? xxunk   ? ì ? ´ xxunk   xxunk xxpad xxpad xxpad xxpad xxpad xxpad xxpad xxpad xxpad xxpad xxpad xxpad xxpad xxpad xxpad xxpad xxpad xxpad xxpad</td>\n",
       "      <td>4</td>\n",
       "      <td>4</td>\n",
       "    </tr>\n",
       "    <tr>\n",
       "      <th>4</th>\n",
       "      <td>xxbos xxmaj bout 2 head bk out wit my lil homies . xxmaj its xxmaj lady &amp; &amp; xxmaj lil xxmaj ladies xxmaj day xxmaj out . xxmaj if knw a xxup lil xxup one that needs love tk em out , talk to em , xxmaj show em love xxpad xxpad xxpad xxpad xxpad xxpad xxpad xxpad xxpad xxpad xxpad xxpad xxpad xxpad xxpad xxpad xxpad xxpad xxpad xxpad xxpad xxpad xxpad</td>\n",
       "      <td>4</td>\n",
       "      <td>4</td>\n",
       "    </tr>\n",
       "    <tr>\n",
       "      <th>5</th>\n",
       "      <td>xxbos xxmaj greetings xxmaj twiggas . . .finally xxmaj got a xxmaj twitter ! xxmaj left xxmaj peterson , i miss it xxmaj there so xxmaj much . xxmaj thinking xxmaj about xxup xxunk . &amp; &amp; + xxmaj my xxmaj besties i ca n't xxmaj be xxmaj with xxpad xxpad xxpad xxpad xxpad xxpad xxpad xxpad xxpad xxpad xxpad xxpad xxpad xxpad xxpad xxpad xxpad xxpad xxpad xxpad xxpad xxpad xxpad xxpad</td>\n",
       "      <td>0</td>\n",
       "      <td>0</td>\n",
       "    </tr>\n",
       "    <tr>\n",
       "      <th>6</th>\n",
       "      <td>xxbos xxmaj hav xxmaj my xxmaj piano xxmaj exam xxmaj in xxmaj an xxmaj hour ! xxmaj i m xxmaj gon na xxmaj cry xxmaj coz xxmaj i m xxmaj gon na xxmaj fail ! xxmaj dnt xxmaj no xxmaj any xxmaj scales ! xxmaj grade 4 xxmaj shit xxpad xxpad xxpad xxpad xxpad xxpad xxpad xxpad xxpad xxpad xxpad xxpad xxpad xxpad xxpad xxpad xxpad xxpad xxpad xxpad xxpad xxpad xxpad xxpad</td>\n",
       "      <td>0</td>\n",
       "      <td>0</td>\n",
       "    </tr>\n",
       "    <tr>\n",
       "      <th>7</th>\n",
       "      <td>xxbos xxmaj just got back from seein &amp; ' drag xxmaj me xxmaj to xxmaj hell &gt; &amp; ' xxmaj it was pretty cool , love xxmaj xxunk xxmaj raimi . had an xxmaj army of xxmaj darkness feel to it . xxmaj seen preview for xxup hbp xxpad xxpad xxpad xxpad xxpad xxpad xxpad xxpad xxpad xxpad xxpad xxpad xxpad xxpad xxpad xxpad xxpad xxpad xxpad xxpad xxpad xxpad xxpad xxpad xxpad</td>\n",
       "      <td>4</td>\n",
       "      <td>4</td>\n",
       "    </tr>\n",
       "    <tr>\n",
       "      <th>8</th>\n",
       "      <td>xxbos xxup holy xxup crap i xxup just xxup read xxup david xxup carradine xxup died xxup in a xxup thai xxup hotel xxup he xxup hanged xxup himself xxup naked xxup from xxup the xxup closet xxup ouch ! xxup r.i.p xxup bill xxup is xxup dead xxpad xxpad xxpad xxpad xxpad xxpad xxpad xxpad xxpad xxpad xxpad xxpad xxpad xxpad xxpad xxpad xxpad xxpad xxpad xxpad xxpad xxpad xxpad xxpad xxpad</td>\n",
       "      <td>0</td>\n",
       "      <td>0</td>\n",
       "    </tr>\n",
       "  </tbody>\n",
       "</table>"
      ],
      "text/plain": [
       "<IPython.core.display.HTML object>"
      ]
     },
     "metadata": {},
     "output_type": "display_data"
    }
   ],
   "source": [
    "learn.show_results()"
   ]
  },
  {
   "cell_type": "markdown",
   "metadata": {},
   "source": [
    "## Fine tuning & using custom language model"
   ]
  },
  {
   "cell_type": "markdown",
   "metadata": {},
   "source": [
    "### Custom language model"
   ]
  },
  {
   "cell_type": "code",
   "execution_count": 6,
   "metadata": {
    "ExecuteTime": {
     "end_time": "2020-11-07T11:53:14.508649Z",
     "start_time": "2020-11-07T11:49:25.021444Z"
    }
   },
   "outputs": [
    {
     "data": {
      "text/html": [],
      "text/plain": [
       "<IPython.core.display.HTML object>"
      ]
     },
     "metadata": {},
     "output_type": "display_data"
    },
    {
     "name": "stderr",
     "output_type": "stream",
     "text": [
      "/opt/conda/envs/fastai/lib/python3.8/site-packages/numpy/core/_asarray.py:83: VisibleDeprecationWarning: Creating an ndarray from ragged nested sequences (which is a list-or-tuple of lists-or-tuples-or ndarrays with different lengths or shapes) is deprecated. If you meant to do this, you must specify 'dtype=object' when creating the ndarray\n",
      "  return array(a, dtype, copy=False, order=order)\n"
     ]
    }
   ],
   "source": [
    "dls_lm = TextDataLoaders.from_df(df, is_lm=True, text_col='text', valid_pct=0.2, bs=128, seed=101)"
   ]
  },
  {
   "cell_type": "code",
   "execution_count": 7,
   "metadata": {
    "ExecuteTime": {
     "end_time": "2020-11-05T01:36:11.148386Z",
     "start_time": "2020-11-05T01:36:09.558866Z"
    }
   },
   "outputs": [
    {
     "data": {
      "text/html": [
       "<table border=\"1\" class=\"dataframe\">\n",
       "  <thead>\n",
       "    <tr style=\"text-align: right;\">\n",
       "      <th></th>\n",
       "      <th>text</th>\n",
       "      <th>text_</th>\n",
       "    </tr>\n",
       "  </thead>\n",
       "  <tbody>\n",
       "    <tr>\n",
       "      <th>0</th>\n",
       "      <td>xxbos @ruby_gem yeah , why not ? xxmaj glad ur feeling good ! it 's good to feel good ! xxbos xxunk oh gas pains from being pregnant … xxbos @bellacullenrpg xxmaj hey xxmaj bella . xxmaj i 'm still trying to find an xxmaj emmett i just put up an ad on twifans xxup lol xxbos i have n't got any food in and have a new credit card being sent</td>\n",
       "      <td>@ruby_gem yeah , why not ? xxmaj glad ur feeling good ! it 's good to feel good ! xxbos xxunk oh gas pains from being pregnant … xxbos @bellacullenrpg xxmaj hey xxmaj bella . xxmaj i 'm still trying to find an xxmaj emmett i just put up an ad on twifans xxup lol xxbos i have n't got any food in and have a new credit card being sent to</td>\n",
       "    </tr>\n",
       "    <tr>\n",
       "      <th>1</th>\n",
       "      <td>crossing the street by starbux here on 5th st … it came soo close . xxbos i miss xxmaj dallas already xxbos xxmaj looks like xxunk does n't like posts with xxunk / form - data xxbos xxmaj my sister has xxup h1n1 - she does n't look good all pitiful and sick xxbos 8 miles in xxunk , fun run but did n't finish strong - screwed up dist at the</td>\n",
       "      <td>the street by starbux here on 5th st … it came soo close . xxbos i miss xxmaj dallas already xxbos xxmaj looks like xxunk does n't like posts with xxunk / form - data xxbos xxmaj my sister has xxup h1n1 - she does n't look good all pitiful and sick xxbos 8 miles in xxunk , fun run but did n't finish strong - screwed up dist at the end</td>\n",
       "    </tr>\n",
       "    <tr>\n",
       "      <th>2</th>\n",
       "      <td>… xxmaj jsem xxunk , xxunk m ? &amp; ' kristy , xxmaj are xxmaj you xxmaj doing xxmaj okay ? &amp; ' xxunk o xxunk xxbos i do n't want to drive to xxmaj moody tonight … xxbos whew … glad twitter 's still alive after maintenance xxbos interview went well .. i have the job , its always guaranteed .. but i have to start later xxbos loving my stolen</td>\n",
       "      <td>xxmaj jsem xxunk , xxunk m ? &amp; ' kristy , xxmaj are xxmaj you xxmaj doing xxmaj okay ? &amp; ' xxunk o xxunk xxbos i do n't want to drive to xxmaj moody tonight … xxbos whew … glad twitter 's still alive after maintenance xxbos interview went well .. i have the job , its always guaranteed .. but i have to start later xxbos loving my stolen jackets</td>\n",
       "    </tr>\n",
       "  </tbody>\n",
       "</table>"
      ],
      "text/plain": [
       "<IPython.core.display.HTML object>"
      ]
     },
     "metadata": {},
     "output_type": "display_data"
    }
   ],
   "source": [
    "dls_lm.show_batch(max_n=3)"
   ]
  },
  {
   "cell_type": "code",
   "execution_count": 8,
   "metadata": {
    "ExecuteTime": {
     "end_time": "2020-11-05T01:36:16.110667Z",
     "start_time": "2020-11-05T01:36:11.150539Z"
    }
   },
   "outputs": [],
   "source": [
    "learn = language_model_learner(dls_lm, AWD_LSTM, metrics=[accuracy, Perplexity()], drop_mult=0.5)"
   ]
  },
  {
   "cell_type": "code",
   "execution_count": 9,
   "metadata": {
    "ExecuteTime": {
     "end_time": "2020-11-05T01:37:35.161529Z",
     "start_time": "2020-11-05T01:36:16.112332Z"
    }
   },
   "outputs": [
    {
     "data": {
      "text/html": [],
      "text/plain": [
       "<IPython.core.display.HTML object>"
      ]
     },
     "metadata": {},
     "output_type": "display_data"
    },
    {
     "data": {
      "text/plain": [
       "SuggestedLRs(lr_min=0.05248074531555176, lr_steep=0.033113110810518265)"
      ]
     },
     "execution_count": 9,
     "metadata": {},
     "output_type": "execute_result"
    },
    {
     "data": {
      "image/png": "[encoded data removed]",
      "text/plain": [
       "<Figure size 432x288 with 1 Axes>"
      ]
     },
     "metadata": {
      "needs_background": "light"
     },
     "output_type": "display_data"
    }
   ],
   "source": [
    "learn.lr_find()"
   ]
  },
  {
   "cell_type": "markdown",
   "metadata": {},
   "source": [
    "#### 3 epoch Fit One Cycle"
   ]
  },
  {
   "cell_type": "code",
   "execution_count": 10,
   "metadata": {
    "ExecuteTime": {
     "end_time": "2020-11-05T02:14:22.097721Z",
     "start_time": "2020-11-05T01:37:41.968715Z"
    }
   },
   "outputs": [
    {
     "data": {
      "text/html": [
       "<table border=\"1\" class=\"dataframe\">\n",
       "  <thead>\n",
       "    <tr style=\"text-align: left;\">\n",
       "      <th>epoch</th>\n",
       "      <th>train_loss</th>\n",
       "      <th>valid_loss</th>\n",
       "      <th>accuracy</th>\n",
       "      <th>perplexity</th>\n",
       "      <th>time</th>\n",
       "    </tr>\n",
       "  </thead>\n",
       "  <tbody>\n",
       "    <tr>\n",
       "      <td>0</td>\n",
       "      <td>4.785416</td>\n",
       "      <td>4.574839</td>\n",
       "      <td>0.223961</td>\n",
       "      <td>97.012428</td>\n",
       "      <td>12:12</td>\n",
       "    </tr>\n",
       "    <tr>\n",
       "      <td>1</td>\n",
       "      <td>4.599601</td>\n",
       "      <td>4.421119</td>\n",
       "      <td>0.236676</td>\n",
       "      <td>83.189301</td>\n",
       "      <td>12:13</td>\n",
       "    </tr>\n",
       "    <tr>\n",
       "      <td>2</td>\n",
       "      <td>4.395442</td>\n",
       "      <td>4.338806</td>\n",
       "      <td>0.244599</td>\n",
       "      <td>76.615982</td>\n",
       "      <td>12:13</td>\n",
       "    </tr>\n",
       "  </tbody>\n",
       "</table>"
      ],
      "text/plain": [
       "<IPython.core.display.HTML object>"
      ]
     },
     "metadata": {},
     "output_type": "display_data"
    }
   ],
   "source": [
    "learn.fit_one_cycle(3, 5.2e-2)"
   ]
  },
  {
   "cell_type": "code",
   "execution_count": 11,
   "metadata": {
    "ExecuteTime": {
     "end_time": "2020-11-05T02:14:23.283056Z",
     "start_time": "2020-11-05T02:14:22.099364Z"
    }
   },
   "outputs": [],
   "source": [
    "learn.save('3epoch_fit_one_cycle')"
   ]
  },
  {
   "cell_type": "code",
   "execution_count": 12,
   "metadata": {
    "ExecuteTime": {
     "end_time": "2020-11-05T02:26:47.381916Z",
     "start_time": "2020-11-05T02:14:33.795169Z"
    }
   },
   "outputs": [
    {
     "data": {
      "text/html": [
       "<table border=\"1\" class=\"dataframe\">\n",
       "  <thead>\n",
       "    <tr style=\"text-align: left;\">\n",
       "      <th>epoch</th>\n",
       "      <th>train_loss</th>\n",
       "      <th>valid_loss</th>\n",
       "      <th>accuracy</th>\n",
       "      <th>perplexity</th>\n",
       "      <th>time</th>\n",
       "    </tr>\n",
       "  </thead>\n",
       "  <tbody>\n",
       "    <tr>\n",
       "      <td>0</td>\n",
       "      <td>4.483485</td>\n",
       "      <td>4.367604</td>\n",
       "      <td>0.242748</td>\n",
       "      <td>78.854492</td>\n",
       "      <td>12:13</td>\n",
       "    </tr>\n",
       "  </tbody>\n",
       "</table>"
      ],
      "text/plain": [
       "<IPython.core.display.HTML object>"
      ]
     },
     "metadata": {},
     "output_type": "display_data"
    }
   ],
   "source": [
    "learn.fit_one_cycle(1, 5.2e-2)"
   ]
  },
  {
   "cell_type": "code",
   "execution_count": 13,
   "metadata": {
    "ExecuteTime": {
     "end_time": "2020-11-05T02:27:02.539751Z",
     "start_time": "2020-11-05T02:27:02.279402Z"
    }
   },
   "outputs": [],
   "source": [
    "learn = learn.load('3epoch_fit_one_cycle')"
   ]
  },
  {
   "cell_type": "markdown",
   "metadata": {},
   "source": [
    "#### 6 epoch Fit One Cycle"
   ]
  },
  {
   "cell_type": "code",
   "execution_count": 27,
   "metadata": {
    "ExecuteTime": {
     "end_time": "2020-09-26T02:17:09.908760Z",
     "start_time": "2020-09-26T02:07:04.407220Z"
    },
    "scrolled": true
   },
   "outputs": [
    {
     "data": {
      "text/html": [
       "<table border=\"1\" class=\"dataframe\">\n",
       "  <thead>\n",
       "    <tr style=\"text-align: left;\">\n",
       "      <th>epoch</th>\n",
       "      <th>train_loss</th>\n",
       "      <th>valid_loss</th>\n",
       "      <th>accuracy</th>\n",
       "      <th>perplexity</th>\n",
       "      <th>time</th>\n",
       "    </tr>\n",
       "  </thead>\n",
       "  <tbody>\n",
       "    <tr>\n",
       "      <td>0</td>\n",
       "      <td>4.913908</td>\n",
       "      <td>4.432177</td>\n",
       "      <td>0.226114</td>\n",
       "      <td>84.114296</td>\n",
       "      <td>01:40</td>\n",
       "    </tr>\n",
       "    <tr>\n",
       "      <td>1</td>\n",
       "      <td>4.619577</td>\n",
       "      <td>4.397346</td>\n",
       "      <td>0.226380</td>\n",
       "      <td>81.234947</td>\n",
       "      <td>01:40</td>\n",
       "    </tr>\n",
       "    <tr>\n",
       "      <td>2</td>\n",
       "      <td>4.433048</td>\n",
       "      <td>4.354645</td>\n",
       "      <td>0.234543</td>\n",
       "      <td>77.839172</td>\n",
       "      <td>01:40</td>\n",
       "    </tr>\n",
       "    <tr>\n",
       "      <td>3</td>\n",
       "      <td>4.276428</td>\n",
       "      <td>4.312634</td>\n",
       "      <td>0.239191</td>\n",
       "      <td>74.636787</td>\n",
       "      <td>01:40</td>\n",
       "    </tr>\n",
       "    <tr>\n",
       "      <td>4</td>\n",
       "      <td>4.129568</td>\n",
       "      <td>4.287622</td>\n",
       "      <td>0.241749</td>\n",
       "      <td>72.793190</td>\n",
       "      <td>01:40</td>\n",
       "    </tr>\n",
       "    <tr>\n",
       "      <td>5</td>\n",
       "      <td>4.035867</td>\n",
       "      <td>4.282863</td>\n",
       "      <td>0.243498</td>\n",
       "      <td>72.447533</td>\n",
       "      <td>01:40</td>\n",
       "    </tr>\n",
       "  </tbody>\n",
       "</table>"
      ],
      "text/plain": [
       "<IPython.core.display.HTML object>"
      ]
     },
     "metadata": {},
     "output_type": "display_data"
    }
   ],
   "source": [
    "learn = language_model_learner(dls_lm, AWD_LSTM, metrics=[accuracy, Perplexity()], drop_mult=0.5)\n",
    "learn.fit_one_cycle(6, 6.3e-2)"
   ]
  },
  {
   "cell_type": "code",
   "execution_count": 29,
   "metadata": {
    "ExecuteTime": {
     "end_time": "2020-09-26T02:17:25.654585Z",
     "start_time": "2020-09-26T02:17:24.987588Z"
    }
   },
   "outputs": [],
   "source": [
    "learn.save('6epoch_fit_one_cycle')"
   ]
  },
  {
   "cell_type": "code",
   "execution_count": 30,
   "metadata": {
    "ExecuteTime": {
     "end_time": "2020-09-26T02:17:25.753810Z",
     "start_time": "2020-09-26T02:17:25.656432Z"
    }
   },
   "outputs": [],
   "source": [
    "learn = learn.load('6epoch_fit_one_cycle')"
   ]
  },
  {
   "cell_type": "markdown",
   "metadata": {},
   "source": [
    "#### Fine-tuned with 2-epoch Fit One Cycle"
   ]
  },
  {
   "cell_type": "code",
   "execution_count": 14,
   "metadata": {
    "ExecuteTime": {
     "end_time": "2020-11-05T02:28:21.713567Z",
     "start_time": "2020-11-05T02:28:21.413049Z"
    }
   },
   "outputs": [],
   "source": [
    "learn = learn.load('3epoch_fit_one_cycle')"
   ]
  },
  {
   "cell_type": "code",
   "execution_count": 15,
   "metadata": {
    "ExecuteTime": {
     "end_time": "2020-11-05T02:55:00.531699Z",
     "start_time": "2020-11-05T02:28:43.710589Z"
    }
   },
   "outputs": [
    {
     "data": {
      "text/html": [
       "<table border=\"1\" class=\"dataframe\">\n",
       "  <thead>\n",
       "    <tr style=\"text-align: left;\">\n",
       "      <th>epoch</th>\n",
       "      <th>train_loss</th>\n",
       "      <th>valid_loss</th>\n",
       "      <th>accuracy</th>\n",
       "      <th>perplexity</th>\n",
       "      <th>time</th>\n",
       "    </tr>\n",
       "  </thead>\n",
       "  <tbody>\n",
       "    <tr>\n",
       "      <td>0</td>\n",
       "      <td>4.154526</td>\n",
       "      <td>4.147553</td>\n",
       "      <td>0.267788</td>\n",
       "      <td>63.278996</td>\n",
       "      <td>13:07</td>\n",
       "    </tr>\n",
       "    <tr>\n",
       "      <td>1</td>\n",
       "      <td>3.971590</td>\n",
       "      <td>4.079482</td>\n",
       "      <td>0.277395</td>\n",
       "      <td>59.114815</td>\n",
       "      <td>13:08</td>\n",
       "    </tr>\n",
       "  </tbody>\n",
       "</table>"
      ],
      "text/plain": [
       "<IPython.core.display.HTML object>"
      ]
     },
     "metadata": {},
     "output_type": "display_data"
    }
   ],
   "source": [
    "learn.unfreeze()\n",
    "learn.fit_one_cycle(2, 6.3e-3)"
   ]
  },
  {
   "cell_type": "code",
   "execution_count": 16,
   "metadata": {
    "ExecuteTime": {
     "end_time": "2020-11-05T02:55:15.791795Z",
     "start_time": "2020-11-05T02:55:13.238024Z"
    }
   },
   "outputs": [],
   "source": [
    "learn.save('finetuned_2epoch')"
   ]
  },
  {
   "cell_type": "code",
   "execution_count": 17,
   "metadata": {
    "ExecuteTime": {
     "end_time": "2020-11-05T02:55:16.695285Z",
     "start_time": "2020-11-05T02:55:15.793686Z"
    }
   },
   "outputs": [],
   "source": [
    "learn.save_encoder('finetuned_2epoch_encoder')"
   ]
  },
  {
   "cell_type": "markdown",
   "metadata": {},
   "source": [
    "It looks like we start to overfit at 3 epochs so let's load the saved encoder from above"
   ]
  },
  {
   "cell_type": "markdown",
   "metadata": {},
   "source": [
    "## Testing Language model"
   ]
  },
  {
   "cell_type": "code",
   "execution_count": 18,
   "metadata": {
    "ExecuteTime": {
     "end_time": "2020-11-05T02:55:52.725400Z",
     "start_time": "2020-11-05T02:55:51.948154Z"
    }
   },
   "outputs": [
    {
     "data": {
      "text/html": [],
      "text/plain": [
       "<IPython.core.display.HTML object>"
      ]
     },
     "metadata": {},
     "output_type": "display_data"
    },
    {
     "data": {
      "text/html": [],
      "text/plain": [
       "<IPython.core.display.HTML object>"
      ]
     },
     "metadata": {},
     "output_type": "display_data"
    },
    {
     "data": {
      "text/html": [],
      "text/plain": [
       "<IPython.core.display.HTML object>"
      ]
     },
     "metadata": {},
     "output_type": "display_data"
    }
   ],
   "source": [
    "TEXT = \"WALKING HOME\"\n",
    "N_WORDS = 13\n",
    "N_SENTENCES = 3\n",
    "preds = [learn.predict(TEXT, N_WORDS, temperature=0.75) \n",
    "         for _ in range(N_SENTENCES)]"
   ]
  },
  {
   "cell_type": "code",
   "execution_count": 19,
   "metadata": {
    "ExecuteTime": {
     "end_time": "2020-11-05T02:55:54.919868Z",
     "start_time": "2020-11-05T02:55:54.915173Z"
    }
   },
   "outputs": [
    {
     "name": "stdout",
     "output_type": "stream",
     "text": [
      "WALKING HOME IN AN EVENING ! too bad the web\n",
      "WALKING HOME ! SO BORED !!! WORK !\n",
      "WALKING HOME FROM WORK ! MORE ! LATER NOW !\n"
     ]
    }
   ],
   "source": [
    "print(\"\\n\".join(preds))"
   ]
  },
  {
   "cell_type": "markdown",
   "metadata": {},
   "source": [
    "## Train the text classifier (custom language model)"
   ]
  },
  {
   "cell_type": "code",
   "execution_count": 7,
   "metadata": {
    "ExecuteTime": {
     "end_time": "2020-11-07T12:00:53.065464Z",
     "start_time": "2020-11-07T11:53:14.510649Z"
    }
   },
   "outputs": [
    {
     "data": {
      "text/html": [],
      "text/plain": [
       "<IPython.core.display.HTML object>"
      ]
     },
     "metadata": {},
     "output_type": "display_data"
    },
    {
     "name": "stderr",
     "output_type": "stream",
     "text": [
      "/opt/conda/envs/fastai/lib/python3.8/site-packages/numpy/core/_asarray.py:83: VisibleDeprecationWarning: Creating an ndarray from ragged nested sequences (which is a list-or-tuple of lists-or-tuples-or ndarrays with different lengths or shapes) is deprecated. If you meant to do this, you must specify 'dtype=object' when creating the ndarray\n",
      "  return array(a, dtype, copy=False, order=order)\n"
     ]
    }
   ],
   "source": [
    "dls_clas = TextDataLoaders.from_df(df, text_col='text', label_col='target', text_vocab=dls_lm.vocab, seed=102)"
   ]
  },
  {
   "cell_type": "code",
   "execution_count": 8,
   "metadata": {
    "ExecuteTime": {
     "end_time": "2020-11-07T12:00:57.834503Z",
     "start_time": "2020-11-07T12:00:53.067784Z"
    }
   },
   "outputs": [],
   "source": [
    "learn = text_classifier_learner(dls_clas, AWD_LSTM, drop_mult=0.5, metrics=accuracy)"
   ]
  },
  {
   "cell_type": "code",
   "execution_count": 29,
   "metadata": {
    "ExecuteTime": {
     "end_time": "2020-11-05T03:23:14.122048Z",
     "start_time": "2020-11-05T03:23:13.919324Z"
    }
   },
   "outputs": [],
   "source": [
    "learn = learn.load_encoder('finetuned_2epoch_encoder')"
   ]
  },
  {
   "cell_type": "code",
   "execution_count": 24,
   "metadata": {
    "ExecuteTime": {
     "end_time": "2020-11-05T03:05:45.062044Z",
     "start_time": "2020-11-05T03:05:40.482450Z"
    }
   },
   "outputs": [
    {
     "data": {
      "text/html": [],
      "text/plain": [
       "<IPython.core.display.HTML object>"
      ]
     },
     "metadata": {},
     "output_type": "display_data"
    },
    {
     "data": {
      "image/png": "[encoded data removed]",
      "text/plain": [
       "<Figure size 432x288 with 1 Axes>"
      ]
     },
     "metadata": {
      "needs_background": "light"
     },
     "output_type": "display_data"
    }
   ],
   "source": [
    "lrs = learn.lr_find()"
   ]
  },
  {
   "cell_type": "code",
   "execution_count": 25,
   "metadata": {
    "ExecuteTime": {
     "end_time": "2020-11-05T03:05:45.068246Z",
     "start_time": "2020-11-05T03:05:45.064187Z"
    }
   },
   "outputs": [
    {
     "data": {
      "text/plain": [
       "SuggestedLRs(lr_min=0.06309573650360108, lr_steep=9.12010818865383e-07)"
      ]
     },
     "execution_count": 25,
     "metadata": {},
     "output_type": "execute_result"
    }
   ],
   "source": [
    "lrs"
   ]
  },
  {
   "cell_type": "code",
   "execution_count": 26,
   "metadata": {
    "ExecuteTime": {
     "end_time": "2020-11-05T03:05:45.072460Z",
     "start_time": "2020-11-05T03:05:45.070142Z"
    }
   },
   "outputs": [],
   "source": [
    "lr = lrs[0]  #lr_min"
   ]
  },
  {
   "cell_type": "code",
   "execution_count": 30,
   "metadata": {
    "ExecuteTime": {
     "end_time": "2020-11-05T03:34:33.500560Z",
     "start_time": "2020-11-05T03:23:26.971709Z"
    }
   },
   "outputs": [
    {
     "data": {
      "text/html": [
       "<table border=\"1\" class=\"dataframe\">\n",
       "  <thead>\n",
       "    <tr style=\"text-align: left;\">\n",
       "      <th>epoch</th>\n",
       "      <th>train_loss</th>\n",
       "      <th>valid_loss</th>\n",
       "      <th>accuracy</th>\n",
       "      <th>time</th>\n",
       "    </tr>\n",
       "  </thead>\n",
       "  <tbody>\n",
       "    <tr>\n",
       "      <td>0</td>\n",
       "      <td>0.560335</td>\n",
       "      <td>0.469022</td>\n",
       "      <td>0.789940</td>\n",
       "      <td>02:46</td>\n",
       "    </tr>\n",
       "    <tr>\n",
       "      <td>1</td>\n",
       "      <td>0.548026</td>\n",
       "      <td>0.458282</td>\n",
       "      <td>0.786390</td>\n",
       "      <td>02:45</td>\n",
       "    </tr>\n",
       "    <tr>\n",
       "      <td>2</td>\n",
       "      <td>0.528113</td>\n",
       "      <td>0.429219</td>\n",
       "      <td>0.799600</td>\n",
       "      <td>02:47</td>\n",
       "    </tr>\n",
       "    <tr>\n",
       "      <td>3</td>\n",
       "      <td>0.512595</td>\n",
       "      <td>0.421247</td>\n",
       "      <td>0.804790</td>\n",
       "      <td>02:46</td>\n",
       "    </tr>\n",
       "  </tbody>\n",
       "</table>"
      ],
      "text/plain": [
       "<IPython.core.display.HTML object>"
      ]
     },
     "metadata": {},
     "output_type": "display_data"
    }
   ],
   "source": [
    "learn.fit_one_cycle(4, lr)"
   ]
  },
  {
   "cell_type": "code",
   "execution_count": 31,
   "metadata": {
    "ExecuteTime": {
     "end_time": "2020-11-05T03:34:34.028926Z",
     "start_time": "2020-11-05T03:34:33.502561Z"
    }
   },
   "outputs": [],
   "source": [
    "learn.save('4epoch_model_class_model')"
   ]
  },
  {
   "cell_type": "code",
   "execution_count": null,
   "metadata": {},
   "outputs": [],
   "source": [
    "learn = learn.load('4epoch_model_class_model')"
   ]
  },
  {
   "cell_type": "code",
   "execution_count": 32,
   "metadata": {
    "ExecuteTime": {
     "end_time": "2020-11-05T03:37:47.515723Z",
     "start_time": "2020-11-05T03:34:38.919472Z"
    }
   },
   "outputs": [
    {
     "data": {
      "text/html": [
       "<table border=\"1\" class=\"dataframe\">\n",
       "  <thead>\n",
       "    <tr style=\"text-align: left;\">\n",
       "      <th>epoch</th>\n",
       "      <th>train_loss</th>\n",
       "      <th>valid_loss</th>\n",
       "      <th>accuracy</th>\n",
       "      <th>time</th>\n",
       "    </tr>\n",
       "  </thead>\n",
       "  <tbody>\n",
       "    <tr>\n",
       "      <td>0</td>\n",
       "      <td>0.415267</td>\n",
       "      <td>0.374304</td>\n",
       "      <td>0.832880</td>\n",
       "      <td>03:08</td>\n",
       "    </tr>\n",
       "  </tbody>\n",
       "</table>"
      ],
      "text/plain": [
       "<IPython.core.display.HTML object>"
      ]
     },
     "metadata": {},
     "output_type": "display_data"
    }
   ],
   "source": [
    "learn.freeze_to(-2)\n",
    "learn.fit_one_cycle(1, slice(lr/500,lr/10))"
   ]
  },
  {
   "cell_type": "code",
   "execution_count": 33,
   "metadata": {
    "ExecuteTime": {
     "end_time": "2020-11-05T03:42:45.659195Z",
     "start_time": "2020-11-05T03:38:10.505614Z"
    }
   },
   "outputs": [
    {
     "data": {
      "text/html": [
       "<table border=\"1\" class=\"dataframe\">\n",
       "  <thead>\n",
       "    <tr style=\"text-align: left;\">\n",
       "      <th>epoch</th>\n",
       "      <th>train_loss</th>\n",
       "      <th>valid_loss</th>\n",
       "      <th>accuracy</th>\n",
       "      <th>time</th>\n",
       "    </tr>\n",
       "  </thead>\n",
       "  <tbody>\n",
       "    <tr>\n",
       "      <td>0</td>\n",
       "      <td>0.393163</td>\n",
       "      <td>0.363148</td>\n",
       "      <td>0.838390</td>\n",
       "      <td>04:35</td>\n",
       "    </tr>\n",
       "  </tbody>\n",
       "</table>"
      ],
      "text/plain": [
       "<IPython.core.display.HTML object>"
      ]
     },
     "metadata": {},
     "output_type": "display_data"
    }
   ],
   "source": [
    "learn.freeze_to(-3)\n",
    "learn.fit_one_cycle(1, slice(lr/5000,lr/100))"
   ]
  },
  {
   "cell_type": "code",
   "execution_count": 34,
   "metadata": {
    "ExecuteTime": {
     "end_time": "2020-11-05T03:59:12.990528Z",
     "start_time": "2020-11-05T03:45:34.856703Z"
    }
   },
   "outputs": [
    {
     "data": {
      "text/html": [
       "<table border=\"1\" class=\"dataframe\">\n",
       "  <thead>\n",
       "    <tr style=\"text-align: left;\">\n",
       "      <th>epoch</th>\n",
       "      <th>train_loss</th>\n",
       "      <th>valid_loss</th>\n",
       "      <th>accuracy</th>\n",
       "      <th>time</th>\n",
       "    </tr>\n",
       "  </thead>\n",
       "  <tbody>\n",
       "    <tr>\n",
       "      <td>0</td>\n",
       "      <td>0.387533</td>\n",
       "      <td>0.362568</td>\n",
       "      <td>0.838360</td>\n",
       "      <td>06:48</td>\n",
       "    </tr>\n",
       "    <tr>\n",
       "      <td>1</td>\n",
       "      <td>0.380297</td>\n",
       "      <td>0.363136</td>\n",
       "      <td>0.838310</td>\n",
       "      <td>06:49</td>\n",
       "    </tr>\n",
       "  </tbody>\n",
       "</table>"
      ],
      "text/plain": [
       "<IPython.core.display.HTML object>"
      ]
     },
     "metadata": {},
     "output_type": "display_data"
    }
   ],
   "source": [
    "learn.unfreeze()\n",
    "learn.fit_one_cycle(2, slice(lr/50000,lr/5000))"
   ]
  },
  {
   "cell_type": "code",
   "execution_count": 35,
   "metadata": {
    "ExecuteTime": {
     "end_time": "2020-11-05T03:59:13.237264Z",
     "start_time": "2020-11-05T03:59:12.992434Z"
    }
   },
   "outputs": [
    {
     "data": {
      "text/html": [],
      "text/plain": [
       "<IPython.core.display.HTML object>"
      ]
     },
     "metadata": {},
     "output_type": "display_data"
    },
    {
     "data": {
      "text/html": [
       "<table border=\"1\" class=\"dataframe\">\n",
       "  <thead>\n",
       "    <tr style=\"text-align: right;\">\n",
       "      <th></th>\n",
       "      <th>text</th>\n",
       "      <th>category</th>\n",
       "      <th>category_</th>\n",
       "    </tr>\n",
       "  </thead>\n",
       "  <tbody>\n",
       "    <tr>\n",
       "      <th>0</th>\n",
       "      <td>xxbos @songzy xxrep 3 u p o xxup my ! u r xxup over 100k &amp; ' xxunk &amp; ' ( i m xxup one xxup of xxup them xxup so xxup i 'm j / xxup k ! ) i xxup lost xxup dis xxup bet xxup dat xxup i 'd xxup get a xxup reply 4rm u xxup b4 u xxup got xxup there !</td>\n",
       "      <td>0</td>\n",
       "      <td>0</td>\n",
       "    </tr>\n",
       "    <tr>\n",
       "      <th>1</th>\n",
       "      <td>xxbos xxup please xxup follow xxup me ! &amp; &amp; xxup happy xxup jonas xxup day ! xxup wooh ! xxup lvatt xxup is xxup incredible ! i xxup love xxup the xxup new xxup songs . xxup they xxup remind xxup me xxup of xxup pop xxup rock xxup jazz xxup old xxup school xxup music ! xxpad xxpad xxpad xxpad xxpad xxpad xxpad xxpad xxpad</td>\n",
       "      <td>4</td>\n",
       "      <td>4</td>\n",
       "    </tr>\n",
       "    <tr>\n",
       "      <th>2</th>\n",
       "      <td>xxbos xxmaj wow , xxmaj up xxmaj way xxmaj to xxmaj late . xxmaj got ta xxmaj get xxmaj up xxmaj at 7 xxmaj tomarow , xxmaj goodnight xxmaj all i xxmaj ca nt xxmaj wait xxmaj for xxmaj the xxmaj invisible xxmaj children xxmaj art xxmaj show xxmaj tomarow xxpad xxpad xxpad xxpad xxpad xxpad xxpad xxpad xxpad xxpad xxpad xxpad xxpad xxpad xxpad xxpad xxpad</td>\n",
       "      <td>4</td>\n",
       "      <td>4</td>\n",
       "    </tr>\n",
       "    <tr>\n",
       "      <th>3</th>\n",
       "      <td>xxbos xxup oh . xxup my . xxup gosh . xxrep 3 ! xxmaj main xxmaj floor xxmaj row 3 xxmaj demi xxmaj lovato xxmaj tickets xxmaj available xxrep 3 ! xxup ahh ! ! xxmaj too bad xxmaj i 'm broke and it 's during the state fair xxpad xxpad xxpad xxpad xxpad xxpad xxpad xxpad xxpad xxpad xxpad xxpad xxpad xxpad xxpad xxpad xxpad xxpad</td>\n",
       "      <td>0</td>\n",
       "      <td>0</td>\n",
       "    </tr>\n",
       "    <tr>\n",
       "      <th>4</th>\n",
       "      <td>xxbos xxmaj what a shitty mall . xxmaj if i get a pt hot topic job … xxmaj fml … xxmaj if i do n't ? xxmaj fml . xxmaj new netflix day ! xxmaj meeting was cool , btw . xxmaj not a fan of thai food xxpad xxpad xxpad xxpad xxpad xxpad xxpad xxpad xxpad xxpad xxpad xxpad xxpad xxpad xxpad xxpad xxpad xxpad xxpad</td>\n",
       "      <td>0</td>\n",
       "      <td>0</td>\n",
       "    </tr>\n",
       "    <tr>\n",
       "      <th>5</th>\n",
       "      <td>xxbos xxmaj record . xxmaj xxunk 4 - xxmaj sick as all hell . xxmaj going to b xxup mia for a few days . xxmaj not going to class ne more - missing out on xxunk - xxmaj settling for &amp; ' c &amp; ' .fml xxpad xxpad xxpad xxpad xxpad xxpad xxpad xxpad xxpad xxpad xxpad xxpad xxpad xxpad xxpad xxpad xxpad xxpad xxpad xxpad</td>\n",
       "      <td>0</td>\n",
       "      <td>0</td>\n",
       "    </tr>\n",
       "    <tr>\n",
       "      <th>6</th>\n",
       "      <td>xxbos @lfta &amp; ' this morning i woke up … feeling brand new i … i jumped up . xxmaj feeling my hi xxrep 4 g h n my l xxrep 3 o w n my s xxrep 4 o ul n my clothes … &amp; ' xxpad xxpad xxpad xxpad xxpad xxpad xxpad xxpad xxpad xxpad xxpad xxpad xxpad xxpad xxpad xxpad xxpad xxpad xxpad xxpad</td>\n",
       "      <td>4</td>\n",
       "      <td>4</td>\n",
       "    </tr>\n",
       "    <tr>\n",
       "      <th>7</th>\n",
       "      <td>xxbos xxunk xxmaj li xxrep 3 z i xxrep 3 e xxrep 3 ! hehe xxmaj i 'm very well thank - you ! xxmaj being xxup such a lazy bum , so zero complaints . xxmaj and how are you xxmaj miss xxmaj lyons ? xxpad xxpad xxpad xxpad xxpad xxpad xxpad xxpad xxpad xxpad xxpad xxpad xxpad xxpad xxpad xxpad xxpad xxpad xxpad xxpad xxpad</td>\n",
       "      <td>4</td>\n",
       "      <td>4</td>\n",
       "    </tr>\n",
       "    <tr>\n",
       "      <th>8</th>\n",
       "      <td>xxbos xxunk : hix anh xxmaj xxunk ? ang xxunk thi ? anh xxmaj xxunk se ? xxunk tin xxunk cho em la ? xxunk vï¿½ xxup ym xxrep 4 ? c , xxunk i m ru thi ? anh xxmaj tr bi ? xxunk 50k xxpad xxpad xxpad xxpad xxpad xxpad xxpad xxpad xxpad xxpad xxpad xxpad xxpad xxpad xxpad xxpad xxpad xxpad xxpad xxpad xxpad</td>\n",
       "      <td>4</td>\n",
       "      <td>0</td>\n",
       "    </tr>\n",
       "  </tbody>\n",
       "</table>"
      ],
      "text/plain": [
       "<IPython.core.display.HTML object>"
      ]
     },
     "metadata": {},
     "output_type": "display_data"
    }
   ],
   "source": [
    "learn.show_results()"
   ]
  },
  {
   "cell_type": "code",
   "execution_count": 36,
   "metadata": {
    "ExecuteTime": {
     "end_time": "2020-11-05T03:59:15.859172Z",
     "start_time": "2020-11-05T03:59:13.240636Z"
    }
   },
   "outputs": [],
   "source": [
    "learn.save('final_classifier')"
   ]
  },
  {
   "cell_type": "code",
   "execution_count": 37,
   "metadata": {
    "ExecuteTime": {
     "end_time": "2020-11-05T03:59:31.558288Z",
     "start_time": "2020-11-05T03:59:15.861232Z"
    }
   },
   "outputs": [],
   "source": [
    "learn.export('final_classifier.pkl')"
   ]
  },
  {
   "cell_type": "code",
   "execution_count": 10,
   "metadata": {
    "ExecuteTime": {
     "end_time": "2020-11-07T12:09:57.779340Z",
     "start_time": "2020-11-07T12:09:57.349217Z"
    }
   },
   "outputs": [],
   "source": [
    "learn = learn.load('final_classifier')"
   ]
  },
  {
   "cell_type": "markdown",
   "metadata": {},
   "source": [
    "## Making and evaluating predictions"
   ]
  },
  {
   "cell_type": "code",
   "execution_count": 11,
   "metadata": {
    "ExecuteTime": {
     "end_time": "2020-11-07T12:10:28.688102Z",
     "start_time": "2020-11-07T12:09:59.248693Z"
    }
   },
   "outputs": [
    {
     "data": {
      "text/html": [],
      "text/plain": [
       "<IPython.core.display.HTML object>"
      ]
     },
     "metadata": {},
     "output_type": "display_data"
    }
   ],
   "source": [
    "preds = learn.get_preds()"
   ]
  },
  {
   "cell_type": "code",
   "execution_count": 12,
   "metadata": {
    "ExecuteTime": {
     "end_time": "2020-11-07T12:11:30.733555Z",
     "start_time": "2020-11-07T12:11:30.727702Z"
    }
   },
   "outputs": [
    {
     "name": "stdout",
     "output_type": "stream",
     "text": [
      "Object `learn.get_preds()` not found.\n"
     ]
    }
   ],
   "source": [
    "??learn.get_preds()"
   ]
  },
  {
   "cell_type": "code",
   "execution_count": 13,
   "metadata": {
    "ExecuteTime": {
     "end_time": "2020-11-07T12:11:37.791176Z",
     "start_time": "2020-11-07T12:11:37.784371Z"
    }
   },
   "outputs": [
    {
     "data": {
      "text/plain": [
       "tensor([[0.0263, 0.9737],\n",
       "        [0.2664, 0.7336],\n",
       "        [0.0359, 0.9641],\n",
       "        [0.8975, 0.1025]])"
      ]
     },
     "execution_count": 13,
     "metadata": {},
     "output_type": "execute_result"
    }
   ],
   "source": [
    "preds[0][:4]"
   ]
  },
  {
   "cell_type": "code",
   "execution_count": 14,
   "metadata": {
    "ExecuteTime": {
     "end_time": "2020-11-07T12:12:24.022065Z",
     "start_time": "2020-11-07T12:11:40.286988Z"
    }
   },
   "outputs": [
    {
     "data": {
      "text/html": [],
      "text/plain": [
       "<IPython.core.display.HTML object>"
      ]
     },
     "metadata": {},
     "output_type": "display_data"
    }
   ],
   "source": [
    "interp = ClassificationInterpretation.from_learner(learn)"
   ]
  },
  {
   "cell_type": "code",
   "execution_count": 15,
   "metadata": {
    "ExecuteTime": {
     "end_time": "2020-11-07T12:12:24.165322Z",
     "start_time": "2020-11-07T12:12:24.025667Z"
    }
   },
   "outputs": [
    {
     "data": {
      "image/png": "[encoded data removed]",
      "text/plain": [
       "<Figure size 432x288 with 1 Axes>"
      ]
     },
     "metadata": {
      "needs_background": "light"
     },
     "output_type": "display_data"
    }
   ],
   "source": [
    "interp.plot_confusion_matrix()"
   ]
  },
  {
   "cell_type": "code",
   "execution_count": 16,
   "metadata": {
    "ExecuteTime": {
     "end_time": "2020-11-07T12:12:24.276798Z",
     "start_time": "2020-11-07T12:12:24.167136Z"
    }
   },
   "outputs": [
    {
     "data": {
      "image/png": "[encoded data removed]",
      "text/plain": [
       "<Figure size 432x288 with 1 Axes>"
      ]
     },
     "metadata": {
      "needs_background": "light"
     },
     "output_type": "display_data"
    }
   ],
   "source": [
    "interp.plot_confusion_matrix(normalize='true')"
   ]
  },
  {
   "cell_type": "code",
   "execution_count": 17,
   "metadata": {
    "ExecuteTime": {
     "end_time": "2020-11-07T12:12:24.293104Z",
     "start_time": "2020-11-07T12:12:24.278663Z"
    }
   },
   "outputs": [],
   "source": [
    "losses = interp.top_losses()"
   ]
  },
  {
   "cell_type": "code",
   "execution_count": 18,
   "metadata": {
    "ExecuteTime": {
     "end_time": "2020-11-07T12:12:24.298333Z",
     "start_time": "2020-11-07T12:12:24.294758Z"
    }
   },
   "outputs": [
    {
     "data": {
      "text/plain": [
       "100000"
      ]
     },
     "execution_count": 18,
     "metadata": {},
     "output_type": "execute_result"
    }
   ],
   "source": [
    "len(losses[1])"
   ]
  },
  {
   "cell_type": "code",
   "execution_count": 45,
   "metadata": {},
   "outputs": [
    {
     "data": {
      "text/html": [
       "<table border=\"1\" class=\"dataframe\">\n",
       "  <thead>\n",
       "    <tr style=\"text-align: right;\">\n",
       "      <th></th>\n",
       "      <th>input</th>\n",
       "      <th>target</th>\n",
       "      <th>predicted</th>\n",
       "      <th>probability</th>\n",
       "      <th>loss</th>\n",
       "    </tr>\n",
       "  </thead>\n",
       "  <tbody>\n",
       "    <tr>\n",
       "      <th>0</th>\n",
       "      <td>xxbos my hoodie has ears xxpad xxpad xxpad xxpad xxpad xxpad xxpad xxpad xxpad xxpad xxpad xxpad xxpad xxpad xxpad xxpad xxpad xxpad xxpad xxpad xxpad xxpad xxpad xxpad xxpad xxpad xxpad xxpad xxpad xxpad xxpad xxpad xxpad xxpad xxpad</td>\n",
       "      <td>4</td>\n",
       "      <td>0</td>\n",
       "      <td>0.9991644620895386</td>\n",
       "      <td>7.087475299835205</td>\n",
       "    </tr>\n",
       "    <tr>\n",
       "      <th>1</th>\n",
       "      <td>xxbos i miss you sis xxpad xxpad xxpad xxpad xxpad xxpad xxpad xxpad xxpad xxpad xxpad xxpad xxpad xxpad xxpad xxpad xxpad xxpad xxpad xxpad xxpad xxpad xxpad xxpad xxpad xxpad xxpad xxpad xxpad xxpad xxpad xxpad xxpad xxpad xxpad</td>\n",
       "      <td>4</td>\n",
       "      <td>0</td>\n",
       "      <td>0.9990839958190918</td>\n",
       "      <td>6.995491027832031</td>\n",
       "    </tr>\n",
       "    <tr>\n",
       "      <th>2</th>\n",
       "      <td>xxbos xxunk cool ! thank you thank you xxpad xxpad xxpad xxpad xxpad xxpad xxpad xxpad xxpad xxpad xxpad xxpad xxpad xxpad xxpad xxpad xxpad xxpad xxpad xxpad xxpad xxpad xxpad xxpad xxpad xxpad xxpad xxpad xxpad xxpad xxpad xxpad</td>\n",
       "      <td>0</td>\n",
       "      <td>4</td>\n",
       "      <td>0.9988101720809937</td>\n",
       "      <td>6.733932018280029</td>\n",
       "    </tr>\n",
       "    <tr>\n",
       "      <th>3</th>\n",
       "      <td>xxbos xxunk sorry about it xxpad xxpad xxpad xxpad xxpad xxpad xxpad xxpad xxpad xxpad xxpad xxpad xxpad xxpad xxpad xxpad xxpad xxpad xxpad xxpad xxpad xxpad xxpad xxpad xxpad xxpad xxpad xxpad xxpad xxpad xxpad xxpad xxpad xxpad xxpad</td>\n",
       "      <td>4</td>\n",
       "      <td>0</td>\n",
       "      <td>0.9976257681846619</td>\n",
       "      <td>6.043074607849121</td>\n",
       "    </tr>\n",
       "    <tr>\n",
       "      <th>4</th>\n",
       "      <td>xxbos just woke up wondering why my itunes wo nt play songs and why my printer went spaz at four this morning .. xxpad xxpad xxpad xxpad xxpad xxpad xxpad xxpad xxpad xxpad xxpad xxpad xxpad xxpad xxpad xxpad xxpad</td>\n",
       "      <td>4</td>\n",
       "      <td>0</td>\n",
       "      <td>0.997430145740509</td>\n",
       "      <td>5.963930606842041</td>\n",
       "    </tr>\n",
       "    <tr>\n",
       "      <th>5</th>\n",
       "      <td>xxbos not going to school sick xxpad xxpad xxpad xxpad xxpad xxpad xxpad xxpad xxpad xxpad xxpad xxpad xxpad xxpad xxpad xxpad xxpad xxpad xxpad xxpad xxpad xxpad xxpad xxpad xxpad xxpad xxpad xxpad xxpad xxpad xxpad xxpad xxpad xxpad</td>\n",
       "      <td>4</td>\n",
       "      <td>0</td>\n",
       "      <td>0.9960923790931702</td>\n",
       "      <td>5.544837474822998</td>\n",
       "    </tr>\n",
       "    <tr>\n",
       "      <th>6</th>\n",
       "      <td>xxbos last day of highschool tomorrow xxrep 4 ! so sad xxpad xxpad xxpad xxpad xxpad xxpad xxpad xxpad xxpad xxpad xxpad xxpad xxpad xxpad xxpad xxpad xxpad xxpad xxpad xxpad xxpad xxpad xxpad xxpad xxpad xxpad xxpad xxpad xxpad</td>\n",
       "      <td>4</td>\n",
       "      <td>0</td>\n",
       "      <td>0.9959447979927063</td>\n",
       "      <td>5.507761001586914</td>\n",
       "    </tr>\n",
       "    <tr>\n",
       "      <th>7</th>\n",
       "      <td>xxbos i wish i was in xxmaj california right now . xxpad xxpad xxpad xxpad xxpad xxpad xxpad xxpad xxpad xxpad xxpad xxpad xxpad xxpad xxpad xxpad xxpad xxpad xxpad xxpad xxpad xxpad xxpad xxpad xxpad xxpad xxpad xxpad xxpad</td>\n",
       "      <td>4</td>\n",
       "      <td>0</td>\n",
       "      <td>0.9941925406455994</td>\n",
       "      <td>5.148614406585693</td>\n",
       "    </tr>\n",
       "    <tr>\n",
       "      <th>8</th>\n",
       "      <td>xxbos i wish i was on an island . xxpad xxpad xxpad xxpad xxpad xxpad xxpad xxpad xxpad xxpad xxpad xxpad xxpad xxpad xxpad xxpad xxpad xxpad xxpad xxpad xxpad xxpad xxpad xxpad xxpad xxpad xxpad xxpad xxpad xxpad xxpad</td>\n",
       "      <td>4</td>\n",
       "      <td>0</td>\n",
       "      <td>0.9926954507827759</td>\n",
       "      <td>4.919257640838623</td>\n",
       "    </tr>\n",
       "    <tr>\n",
       "      <th>9</th>\n",
       "      <td>xxbos xxmaj good xxmaj bye xxmaj new xxmaj york ! xxup nyc was amazing ! xxpad xxpad xxpad xxpad xxpad xxpad xxpad xxpad xxpad xxpad xxpad xxpad xxpad xxpad xxpad xxpad xxpad xxpad xxpad xxpad xxpad xxpad xxpad xxpad xxpad</td>\n",
       "      <td>0</td>\n",
       "      <td>4</td>\n",
       "      <td>0.9924501180648804</td>\n",
       "      <td>4.886213779449463</td>\n",
       "    </tr>\n",
       "    <tr>\n",
       "      <th>10</th>\n",
       "      <td>xxbos really misses some people xxpad xxpad xxpad xxpad xxpad xxpad xxpad xxpad xxpad xxpad xxpad xxpad xxpad xxpad xxpad xxpad xxpad xxpad xxpad xxpad xxpad xxpad xxpad xxpad xxpad xxpad xxpad xxpad xxpad xxpad xxpad xxpad xxpad xxpad xxpad</td>\n",
       "      <td>4</td>\n",
       "      <td>0</td>\n",
       "      <td>0.9923468828201294</td>\n",
       "      <td>4.872641563415527</td>\n",
       "    </tr>\n",
       "    <tr>\n",
       "      <th>11</th>\n",
       "      <td>xxbos so tired .. so cold .. xxup fml atm .. xxpad xxpad xxpad xxpad xxpad xxpad xxpad xxpad xxpad xxpad xxpad xxpad xxpad xxpad xxpad xxpad xxpad xxpad xxpad xxpad xxpad xxpad xxpad xxpad xxpad xxpad xxpad xxpad xxpad</td>\n",
       "      <td>4</td>\n",
       "      <td>0</td>\n",
       "      <td>0.9923049807548523</td>\n",
       "      <td>4.867180824279785</td>\n",
       "    </tr>\n",
       "    <tr>\n",
       "      <th>12</th>\n",
       "      <td>xxbos xxmaj is back from the xxup er with some crutches a new butt and a wrapped knee xxpad xxpad xxpad xxpad xxpad xxpad xxpad xxpad xxpad xxpad xxpad xxpad xxpad xxpad xxpad xxpad xxpad xxpad xxpad xxpad xxpad xxpad</td>\n",
       "      <td>4</td>\n",
       "      <td>0</td>\n",
       "      <td>0.991953432559967</td>\n",
       "      <td>4.822514533996582</td>\n",
       "    </tr>\n",
       "    <tr>\n",
       "      <th>13</th>\n",
       "      <td>xxbos xxunk xxmaj thx for link xxpad xxpad xxpad xxpad xxpad xxpad xxpad xxpad xxpad xxpad xxpad xxpad xxpad xxpad xxpad xxpad xxpad xxpad xxpad xxpad xxpad xxpad xxpad xxpad xxpad xxpad xxpad xxpad xxpad xxpad xxpad xxpad xxpad xxpad</td>\n",
       "      <td>0</td>\n",
       "      <td>4</td>\n",
       "      <td>0.9910025000572205</td>\n",
       "      <td>4.710805892944336</td>\n",
       "    </tr>\n",
       "    <tr>\n",
       "      <th>14</th>\n",
       "      <td>xxbos so freaking tired from last night . i wish my cold would just go away . shelby xxpad xxpad xxpad xxpad xxpad xxpad xxpad xxpad xxpad xxpad xxpad xxpad xxpad xxpad xxpad xxpad xxpad xxpad xxpad xxpad xxpad xxpad</td>\n",
       "      <td>4</td>\n",
       "      <td>0</td>\n",
       "      <td>0.9906656742095947</td>\n",
       "      <td>4.674049377441406</td>\n",
       "    </tr>\n",
       "    <tr>\n",
       "      <th>15</th>\n",
       "      <td>xxbos xxunk a xxrep 3 w no problem , sorry for tha loss xxpad xxpad xxpad xxpad xxpad xxpad xxpad xxpad xxpad xxpad xxpad xxpad xxpad xxpad xxpad xxpad xxpad xxpad xxpad xxpad xxpad xxpad xxpad xxpad xxpad xxpad xxpad</td>\n",
       "      <td>4</td>\n",
       "      <td>0</td>\n",
       "      <td>0.9905609488487244</td>\n",
       "      <td>4.662901401519775</td>\n",
       "    </tr>\n",
       "    <tr>\n",
       "      <th>16</th>\n",
       "      <td>xxbos xxmaj ugh , xxmaj i 'm tired . i do n't want to go back to bed . i xxunk , but idk . xxpad xxpad xxpad xxpad xxpad xxpad xxpad xxpad xxpad xxpad xxpad xxpad xxpad xxpad xxpad</td>\n",
       "      <td>4</td>\n",
       "      <td>0</td>\n",
       "      <td>0.9900715351104736</td>\n",
       "      <td>4.612348556518555</td>\n",
       "    </tr>\n",
       "    <tr>\n",
       "      <th>17</th>\n",
       "      <td>xxbos xxmaj waiting for next storm so i can kite in xxmaj sydney xxmaj heading to cairns soon . xxmaj see green island http : / / xxrep 3 w xxunk / graphs / xxunk xxmaj nice xxpad xxpad xxpad</td>\n",
       "      <td>0</td>\n",
       "      <td>4</td>\n",
       "      <td>0.9894340634346008</td>\n",
       "      <td>4.550123691558838</td>\n",
       "    </tr>\n",
       "    <tr>\n",
       "      <th>18</th>\n",
       "      <td>xxbos at xxmaj xxunk airport , will board for xxmaj auckland , in 15 min . xxmaj although it is n't the most comfortable place in the world , i already miss xxmaj japan xxpad xxpad xxpad xxpad xxpad xxpad</td>\n",
       "      <td>4</td>\n",
       "      <td>0</td>\n",
       "      <td>0.988815426826477</td>\n",
       "      <td>4.493219375610352</td>\n",
       "    </tr>\n",
       "    <tr>\n",
       "      <th>19</th>\n",
       "      <td>xxbos i still ca nt get over last night :o xxpad xxpad xxpad xxpad xxpad xxpad xxpad xxpad xxpad xxpad xxpad xxpad xxpad xxpad xxpad xxpad xxpad xxpad xxpad xxpad xxpad xxpad xxpad xxpad xxpad xxpad xxpad xxpad xxpad xxpad</td>\n",
       "      <td>4</td>\n",
       "      <td>0</td>\n",
       "      <td>0.9886677861213684</td>\n",
       "      <td>4.480102062225342</td>\n",
       "    </tr>\n",
       "    <tr>\n",
       "      <th>20</th>\n",
       "      <td>xxbos ca nt even get his arse into school atm xxpad xxpad xxpad xxpad xxpad xxpad xxpad xxpad xxpad xxpad xxpad xxpad xxpad xxpad xxpad xxpad xxpad xxpad xxpad xxpad xxpad xxpad xxpad xxpad xxpad xxpad xxpad xxpad xxpad xxpad</td>\n",
       "      <td>4</td>\n",
       "      <td>0</td>\n",
       "      <td>0.9885839223861694</td>\n",
       "      <td>4.4727349281311035</td>\n",
       "    </tr>\n",
       "    <tr>\n",
       "      <th>21</th>\n",
       "      <td>xxbos xxunk xxmaj there is ? xxmaj hmm , i need to explore that site a little more ! xxmaj yeah if you could link me that 'd be awesome ! xxup thanks xxpad xxpad xxpad xxpad xxpad xxpad xxpad</td>\n",
       "      <td>0</td>\n",
       "      <td>4</td>\n",
       "      <td>0.987916886806488</td>\n",
       "      <td>4.415948390960693</td>\n",
       "    </tr>\n",
       "    <tr>\n",
       "      <th>22</th>\n",
       "      <td>xxbos xxunk i love those listings xxpad xxpad xxpad xxpad xxpad xxpad xxpad xxpad xxpad xxpad xxpad xxpad xxpad xxpad xxpad xxpad xxpad xxpad xxpad xxpad xxpad xxpad xxpad xxpad xxpad xxpad xxpad xxpad xxpad xxpad xxpad xxpad xxpad xxpad</td>\n",
       "      <td>0</td>\n",
       "      <td>4</td>\n",
       "      <td>0.9878073334693909</td>\n",
       "      <td>4.406918048858643</td>\n",
       "    </tr>\n",
       "    <tr>\n",
       "      <th>23</th>\n",
       "      <td>xxbos xxunk xxmaj sadtimes indeed ! xxpad xxpad xxpad xxpad xxpad xxpad xxpad xxpad xxpad xxpad xxpad xxpad xxpad xxpad xxpad xxpad xxpad xxpad xxpad xxpad xxpad xxpad xxpad xxpad xxpad xxpad xxpad xxpad xxpad xxpad xxpad xxpad xxpad xxpad</td>\n",
       "      <td>0</td>\n",
       "      <td>4</td>\n",
       "      <td>0.9875126481056213</td>\n",
       "      <td>4.383040904998779</td>\n",
       "    </tr>\n",
       "    <tr>\n",
       "      <th>24</th>\n",
       "      <td>xxbos man i slept so well … i feel so refreshed xxpad xxpad xxpad xxpad xxpad xxpad xxpad xxpad xxpad xxpad xxpad xxpad xxpad xxpad xxpad xxpad xxpad xxpad xxpad xxpad xxpad xxpad xxpad xxpad xxpad xxpad xxpad xxpad xxpad</td>\n",
       "      <td>4</td>\n",
       "      <td>0</td>\n",
       "      <td>0.985438346862793</td>\n",
       "      <td>4.229360580444336</td>\n",
       "    </tr>\n",
       "    <tr>\n",
       "      <th>25</th>\n",
       "      <td>xxbos please check out my site http : / / xxunk / xxpad xxpad xxpad xxpad xxpad xxpad xxpad xxpad xxpad xxpad xxpad xxpad xxpad xxpad xxpad xxpad xxpad xxpad xxpad xxpad xxpad xxpad xxpad xxpad xxpad xxpad xxpad xxpad</td>\n",
       "      <td>0</td>\n",
       "      <td>4</td>\n",
       "      <td>0.9849513173103333</td>\n",
       "      <td>4.196469783782959</td>\n",
       "    </tr>\n",
       "    <tr>\n",
       "      <th>26</th>\n",
       "      <td>xxbos xxunk xxmaj sorry xxmaj we want to go on a wine tour . xxmaj shame we have n't done that yet . xxpad xxpad xxpad xxpad xxpad xxpad xxpad xxpad xxpad xxpad xxpad xxpad xxpad xxpad xxpad xxpad xxpad</td>\n",
       "      <td>4</td>\n",
       "      <td>0</td>\n",
       "      <td>0.9846752285957336</td>\n",
       "      <td>4.178287029266357</td>\n",
       "    </tr>\n",
       "    <tr>\n",
       "      <th>27</th>\n",
       "      <td>xxbos nighty night and sweet dreams .. work at 8 am fun . xxmaj amber xxpad xxpad xxpad xxpad xxpad xxpad xxpad xxpad xxpad xxpad xxpad xxpad xxpad xxpad xxpad xxpad xxpad xxpad xxpad xxpad xxpad xxpad xxpad xxpad xxpad</td>\n",
       "      <td>0</td>\n",
       "      <td>4</td>\n",
       "      <td>0.9846475124359131</td>\n",
       "      <td>4.176474571228027</td>\n",
       "    </tr>\n",
       "    <tr>\n",
       "      <th>28</th>\n",
       "      <td>xxbos xxmaj no pain 2day took the pain killers at the right time xxpad xxpad xxpad xxpad xxpad xxpad xxpad xxpad xxpad xxpad xxpad xxpad xxpad xxpad xxpad xxpad xxpad xxpad xxpad xxpad xxpad xxpad xxpad xxpad xxpad xxpad xxpad</td>\n",
       "      <td>4</td>\n",
       "      <td>0</td>\n",
       "      <td>0.9846242666244507</td>\n",
       "      <td>4.174962997436523</td>\n",
       "    </tr>\n",
       "    <tr>\n",
       "      <th>29</th>\n",
       "      <td>xxbos xxmaj off to xxmaj grandmas house . xxmaj yay ! xxpad xxpad xxpad xxpad xxpad xxpad xxpad xxpad xxpad xxpad xxpad xxpad xxpad xxpad xxpad xxpad xxpad xxpad xxpad xxpad xxpad xxpad xxpad xxpad xxpad xxpad xxpad xxpad xxpad</td>\n",
       "      <td>0</td>\n",
       "      <td>4</td>\n",
       "      <td>0.9845603704452515</td>\n",
       "      <td>4.170821189880371</td>\n",
       "    </tr>\n",
       "    <tr>\n",
       "      <th>30</th>\n",
       "      <td>xxbos xxmaj sitting xxmaj ready xxmaj reserve at xxup atl airport … hoping to fly out but kinda wanting to stay home today xxpad xxpad xxpad xxpad xxpad xxpad xxpad xxpad xxpad xxpad xxpad xxpad xxpad xxpad xxpad xxpad xxpad</td>\n",
       "      <td>4</td>\n",
       "      <td>0</td>\n",
       "      <td>0.9844241738319397</td>\n",
       "      <td>4.162034034729004</td>\n",
       "    </tr>\n",
       "    <tr>\n",
       "      <th>31</th>\n",
       "      <td>xxbos xxunk no i did n't ; my gears were missing a bolt and as such i did n't fancy making the journey on a single speed xxpad xxpad xxpad xxpad xxpad xxpad xxpad xxpad xxpad xxpad xxpad xxpad xxpad</td>\n",
       "      <td>4</td>\n",
       "      <td>0</td>\n",
       "      <td>0.9839774966239929</td>\n",
       "      <td>4.133759021759033</td>\n",
       "    </tr>\n",
       "    <tr>\n",
       "      <th>32</th>\n",
       "      <td>xxbos just got up and realized xxmaj i 'm out of coffee i need my espresso , let me go get some . xxmaj by the way , xxmaj dean &amp; &amp; xxmaj xxunk has their own brand , wonderful</td>\n",
       "      <td>0</td>\n",
       "      <td>4</td>\n",
       "      <td>0.9832914471626282</td>\n",
       "      <td>4.091838359832764</td>\n",
       "    </tr>\n",
       "    <tr>\n",
       "      <th>33</th>\n",
       "      <td>xxbos xxunk xxmaj oh yes ! i had to wait an hour just to pee and i ca n't get my invites to work xxpad xxpad xxpad xxpad xxpad xxpad xxpad xxpad xxpad xxpad xxpad xxpad xxpad xxpad xxpad xxpad</td>\n",
       "      <td>4</td>\n",
       "      <td>0</td>\n",
       "      <td>0.9832772016525269</td>\n",
       "      <td>4.0909810066223145</td>\n",
       "    </tr>\n",
       "    <tr>\n",
       "      <th>34</th>\n",
       "      <td>xxbos i feel liek xxup that xxup girl today . xxpad xxpad xxpad xxpad xxpad xxpad xxpad xxpad xxpad xxpad xxpad xxpad xxpad xxpad xxpad xxpad xxpad xxpad xxpad xxpad xxpad xxpad xxpad xxpad xxpad xxpad xxpad xxpad xxpad xxpad</td>\n",
       "      <td>4</td>\n",
       "      <td>0</td>\n",
       "      <td>0.9809122085571289</td>\n",
       "      <td>3.9587044715881348</td>\n",
       "    </tr>\n",
       "    <tr>\n",
       "      <th>35</th>\n",
       "      <td>xxbos i want to show yous but the colour is nt showing on the cam ! i xxunk yous will have to wait 8 days xxpad xxpad xxpad xxpad xxpad xxpad xxpad xxpad xxpad xxpad xxpad xxpad xxpad xxpad xxpad</td>\n",
       "      <td>4</td>\n",
       "      <td>0</td>\n",
       "      <td>0.9803669452667236</td>\n",
       "      <td>3.930544376373291</td>\n",
       "    </tr>\n",
       "    <tr>\n",
       "      <th>36</th>\n",
       "      <td>xxbos home and its xxunk and i ca nt sleep xxpad xxpad xxpad xxpad xxpad xxpad xxpad xxpad xxpad xxpad xxpad xxpad xxpad xxpad xxpad xxpad xxpad xxpad xxpad xxpad xxpad xxpad xxpad xxpad xxpad xxpad xxpad xxpad xxpad xxpad</td>\n",
       "      <td>4</td>\n",
       "      <td>0</td>\n",
       "      <td>0.9793060421943665</td>\n",
       "      <td>3.8779115676879883</td>\n",
       "    </tr>\n",
       "    <tr>\n",
       "      <th>37</th>\n",
       "      <td>xxbos @taylorswift13 http : / / twitpic.com / xxunk - xxmaj gosh , i wish i had fairy tale shoes xxpad xxpad xxpad xxpad xxpad xxpad xxpad xxpad xxpad xxpad xxpad xxpad xxpad xxpad xxpad xxpad xxpad xxpad xxpad xxpad</td>\n",
       "      <td>4</td>\n",
       "      <td>0</td>\n",
       "      <td>0.9790984392166138</td>\n",
       "      <td>3.867932081222534</td>\n",
       "    </tr>\n",
       "    <tr>\n",
       "      <th>38</th>\n",
       "      <td>xxbos xxunk hey talk to me xxpad xxpad xxpad xxpad xxpad xxpad xxpad xxpad xxpad xxpad xxpad xxpad xxpad xxpad xxpad xxpad xxpad xxpad xxpad xxpad xxpad xxpad xxpad xxpad xxpad xxpad xxpad xxpad xxpad xxpad xxpad xxpad xxpad xxpad</td>\n",
       "      <td>0</td>\n",
       "      <td>4</td>\n",
       "      <td>0.9790600538253784</td>\n",
       "      <td>3.866098642349243</td>\n",
       "    </tr>\n",
       "    <tr>\n",
       "      <th>39</th>\n",
       "      <td>xxbos xxunk you 're missing out xxpad xxpad xxpad xxpad xxpad xxpad xxpad xxpad xxpad xxpad xxpad xxpad xxpad xxpad xxpad xxpad xxpad xxpad xxpad xxpad xxpad xxpad xxpad xxpad xxpad xxpad xxpad xxpad xxpad xxpad xxpad xxpad xxpad xxpad</td>\n",
       "      <td>4</td>\n",
       "      <td>0</td>\n",
       "      <td>0.9783563017845154</td>\n",
       "      <td>3.833038806915283</td>\n",
       "    </tr>\n",
       "    <tr>\n",
       "      <th>40</th>\n",
       "      <td>xxbos have n't had meat yet xxpad xxpad xxpad xxpad xxpad xxpad xxpad xxpad xxpad xxpad xxpad xxpad xxpad xxpad xxpad xxpad xxpad xxpad xxpad xxpad xxpad xxpad xxpad xxpad xxpad xxpad xxpad xxpad xxpad xxpad xxpad xxpad xxpad xxpad</td>\n",
       "      <td>4</td>\n",
       "      <td>0</td>\n",
       "      <td>0.9781416058540344</td>\n",
       "      <td>3.8231711387634277</td>\n",
       "    </tr>\n",
       "    <tr>\n",
       "      <th>41</th>\n",
       "      <td>xxbos @alyssa_milano xxmaj thanks ! xxmaj from xxmaj tehran with sorrow xxpad xxpad xxpad xxpad xxpad xxpad xxpad xxpad xxpad xxpad xxpad xxpad xxpad xxpad xxpad xxpad xxpad xxpad xxpad xxpad xxpad xxpad xxpad xxpad xxpad xxpad xxpad xxpad xxpad</td>\n",
       "      <td>0</td>\n",
       "      <td>4</td>\n",
       "      <td>0.9778608679771423</td>\n",
       "      <td>3.810411214828491</td>\n",
       "    </tr>\n",
       "    <tr>\n",
       "      <th>42</th>\n",
       "      <td>xxbos xxup yay xxrep 7 ! and xxpad xxpad xxpad xxpad xxpad xxpad xxpad xxpad xxpad xxpad xxpad xxpad xxpad xxpad xxpad xxpad xxpad xxpad xxpad xxpad xxpad xxpad xxpad xxpad xxpad xxpad xxpad xxpad xxpad xxpad xxpad xxpad xxpad</td>\n",
       "      <td>0</td>\n",
       "      <td>4</td>\n",
       "      <td>0.9775094985961914</td>\n",
       "      <td>3.794658660888672</td>\n",
       "    </tr>\n",
       "    <tr>\n",
       "      <th>43</th>\n",
       "      <td>xxbos xxmaj why does he make me so happy ? xxpad xxpad xxpad xxpad xxpad xxpad xxpad xxpad xxpad xxpad xxpad xxpad xxpad xxpad xxpad xxpad xxpad xxpad xxpad xxpad xxpad xxpad xxpad xxpad xxpad xxpad xxpad xxpad xxpad xxpad</td>\n",
       "      <td>4</td>\n",
       "      <td>0</td>\n",
       "      <td>0.97742760181427</td>\n",
       "      <td>3.7910244464874268</td>\n",
       "    </tr>\n",
       "    <tr>\n",
       "      <th>44</th>\n",
       "      <td>xxbos may tummy hurts so is my teeth … at least i can play dota xxpad xxpad xxpad xxpad xxpad xxpad xxpad xxpad xxpad xxpad xxpad xxpad xxpad xxpad xxpad xxpad xxpad xxpad xxpad xxpad xxpad xxpad xxpad xxpad xxpad</td>\n",
       "      <td>4</td>\n",
       "      <td>0</td>\n",
       "      <td>0.9765111804008484</td>\n",
       "      <td>3.7512314319610596</td>\n",
       "    </tr>\n",
       "    <tr>\n",
       "      <th>45</th>\n",
       "      <td>xxbos cut my hair still got some more to cut too xxpad xxpad xxpad xxpad xxpad xxpad xxpad xxpad xxpad xxpad xxpad xxpad xxpad xxpad xxpad xxpad xxpad xxpad xxpad xxpad xxpad xxpad xxpad xxpad xxpad xxpad xxpad xxpad xxpad</td>\n",
       "      <td>4</td>\n",
       "      <td>0</td>\n",
       "      <td>0.9764741063117981</td>\n",
       "      <td>3.749652862548828</td>\n",
       "    </tr>\n",
       "    <tr>\n",
       "      <th>46</th>\n",
       "      <td>xxbos xxmaj nice views from top of xxunk tower of bay golden gate bridge xxunk and many others xxpad xxpad xxpad xxpad xxpad xxpad xxpad xxpad xxpad xxpad xxpad xxpad xxpad xxpad xxpad xxpad xxpad xxpad xxpad xxpad xxpad xxpad</td>\n",
       "      <td>0</td>\n",
       "      <td>4</td>\n",
       "      <td>0.9763753414154053</td>\n",
       "      <td>3.7454655170440674</td>\n",
       "    </tr>\n",
       "    <tr>\n",
       "      <th>47</th>\n",
       "      <td>xxbos xxunk xxmaj ha ! xxmaj i 'll make you buy a copy for every person you lend my book to ! xxpad xxpad xxpad xxpad xxpad xxpad xxpad xxpad xxpad xxpad xxpad xxpad xxpad xxpad xxpad xxpad xxpad xxpad</td>\n",
       "      <td>0</td>\n",
       "      <td>4</td>\n",
       "      <td>0.976269006729126</td>\n",
       "      <td>3.7409729957580566</td>\n",
       "    </tr>\n",
       "    <tr>\n",
       "      <th>48</th>\n",
       "      <td>xxbos m xxrep 3 m . xxmaj no exams and no work = xxpad xxpad xxpad xxpad xxpad xxpad xxpad xxpad xxpad xxpad xxpad xxpad xxpad xxpad xxpad xxpad xxpad xxpad xxpad xxpad xxpad xxpad xxpad xxpad xxpad xxpad xxpad</td>\n",
       "      <td>4</td>\n",
       "      <td>0</td>\n",
       "      <td>0.976211428642273</td>\n",
       "      <td>3.7385494709014893</td>\n",
       "    </tr>\n",
       "    <tr>\n",
       "      <th>49</th>\n",
       "      <td>xxbos xxunk - welcome to twitter - you got it yet ? xxmaj enjoy your xxup bbq , so so jealous xxpad xxpad xxpad xxpad xxpad xxpad xxpad xxpad xxpad xxpad xxpad xxpad xxpad xxpad xxpad xxpad xxpad xxpad xxpad</td>\n",
       "      <td>0</td>\n",
       "      <td>4</td>\n",
       "      <td>0.9759292006492615</td>\n",
       "      <td>3.726752519607544</td>\n",
       "    </tr>\n",
       "    <tr>\n",
       "      <th>50</th>\n",
       "      <td>xxbos xxmaj no outfit is complete without a smile xxpad xxpad xxpad xxpad xxpad xxpad xxpad xxpad xxpad xxpad xxpad xxpad xxpad xxpad xxpad xxpad xxpad xxpad xxpad xxpad xxpad xxpad xxpad xxpad xxpad xxpad xxpad xxpad xxpad xxpad xxpad</td>\n",
       "      <td>4</td>\n",
       "      <td>0</td>\n",
       "      <td>0.9756478071212769</td>\n",
       "      <td>3.71513295173645</td>\n",
       "    </tr>\n",
       "    <tr>\n",
       "      <th>51</th>\n",
       "      <td>xxbos xxunk _ aw well you 're invited to my ocean party . you can xxunk whichever way you want ! xxpad xxpad xxpad xxpad xxpad xxpad xxpad xxpad xxpad xxpad xxpad xxpad xxpad xxpad xxpad xxpad xxpad xxpad xxpad</td>\n",
       "      <td>0</td>\n",
       "      <td>4</td>\n",
       "      <td>0.9752094149589539</td>\n",
       "      <td>3.697289228439331</td>\n",
       "    </tr>\n",
       "    <tr>\n",
       "      <th>52</th>\n",
       "      <td>xxbos wants a new fone xxunk the blackberry curve had a xxunk for a month and broke it so probz need to b xtra nice if i have any chance xxpad xxpad xxpad xxpad xxpad xxpad xxpad xxpad xxpad xxpad</td>\n",
       "      <td>4</td>\n",
       "      <td>0</td>\n",
       "      <td>0.9747862815856934</td>\n",
       "      <td>3.6803665161132812</td>\n",
       "    </tr>\n",
       "    <tr>\n",
       "      <th>53</th>\n",
       "      <td>xxbos @ddlovato xxup demi i xxup love xxup you xxup so xxup much xxup girl :3 ! please reply is one of my dreams xxpad xxpad xxpad xxpad xxpad xxpad xxpad xxpad xxpad xxpad xxpad xxpad xxpad xxpad xxpad xxpad</td>\n",
       "      <td>0</td>\n",
       "      <td>4</td>\n",
       "      <td>0.9746190905570984</td>\n",
       "      <td>3.673757314682007</td>\n",
       "    </tr>\n",
       "    <tr>\n",
       "      <th>54</th>\n",
       "      <td>xxbos xxmaj so why wo nt you fly with me xxpad xxpad xxpad xxpad xxpad xxpad xxpad xxpad xxpad xxpad xxpad xxpad xxpad xxpad xxpad xxpad xxpad xxpad xxpad xxpad xxpad xxpad xxpad xxpad xxpad xxpad xxpad xxpad xxpad xxpad</td>\n",
       "      <td>4</td>\n",
       "      <td>0</td>\n",
       "      <td>0.9744830131530762</td>\n",
       "      <td>3.668410539627075</td>\n",
       "    </tr>\n",
       "    <tr>\n",
       "      <th>55</th>\n",
       "      <td>xxbos xxunk xxmaj sounds great man . xxmaj i 'm bringing my oldest daughter tonight , xxmaj alyssa . xxmaj she 'll be in 7th grade this fall . a youth xxmaj she 's pumped xxpad xxpad xxpad xxpad xxpad</td>\n",
       "      <td>0</td>\n",
       "      <td>4</td>\n",
       "      <td>0.9737817645072937</td>\n",
       "      <td>3.6413002014160156</td>\n",
       "    </tr>\n",
       "    <tr>\n",
       "      <th>56</th>\n",
       "      <td>xxbos xxmaj indonesia open 2009 . xxmaj china 's good xxpad xxpad xxpad xxpad xxpad xxpad xxpad xxpad xxpad xxpad xxpad xxpad xxpad xxpad xxpad xxpad xxpad xxpad xxpad xxpad xxpad xxpad xxpad xxpad xxpad xxpad xxpad xxpad xxpad xxpad</td>\n",
       "      <td>0</td>\n",
       "      <td>4</td>\n",
       "      <td>0.9736256003379822</td>\n",
       "      <td>3.6353609561920166</td>\n",
       "    </tr>\n",
       "    <tr>\n",
       "      <th>57</th>\n",
       "      <td>xxbos xxunk xxmaj okay … good to know . xxpad xxpad xxpad xxpad xxpad xxpad xxpad xxpad xxpad xxpad xxpad xxpad xxpad xxpad xxpad xxpad xxpad xxpad xxpad xxpad xxpad xxpad xxpad xxpad xxpad xxpad xxpad xxpad xxpad xxpad xxpad</td>\n",
       "      <td>0</td>\n",
       "      <td>4</td>\n",
       "      <td>0.9731510877609253</td>\n",
       "      <td>3.61752986907959</td>\n",
       "    </tr>\n",
       "    <tr>\n",
       "      <th>58</th>\n",
       "      <td>xxbos xxunk i love you xxunk xxpad xxpad xxpad xxpad xxpad xxpad xxpad xxpad xxpad xxpad xxpad xxpad xxpad xxpad xxpad xxpad xxpad xxpad xxpad xxpad xxpad xxpad xxpad xxpad xxpad xxpad xxpad xxpad xxpad xxpad xxpad xxpad xxpad xxpad</td>\n",
       "      <td>0</td>\n",
       "      <td>4</td>\n",
       "      <td>0.9729495048522949</td>\n",
       "      <td>3.6100473403930664</td>\n",
       "    </tr>\n",
       "    <tr>\n",
       "      <th>59</th>\n",
       "      <td>xxbos brushing his teeth xxpad xxpad xxpad xxpad xxpad xxpad xxpad xxpad xxpad xxpad xxpad xxpad xxpad xxpad xxpad xxpad xxpad xxpad xxpad xxpad xxpad xxpad xxpad xxpad xxpad xxpad xxpad xxpad xxpad xxpad xxpad xxpad xxpad xxpad xxpad xxpad</td>\n",
       "      <td>4</td>\n",
       "      <td>0</td>\n",
       "      <td>0.9726830124855042</td>\n",
       "      <td>3.6002464294433594</td>\n",
       "    </tr>\n",
       "    <tr>\n",
       "      <th>60</th>\n",
       "      <td>xxbos @trvsbrkr &lt;33 love you travis . xxpad xxpad xxpad xxpad xxpad xxpad xxpad xxpad xxpad xxpad xxpad xxpad xxpad xxpad xxpad xxpad xxpad xxpad xxpad xxpad xxpad xxpad xxpad xxpad xxpad xxpad xxpad xxpad xxpad xxpad xxpad xxpad xxpad</td>\n",
       "      <td>0</td>\n",
       "      <td>4</td>\n",
       "      <td>0.9725104570388794</td>\n",
       "      <td>3.5939512252807617</td>\n",
       "    </tr>\n",
       "    <tr>\n",
       "      <th>61</th>\n",
       "      <td>xxbos man the xxmaj coyotes killed the xxmaj canucks 6 - 1 when they came to xxup az … they ca nt handle the heat xxrep 3 ! xxpad xxpad xxpad xxpad xxpad xxpad xxpad xxpad xxpad xxpad xxpad xxpad</td>\n",
       "      <td>4</td>\n",
       "      <td>0</td>\n",
       "      <td>0.9716048836708069</td>\n",
       "      <td>3.561535596847534</td>\n",
       "    </tr>\n",
       "    <tr>\n",
       "      <th>62</th>\n",
       "      <td>xxbos @riandawson what about stickam xxpad xxpad xxpad xxpad xxpad xxpad xxpad xxpad xxpad xxpad xxpad xxpad xxpad xxpad xxpad xxpad xxpad xxpad xxpad xxpad xxpad xxpad xxpad xxpad xxpad xxpad xxpad xxpad xxpad xxpad xxpad xxpad xxpad xxpad xxpad</td>\n",
       "      <td>0</td>\n",
       "      <td>4</td>\n",
       "      <td>0.9714592695236206</td>\n",
       "      <td>3.5564229488372803</td>\n",
       "    </tr>\n",
       "    <tr>\n",
       "      <th>63</th>\n",
       "      <td>xxbos xxunk xxmaj just a quick thanks for the xxmaj autographed xxunk tee i won for &amp; ' why i like your show &amp; ' ! xxmaj el xxmaj xxunk , xxunk xxunk xxmaj xxunk xxpad xxpad xxpad xxpad xxpad</td>\n",
       "      <td>0</td>\n",
       "      <td>4</td>\n",
       "      <td>0.9707990884780884</td>\n",
       "      <td>3.5335566997528076</td>\n",
       "    </tr>\n",
       "    <tr>\n",
       "      <th>64</th>\n",
       "      <td>xxbos xxunk eek - so sorry ! xxpad xxpad xxpad xxpad xxpad xxpad xxpad xxpad xxpad xxpad xxpad xxpad xxpad xxpad xxpad xxpad xxpad xxpad xxpad xxpad xxpad xxpad xxpad xxpad xxpad xxpad xxpad xxpad xxpad xxpad xxpad xxpad xxpad</td>\n",
       "      <td>4</td>\n",
       "      <td>0</td>\n",
       "      <td>0.9705012440681458</td>\n",
       "      <td>3.523406982421875</td>\n",
       "    </tr>\n",
       "    <tr>\n",
       "      <th>65</th>\n",
       "      <td>xxbos xxunk good luck xxunk the tiring journey ! xxpad xxpad xxpad xxpad xxpad xxpad xxpad xxpad xxpad xxpad xxpad xxpad xxpad xxpad xxpad xxpad xxpad xxpad xxpad xxpad xxpad xxpad xxpad xxpad xxpad xxpad xxpad xxpad xxpad xxpad xxpad</td>\n",
       "      <td>0</td>\n",
       "      <td>4</td>\n",
       "      <td>0.9704636335372925</td>\n",
       "      <td>3.5221331119537354</td>\n",
       "    </tr>\n",
       "    <tr>\n",
       "      <th>66</th>\n",
       "      <td>xxbos xxunk goodnite . i 'll see u again xxpad xxpad xxpad xxpad xxpad xxpad xxpad xxpad xxpad xxpad xxpad xxpad xxpad xxpad xxpad xxpad xxpad xxpad xxpad xxpad xxpad xxpad xxpad xxpad xxpad xxpad xxpad xxpad xxpad xxpad xxpad</td>\n",
       "      <td>0</td>\n",
       "      <td>4</td>\n",
       "      <td>0.9704135656356812</td>\n",
       "      <td>3.520439386367798</td>\n",
       "    </tr>\n",
       "    <tr>\n",
       "      <th>67</th>\n",
       "      <td>xxbos i really need a job . xxpad xxpad xxpad xxpad xxpad xxpad xxpad xxpad xxpad xxpad xxpad xxpad xxpad xxpad xxpad xxpad xxpad xxpad xxpad xxpad xxpad xxpad xxpad xxpad xxpad xxpad xxpad xxpad xxpad xxpad xxpad xxpad xxpad</td>\n",
       "      <td>4</td>\n",
       "      <td>0</td>\n",
       "      <td>0.9695928692817688</td>\n",
       "      <td>3.4930758476257324</td>\n",
       "    </tr>\n",
       "    <tr>\n",
       "      <th>68</th>\n",
       "      <td>xxbos xxmaj we saw i xxmaj love xxmaj you , xxmaj man . xxmaj based on that movie and friends ' reviews of xxmaj the xxmaj hangover , we picked the wrong movie xxpad xxpad xxpad xxpad xxpad xxpad xxpad</td>\n",
       "      <td>0</td>\n",
       "      <td>4</td>\n",
       "      <td>0.9684450626373291</td>\n",
       "      <td>3.456024169921875</td>\n",
       "    </tr>\n",
       "    <tr>\n",
       "      <th>69</th>\n",
       "      <td>xxbos xxunk you can read my twitter updates from it xxpad xxpad xxpad xxpad xxpad xxpad xxpad xxpad xxpad xxpad xxpad xxpad xxpad xxpad xxpad xxpad xxpad xxpad xxpad xxpad xxpad xxpad xxpad xxpad xxpad xxpad xxpad xxpad xxpad xxpad</td>\n",
       "      <td>0</td>\n",
       "      <td>4</td>\n",
       "      <td>0.9675756692886353</td>\n",
       "      <td>3.428847074508667</td>\n",
       "    </tr>\n",
       "    <tr>\n",
       "      <th>70</th>\n",
       "      <td>xxbos xxmaj just got home from a work .. and not looking forward to it tomorrow morning ! xxmaj oh and tomorrow night ! xxmaj great xxpad xxpad xxpad xxpad xxpad xxpad xxpad xxpad xxpad xxpad xxpad xxpad xxpad xxpad</td>\n",
       "      <td>0</td>\n",
       "      <td>4</td>\n",
       "      <td>0.9671790599822998</td>\n",
       "      <td>3.4166901111602783</td>\n",
       "    </tr>\n",
       "    <tr>\n",
       "      <th>71</th>\n",
       "      <td>xxbos xxmaj the one movie i can see over and over and not get bored , is not in english xxpad xxpad xxpad xxpad xxpad xxpad xxpad xxpad xxpad xxpad xxpad xxpad xxpad xxpad xxpad xxpad xxpad xxpad xxpad xxpad</td>\n",
       "      <td>4</td>\n",
       "      <td>0</td>\n",
       "      <td>0.9661446809768677</td>\n",
       "      <td>3.3856570720672607</td>\n",
       "    </tr>\n",
       "    <tr>\n",
       "      <th>72</th>\n",
       "      <td>xxbos xxunk again , xxmaj bob , xxmaj i 'm sorry . xxpad xxpad xxpad xxpad xxpad xxpad xxpad xxpad xxpad xxpad xxpad xxpad xxpad xxpad xxpad xxpad xxpad xxpad xxpad xxpad xxpad xxpad xxpad xxpad xxpad xxpad xxpad xxpad</td>\n",
       "      <td>4</td>\n",
       "      <td>0</td>\n",
       "      <td>0.9652490615844727</td>\n",
       "      <td>3.359548807144165</td>\n",
       "    </tr>\n",
       "    <tr>\n",
       "      <th>73</th>\n",
       "      <td>xxbos xxmaj night xxmaj night xxmaj world . xxmaj see ya at 5 am xxpad xxpad xxpad xxpad xxpad xxpad xxpad xxpad xxpad xxpad xxpad xxpad xxpad xxpad xxpad xxpad xxpad xxpad xxpad xxpad xxpad xxpad xxpad xxpad xxpad xxpad</td>\n",
       "      <td>0</td>\n",
       "      <td>4</td>\n",
       "      <td>0.9628591537475586</td>\n",
       "      <td>3.293038845062256</td>\n",
       "    </tr>\n",
       "    <tr>\n",
       "      <th>74</th>\n",
       "      <td>xxbos xxmaj trying to concentrate on work , but it just does n't seem to be working ! xxpad xxpad xxpad xxpad xxpad xxpad xxpad xxpad xxpad xxpad xxpad xxpad xxpad xxpad xxpad xxpad xxpad xxpad xxpad xxpad xxpad xxpad</td>\n",
       "      <td>4</td>\n",
       "      <td>0</td>\n",
       "      <td>0.9625014066696167</td>\n",
       "      <td>3.283451795578003</td>\n",
       "    </tr>\n",
       "    <tr>\n",
       "      <th>75</th>\n",
       "      <td>xxbos xxmaj anthem of the day , &amp; ' kaskade - your love is black &amp; ' bwahahahahaha … xxmaj xxunk xxpad xxpad xxpad xxpad xxpad xxpad xxpad xxpad xxpad xxpad xxpad xxpad xxpad xxpad xxpad xxpad xxpad xxpad xxpad</td>\n",
       "      <td>0</td>\n",
       "      <td>4</td>\n",
       "      <td>0.9624733924865723</td>\n",
       "      <td>3.282703161239624</td>\n",
       "    </tr>\n",
       "    <tr>\n",
       "      <th>76</th>\n",
       "      <td>xxbos xxunk xxmaj thanks , make the suffering even harder for 2 more months xxmaj looks awesome ! xxpad xxpad xxpad xxpad xxpad xxpad xxpad xxpad xxpad xxpad xxpad xxpad xxpad xxpad xxpad xxpad xxpad xxpad xxpad xxpad xxpad xxpad</td>\n",
       "      <td>0</td>\n",
       "      <td>4</td>\n",
       "      <td>0.961729884147644</td>\n",
       "      <td>3.263085126876831</td>\n",
       "    </tr>\n",
       "    <tr>\n",
       "      <th>77</th>\n",
       "      <td>xxbos another long day of work in store . sweet xxpad xxpad xxpad xxpad xxpad xxpad xxpad xxpad xxpad xxpad xxpad xxpad xxpad xxpad xxpad xxpad xxpad xxpad xxpad xxpad xxpad xxpad xxpad xxpad xxpad xxpad xxpad xxpad xxpad xxpad</td>\n",
       "      <td>0</td>\n",
       "      <td>4</td>\n",
       "      <td>0.9610422253608704</td>\n",
       "      <td>3.2452781200408936</td>\n",
       "    </tr>\n",
       "    <tr>\n",
       "      <th>78</th>\n",
       "      <td>xxbos xxmaj my xxup cpr skills are really not up to xxunk xxunk xxrep 3 0 i killed my practice xxunk xxpad xxpad xxpad xxpad xxpad xxpad xxpad xxpad xxpad xxpad xxpad xxpad xxpad xxpad xxpad xxpad xxpad xxpad xxpad</td>\n",
       "      <td>4</td>\n",
       "      <td>0</td>\n",
       "      <td>0.9609628319740295</td>\n",
       "      <td>3.2432425022125244</td>\n",
       "    </tr>\n",
       "    <tr>\n",
       "      <th>79</th>\n",
       "      <td>xxbos xxunk xxmaj oh yeah . well have fun xxpad xxpad xxpad xxpad xxpad xxpad xxpad xxpad xxpad xxpad xxpad xxpad xxpad xxpad xxpad xxpad xxpad xxpad xxpad xxpad xxpad xxpad xxpad xxpad xxpad xxpad xxpad xxpad xxpad xxpad xxpad</td>\n",
       "      <td>0</td>\n",
       "      <td>4</td>\n",
       "      <td>0.960637092590332</td>\n",
       "      <td>3.234931468963623</td>\n",
       "    </tr>\n",
       "    <tr>\n",
       "      <th>80</th>\n",
       "      <td>xxbos xxmaj home now got a haircut lol . ok go a table for place saw xxmaj julie and chris at ikea how awesome xxpad xxpad xxpad xxpad xxpad xxpad xxpad xxpad xxpad xxpad xxpad xxpad xxpad xxpad xxpad xxpad</td>\n",
       "      <td>0</td>\n",
       "      <td>4</td>\n",
       "      <td>0.9605050086975098</td>\n",
       "      <td>3.231581449508667</td>\n",
       "    </tr>\n",
       "    <tr>\n",
       "      <th>81</th>\n",
       "      <td>xxbos i wanna feel pretty if i ca n't really xxup be pretty . xxpad xxpad xxpad xxpad xxpad xxpad xxpad xxpad xxpad xxpad xxpad xxpad xxpad xxpad xxpad xxpad xxpad xxpad xxpad xxpad xxpad xxpad xxpad xxpad xxpad xxpad</td>\n",
       "      <td>4</td>\n",
       "      <td>0</td>\n",
       "      <td>0.9603761434555054</td>\n",
       "      <td>3.2283236980438232</td>\n",
       "    </tr>\n",
       "    <tr>\n",
       "      <th>82</th>\n",
       "      <td>xxbos i want to hold your hand again xxpad xxpad xxpad xxpad xxpad xxpad xxpad xxpad xxpad xxpad xxpad xxpad xxpad xxpad xxpad xxpad xxpad xxpad xxpad xxpad xxpad xxpad xxpad xxpad xxpad xxpad xxpad xxpad xxpad xxpad xxpad xxpad</td>\n",
       "      <td>4</td>\n",
       "      <td>0</td>\n",
       "      <td>0.9602757692337036</td>\n",
       "      <td>3.2257933616638184</td>\n",
       "    </tr>\n",
       "    <tr>\n",
       "      <th>83</th>\n",
       "      <td>xxbos xxunk xxmaj fine … be that way xxpad xxpad xxpad xxpad xxpad xxpad xxpad xxpad xxpad xxpad xxpad xxpad xxpad xxpad xxpad xxpad xxpad xxpad xxpad xxpad xxpad xxpad xxpad xxpad xxpad xxpad xxpad xxpad xxpad xxpad xxpad xxpad</td>\n",
       "      <td>0</td>\n",
       "      <td>4</td>\n",
       "      <td>0.9601966142654419</td>\n",
       "      <td>3.2238028049468994</td>\n",
       "    </tr>\n",
       "    <tr>\n",
       "      <th>84</th>\n",
       "      <td>xxbos @bradiewebbstack i did nt know they still sold the xxunk things where can i get one , i need one ! ! i lost mine when i was like 7 xd xxpad xxpad xxpad xxpad xxpad xxpad xxpad xxpad</td>\n",
       "      <td>4</td>\n",
       "      <td>0</td>\n",
       "      <td>0.9596692323684692</td>\n",
       "      <td>3.210639715194702</td>\n",
       "    </tr>\n",
       "    <tr>\n",
       "      <th>85</th>\n",
       "      <td>xxbos xxmaj wet &amp; &amp; breezy in xxmaj east xxmaj xxunk . xxmaj rain at last ! xxpad xxpad xxpad xxpad xxpad xxpad xxpad xxpad xxpad xxpad xxpad xxpad xxpad xxpad xxpad xxpad xxpad xxpad xxpad xxpad xxpad xxpad xxpad</td>\n",
       "      <td>4</td>\n",
       "      <td>0</td>\n",
       "      <td>0.9596444368362427</td>\n",
       "      <td>3.2100255489349365</td>\n",
       "    </tr>\n",
       "    <tr>\n",
       "      <th>86</th>\n",
       "      <td>xxbos xxmaj i 'm having an awesome weekend xxmaj but my xxmaj vid for xxunk wo n't load to send … even my studio xxmaj suite is being weird xxpad xxpad xxpad xxpad xxpad xxpad xxpad xxpad xxpad xxpad xxpad</td>\n",
       "      <td>4</td>\n",
       "      <td>0</td>\n",
       "      <td>0.9595635533332825</td>\n",
       "      <td>3.2080237865448</td>\n",
       "    </tr>\n",
       "    <tr>\n",
       "      <th>87</th>\n",
       "      <td>xxbos happy monday . xxpad xxpad xxpad xxpad xxpad xxpad xxpad xxpad xxpad xxpad xxpad xxpad xxpad xxpad xxpad xxpad xxpad xxpad xxpad xxpad xxpad xxpad xxpad xxpad xxpad xxpad xxpad xxpad xxpad xxpad xxpad xxpad xxpad xxpad xxpad xxpad</td>\n",
       "      <td>0</td>\n",
       "      <td>4</td>\n",
       "      <td>0.9595111608505249</td>\n",
       "      <td>3.206728935241699</td>\n",
       "    </tr>\n",
       "    <tr>\n",
       "      <th>88</th>\n",
       "      <td>xxbos @rgoodchild it 's the best kind ! xxpad xxpad xxpad xxpad xxpad xxpad xxpad xxpad xxpad xxpad xxpad xxpad xxpad xxpad xxpad xxpad xxpad xxpad xxpad xxpad xxpad xxpad xxpad xxpad xxpad xxpad xxpad xxpad xxpad xxpad xxpad xxpad</td>\n",
       "      <td>0</td>\n",
       "      <td>4</td>\n",
       "      <td>0.9594929814338684</td>\n",
       "      <td>3.2062807083129883</td>\n",
       "    </tr>\n",
       "    <tr>\n",
       "      <th>89</th>\n",
       "      <td>xxbos xxunk xxrep 3 z xxmaj it is .i xxunk am nervous xxpad xxpad xxpad xxpad xxpad xxpad xxpad xxpad xxpad xxpad xxpad xxpad xxpad xxpad xxpad xxpad xxpad xxpad xxpad xxpad xxpad xxpad xxpad xxpad xxpad xxpad xxpad xxpad</td>\n",
       "      <td>4</td>\n",
       "      <td>0</td>\n",
       "      <td>0.9593678712844849</td>\n",
       "      <td>3.2031962871551514</td>\n",
       "    </tr>\n",
       "    <tr>\n",
       "      <th>90</th>\n",
       "      <td>xxbos mj just called . my week has been made xxrep 3 ! i miss my cuz so much . xxpad xxpad xxpad xxpad xxpad xxpad xxpad xxpad xxpad xxpad xxpad xxpad xxpad xxpad xxpad xxpad xxpad xxpad xxpad xxpad</td>\n",
       "      <td>4</td>\n",
       "      <td>0</td>\n",
       "      <td>0.9590032696723938</td>\n",
       "      <td>3.194262981414795</td>\n",
       "    </tr>\n",
       "    <tr>\n",
       "      <th>91</th>\n",
       "      <td>xxbos i am disappointed in the lack of photos on xxmaj twitter :p at work atm , home soon xxpad xxpad xxpad xxpad xxpad xxpad xxpad xxpad xxpad xxpad xxpad xxpad xxpad xxpad xxpad xxpad xxpad xxpad xxpad xxpad xxpad</td>\n",
       "      <td>4</td>\n",
       "      <td>0</td>\n",
       "      <td>0.958985447883606</td>\n",
       "      <td>3.1938271522521973</td>\n",
       "    </tr>\n",
       "    <tr>\n",
       "      <th>92</th>\n",
       "      <td>xxbos i want to make babies without the babies with xxmaj taylor xxmaj lautner xxpad xxpad xxpad xxpad xxpad xxpad xxpad xxpad xxpad xxpad xxpad xxpad xxpad xxpad xxpad xxpad xxpad xxpad xxpad xxpad xxpad xxpad xxpad xxpad xxpad xxpad</td>\n",
       "      <td>4</td>\n",
       "      <td>0</td>\n",
       "      <td>0.9587623476982117</td>\n",
       "      <td>3.1884052753448486</td>\n",
       "    </tr>\n",
       "    <tr>\n",
       "      <th>93</th>\n",
       "      <td>xxbos xxunk xxmaj there xxmaj performing cause i can remember reading it somewhere xxpad xxpad xxpad xxpad xxpad xxpad xxpad xxpad xxpad xxpad xxpad xxpad xxpad xxpad xxpad xxpad xxpad xxpad xxpad xxpad xxpad xxpad xxpad xxpad xxpad xxpad xxpad</td>\n",
       "      <td>0</td>\n",
       "      <td>4</td>\n",
       "      <td>0.9585749506950378</td>\n",
       "      <td>3.183868646621704</td>\n",
       "    </tr>\n",
       "    <tr>\n",
       "      <th>94</th>\n",
       "      <td>xxbos xxunk oh my god i lov xxrep 5 e that song i ca nt get it out of my head xxpad xxpad xxpad xxpad xxpad xxpad xxpad xxpad xxpad xxpad xxpad xxpad xxpad xxpad xxpad xxpad xxpad xxpad xxpad</td>\n",
       "      <td>4</td>\n",
       "      <td>0</td>\n",
       "      <td>0.9575796127319336</td>\n",
       "      <td>3.1601271629333496</td>\n",
       "    </tr>\n",
       "    <tr>\n",
       "      <th>95</th>\n",
       "      <td>xxbos xxunk that poem made you all soft xxpad xxpad xxpad xxpad xxpad xxpad xxpad xxpad xxpad xxpad xxpad xxpad xxpad xxpad xxpad xxpad xxpad xxpad xxpad xxpad xxpad xxpad xxpad xxpad xxpad xxpad xxpad xxpad xxpad xxpad xxpad xxpad</td>\n",
       "      <td>0</td>\n",
       "      <td>4</td>\n",
       "      <td>0.9571560025215149</td>\n",
       "      <td>3.1501903533935547</td>\n",
       "    </tr>\n",
       "    <tr>\n",
       "      <th>96</th>\n",
       "      <td>xxbos xxunk yeap xxmaj have you ? xxpad xxpad xxpad xxpad xxpad xxpad xxpad xxpad xxpad xxpad xxpad xxpad xxpad xxpad xxpad xxpad xxpad xxpad xxpad xxpad xxpad xxpad xxpad xxpad xxpad xxpad xxpad xxpad xxpad xxpad xxpad xxpad xxpad</td>\n",
       "      <td>0</td>\n",
       "      <td>4</td>\n",
       "      <td>0.9571276307106018</td>\n",
       "      <td>3.1495275497436523</td>\n",
       "    </tr>\n",
       "    <tr>\n",
       "      <th>97</th>\n",
       "      <td>xxbos i have self deleted my website and have no backup . everyone in the universe is xxunk to get me to study . xxpad xxpad xxpad xxpad xxpad xxpad xxpad xxpad xxpad xxpad xxpad xxpad xxpad xxpad xxpad xxpad</td>\n",
       "      <td>4</td>\n",
       "      <td>0</td>\n",
       "      <td>0.955764651298523</td>\n",
       "      <td>3.1182327270507812</td>\n",
       "    </tr>\n",
       "    <tr>\n",
       "      <th>98</th>\n",
       "      <td>xxbos xxunk i know i do nt go on it hardly xxpad xxpad xxpad xxpad xxpad xxpad xxpad xxpad xxpad xxpad xxpad xxpad xxpad xxpad xxpad xxpad xxpad xxpad xxpad xxpad xxpad xxpad xxpad xxpad xxpad xxpad xxpad xxpad xxpad</td>\n",
       "      <td>4</td>\n",
       "      <td>0</td>\n",
       "      <td>0.9555606245994568</td>\n",
       "      <td>3.1136295795440674</td>\n",
       "    </tr>\n",
       "    <tr>\n",
       "      <th>99</th>\n",
       "      <td>xxbos xxmaj tryna fall asleep buy xxmaj katie wo n't shut up xxpad xxpad xxpad xxpad xxpad xxpad xxpad xxpad xxpad xxpad xxpad xxpad xxpad xxpad xxpad xxpad xxpad xxpad xxpad xxpad xxpad xxpad xxpad xxpad xxpad xxpad xxpad xxpad</td>\n",
       "      <td>4</td>\n",
       "      <td>0</td>\n",
       "      <td>0.9555163383483887</td>\n",
       "      <td>3.1126325130462646</td>\n",
       "    </tr>\n",
       "    <tr>\n",
       "      <th>100</th>\n",
       "      <td>xxbos xxmaj missing my little guy 's preschool picnic … which bums me out … at least my husband is there . xxpad xxpad xxpad xxpad xxpad xxpad xxpad xxpad xxpad xxpad xxpad xxpad xxpad xxpad xxpad xxpad xxpad xxpad</td>\n",
       "      <td>4</td>\n",
       "      <td>0</td>\n",
       "      <td>0.9549885392189026</td>\n",
       "      <td>3.100839614868164</td>\n",
       "    </tr>\n",
       "    <tr>\n",
       "      <th>101</th>\n",
       "      <td>xxbos xxmaj it 's days like this that make me forget how much i miss xxmaj thailand http : / / yfrog.com / xxunk xxpad xxpad xxpad xxpad xxpad xxpad xxpad xxpad xxpad xxpad xxpad xxpad xxpad xxpad xxpad xxpad</td>\n",
       "      <td>4</td>\n",
       "      <td>0</td>\n",
       "      <td>0.9545958042144775</td>\n",
       "      <td>3.092151165008545</td>\n",
       "    </tr>\n",
       "    <tr>\n",
       "      <th>102</th>\n",
       "      <td>xxbos xxunk i love yo xxrep 3 u . xxpad xxpad xxpad xxpad xxpad xxpad xxpad xxpad xxpad xxpad xxpad xxpad xxpad xxpad xxpad xxpad xxpad xxpad xxpad xxpad xxpad xxpad xxpad xxpad xxpad xxpad xxpad xxpad xxpad xxpad xxpad</td>\n",
       "      <td>0</td>\n",
       "      <td>4</td>\n",
       "      <td>0.9544438719749451</td>\n",
       "      <td>3.088810920715332</td>\n",
       "    </tr>\n",
       "    <tr>\n",
       "      <th>103</th>\n",
       "      <td>xxbos @diamond_lass xxmaj oh … great day for you then xx xxpad xxpad xxpad xxpad xxpad xxpad xxpad xxpad xxpad xxpad xxpad xxpad xxpad xxpad xxpad xxpad xxpad xxpad xxpad xxpad xxpad xxpad xxpad xxpad xxpad xxpad xxpad xxpad xxpad</td>\n",
       "      <td>0</td>\n",
       "      <td>4</td>\n",
       "      <td>0.954351544380188</td>\n",
       "      <td>3.0867855548858643</td>\n",
       "    </tr>\n",
       "    <tr>\n",
       "      <th>104</th>\n",
       "      <td>xxbos @mileycyrus hey xxmaj miley (: how was the show with xxup jb yesterday ? xxmaj ca nt wait to see you again ilove you xxpad xxpad xxpad xxpad xxpad xxpad xxpad xxpad xxpad xxpad xxpad xxpad xxpad xxpad xxpad</td>\n",
       "      <td>0</td>\n",
       "      <td>4</td>\n",
       "      <td>0.9543412327766418</td>\n",
       "      <td>3.086559295654297</td>\n",
       "    </tr>\n",
       "    <tr>\n",
       "      <th>105</th>\n",
       "      <td>xxbos at work performing at relay for life later ! xxpad xxpad xxpad xxpad xxpad xxpad xxpad xxpad xxpad xxpad xxpad xxpad xxpad xxpad xxpad xxpad xxpad xxpad xxpad xxpad xxpad xxpad xxpad xxpad xxpad xxpad xxpad xxpad xxpad xxpad</td>\n",
       "      <td>0</td>\n",
       "      <td>4</td>\n",
       "      <td>0.9542431235313416</td>\n",
       "      <td>3.0844128131866455</td>\n",
       "    </tr>\n",
       "    <tr>\n",
       "      <th>106</th>\n",
       "      <td>xxbos xxmaj hey @fairly_biased just found out that &amp; ' the video is no longer available due to a copyright claim by xxmaj home xxmaj box xxmaj office , xxmaj inc .. &amp; ' sorry … xxpad xxpad xxpad xxpad</td>\n",
       "      <td>4</td>\n",
       "      <td>0</td>\n",
       "      <td>0.9540669322013855</td>\n",
       "      <td>3.080571174621582</td>\n",
       "    </tr>\n",
       "    <tr>\n",
       "      <th>107</th>\n",
       "      <td>xxbos xxmaj spotted another xxunk xxunk str8 bar … . xxmaj turns out i m not alone xxpad xxpad xxpad xxpad xxpad xxpad xxpad xxpad xxpad xxpad xxpad xxpad xxpad xxpad xxpad xxpad xxpad xxpad xxpad xxpad xxpad xxpad xxpad</td>\n",
       "      <td>4</td>\n",
       "      <td>0</td>\n",
       "      <td>0.9539416432380676</td>\n",
       "      <td>3.077845811843872</td>\n",
       "    </tr>\n",
       "    <tr>\n",
       "      <th>108</th>\n",
       "      <td>xxbos @yelyahwilliams \\t▁ well you could continue making music for the xxmaj twilight , we fans would like ! xxpad xxpad xxpad xxpad xxpad xxpad xxpad xxpad xxpad xxpad xxpad xxpad xxpad xxpad xxpad xxpad xxpad xxpad xxpad xxpad xxpad</td>\n",
       "      <td>0</td>\n",
       "      <td>4</td>\n",
       "      <td>0.9536364674568176</td>\n",
       "      <td>3.071241617202759</td>\n",
       "    </tr>\n",
       "    <tr>\n",
       "      <th>109</th>\n",
       "      <td>xxbos 'bout to find an online game to play … xxpad xxpad xxpad xxpad xxpad xxpad xxpad xxpad xxpad xxpad xxpad xxpad xxpad xxpad xxpad xxpad xxpad xxpad xxpad xxpad xxpad xxpad xxpad xxpad xxpad xxpad xxpad xxpad xxpad xxpad</td>\n",
       "      <td>4</td>\n",
       "      <td>0</td>\n",
       "      <td>0.9534465670585632</td>\n",
       "      <td>3.0671544075012207</td>\n",
       "    </tr>\n",
       "    <tr>\n",
       "      <th>110</th>\n",
       "      <td>xxbos xxunk xxmaj sweet , you already have more friends than i do xxpad xxpad xxpad xxpad xxpad xxpad xxpad xxpad xxpad xxpad xxpad xxpad xxpad xxpad xxpad xxpad xxpad xxpad xxpad xxpad xxpad xxpad xxpad xxpad xxpad xxpad xxpad</td>\n",
       "      <td>0</td>\n",
       "      <td>4</td>\n",
       "      <td>0.9532274007797241</td>\n",
       "      <td>3.0624587535858154</td>\n",
       "    </tr>\n",
       "    <tr>\n",
       "      <th>111</th>\n",
       "      <td>xxbos boys suck xxpad xxpad xxpad xxpad xxpad xxpad xxpad xxpad xxpad xxpad xxpad xxpad xxpad xxpad xxpad xxpad xxpad xxpad xxpad xxpad xxpad xxpad xxpad xxpad xxpad xxpad xxpad xxpad xxpad xxpad xxpad xxpad xxpad xxpad xxpad xxpad xxpad</td>\n",
       "      <td>4</td>\n",
       "      <td>0</td>\n",
       "      <td>0.9531322121620178</td>\n",
       "      <td>3.0604240894317627</td>\n",
       "    </tr>\n",
       "    <tr>\n",
       "      <th>112</th>\n",
       "      <td>xxbos is xxmaj breaking her xxmaj twitter xxmaj cherry ! ! ( but meant to be doing xxmaj lit revision ! ) something tells her the xxmaj cava is n't going to help xxpad xxpad xxpad xxpad xxpad xxpad xxpad</td>\n",
       "      <td>4</td>\n",
       "      <td>0</td>\n",
       "      <td>0.9527767896652222</td>\n",
       "      <td>3.052870512008667</td>\n",
       "    </tr>\n",
       "    <tr>\n",
       "      <th>113</th>\n",
       "      <td>xxbos xxmaj golfing with my cousin and old childhood friends xxrep 3 ! xxmaj rough day so far but love the company xxrep 3 ! xxpad xxpad xxpad xxpad xxpad xxpad xxpad xxpad xxpad xxpad xxpad xxpad xxpad xxpad xxpad</td>\n",
       "      <td>0</td>\n",
       "      <td>4</td>\n",
       "      <td>0.9517907500267029</td>\n",
       "      <td>3.03220534324646</td>\n",
       "    </tr>\n",
       "    <tr>\n",
       "      <th>114</th>\n",
       "      <td>xxbos xxmaj watchin xxmaj the xxmaj holiday - xxmaj yay its one of my favourites xxpad xxpad xxpad xxpad xxpad xxpad xxpad xxpad xxpad xxpad xxpad xxpad xxpad xxpad xxpad xxpad xxpad xxpad xxpad xxpad xxpad xxpad xxpad xxpad xxpad</td>\n",
       "      <td>0</td>\n",
       "      <td>4</td>\n",
       "      <td>0.9513117671012878</td>\n",
       "      <td>3.0223164558410645</td>\n",
       "    </tr>\n",
       "    <tr>\n",
       "      <th>115</th>\n",
       "      <td>xxbos does anyone wanna do something today ? i have to get out of cleaning my room xxpad xxpad xxpad xxpad xxpad xxpad xxpad xxpad xxpad xxpad xxpad xxpad xxpad xxpad xxpad xxpad xxpad xxpad xxpad xxpad xxpad xxpad xxpad</td>\n",
       "      <td>4</td>\n",
       "      <td>0</td>\n",
       "      <td>0.9508607983589172</td>\n",
       "      <td>3.0130980014801025</td>\n",
       "    </tr>\n",
       "    <tr>\n",
       "      <th>116</th>\n",
       "      <td>xxbos xxunk she did n't even offer to tweet my tweets xxpad xxpad xxpad xxpad xxpad xxpad xxpad xxpad xxpad xxpad xxpad xxpad xxpad xxpad xxpad xxpad xxpad xxpad xxpad xxpad xxpad xxpad xxpad xxpad xxpad xxpad xxpad xxpad xxpad</td>\n",
       "      <td>4</td>\n",
       "      <td>0</td>\n",
       "      <td>0.9507350325584412</td>\n",
       "      <td>3.0105409622192383</td>\n",
       "    </tr>\n",
       "    <tr>\n",
       "      <th>117</th>\n",
       "      <td>xxbos xxunk not bad xxpad xxpad xxpad xxpad xxpad xxpad xxpad xxpad xxpad xxpad xxpad xxpad xxpad xxpad xxpad xxpad xxpad xxpad xxpad xxpad xxpad xxpad xxpad xxpad xxpad xxpad xxpad xxpad xxpad xxpad xxpad xxpad xxpad xxpad xxpad xxpad</td>\n",
       "      <td>4</td>\n",
       "      <td>0</td>\n",
       "      <td>0.9504306316375732</td>\n",
       "      <td>3.004382848739624</td>\n",
       "    </tr>\n",
       "    <tr>\n",
       "      <th>118</th>\n",
       "      <td>xxbos my sister is being so annoying right now . xxup btw i just ate grapes . xxpad xxpad xxpad xxpad xxpad xxpad xxpad xxpad xxpad xxpad xxpad xxpad xxpad xxpad xxpad xxpad xxpad xxpad xxpad xxpad xxpad xxpad xxpad</td>\n",
       "      <td>4</td>\n",
       "      <td>0</td>\n",
       "      <td>0.9503815174102783</td>\n",
       "      <td>3.0033912658691406</td>\n",
       "    </tr>\n",
       "    <tr>\n",
       "      <th>119</th>\n",
       "      <td>xxbos xxmaj goodnight . xxpad xxpad xxpad xxpad xxpad xxpad xxpad xxpad xxpad xxpad xxpad xxpad xxpad xxpad xxpad xxpad xxpad xxpad xxpad xxpad xxpad xxpad xxpad xxpad xxpad xxpad xxpad xxpad xxpad xxpad xxpad xxpad xxpad xxpad xxpad xxpad</td>\n",
       "      <td>0</td>\n",
       "      <td>4</td>\n",
       "      <td>0.9501504898071289</td>\n",
       "      <td>2.9987475872039795</td>\n",
       "    </tr>\n",
       "    <tr>\n",
       "      <th>120</th>\n",
       "      <td>xxbos xxunk i wish i was as cool as you .. xxpad xxpad xxpad xxpad xxpad xxpad xxpad xxpad xxpad xxpad xxpad xxpad xxpad xxpad xxpad xxpad xxpad xxpad xxpad xxpad xxpad xxpad xxpad xxpad xxpad xxpad xxpad xxpad xxpad</td>\n",
       "      <td>4</td>\n",
       "      <td>0</td>\n",
       "      <td>0.9499311447143555</td>\n",
       "      <td>2.994354486465454</td>\n",
       "    </tr>\n",
       "    <tr>\n",
       "      <th>121</th>\n",
       "      <td>xxbos xxunk well hello , from a fellow insomniac bummer dude xxpad xxpad xxpad xxpad xxpad xxpad xxpad xxpad xxpad xxpad xxpad xxpad xxpad xxpad xxpad xxpad xxpad xxpad xxpad xxpad xxpad xxpad xxpad xxpad xxpad xxpad xxpad xxpad xxpad</td>\n",
       "      <td>0</td>\n",
       "      <td>4</td>\n",
       "      <td>0.9498416185379028</td>\n",
       "      <td>2.992570161819458</td>\n",
       "    </tr>\n",
       "    <tr>\n",
       "      <th>122</th>\n",
       "      <td>xxbos xxmaj fun day in the library ! xxpad xxpad xxpad xxpad xxpad xxpad xxpad xxpad xxpad xxpad xxpad xxpad xxpad xxpad xxpad xxpad xxpad xxpad xxpad xxpad xxpad xxpad xxpad xxpad xxpad xxpad xxpad xxpad xxpad xxpad xxpad xxpad</td>\n",
       "      <td>0</td>\n",
       "      <td>4</td>\n",
       "      <td>0.9497230052947998</td>\n",
       "      <td>2.990208387374878</td>\n",
       "    </tr>\n",
       "    <tr>\n",
       "      <th>123</th>\n",
       "      <td>xxbos @bass _ xxmaj i 'd appreciate one if you can xxunk it up . xxmaj no idea how to do it myself xxmaj thanks xxpad xxpad xxpad xxpad xxpad xxpad xxpad xxpad xxpad xxpad xxpad xxpad xxpad xxpad xxpad</td>\n",
       "      <td>0</td>\n",
       "      <td>4</td>\n",
       "      <td>0.9497144222259521</td>\n",
       "      <td>2.9900364875793457</td>\n",
       "    </tr>\n",
       "    <tr>\n",
       "      <th>124</th>\n",
       "      <td>xxbos xxunk yes . that xxunk from the peak district will be there xxpad xxpad xxpad xxpad xxpad xxpad xxpad xxpad xxpad xxpad xxpad xxpad xxpad xxpad xxpad xxpad xxpad xxpad xxpad xxpad xxpad xxpad xxpad xxpad xxpad xxpad xxpad</td>\n",
       "      <td>0</td>\n",
       "      <td>4</td>\n",
       "      <td>0.9497115015983582</td>\n",
       "      <td>2.9899795055389404</td>\n",
       "    </tr>\n",
       "    <tr>\n",
       "      <th>125</th>\n",
       "      <td>xxbos xxunk a xxrep 3 w darn . xxpad xxpad xxpad xxpad xxpad xxpad xxpad xxpad xxpad xxpad xxpad xxpad xxpad xxpad xxpad xxpad xxpad xxpad xxpad xxpad xxpad xxpad xxpad xxpad xxpad xxpad xxpad xxpad xxpad xxpad xxpad xxpad</td>\n",
       "      <td>4</td>\n",
       "      <td>0</td>\n",
       "      <td>0.949525773525238</td>\n",
       "      <td>2.986292600631714</td>\n",
       "    </tr>\n",
       "    <tr>\n",
       "      <th>126</th>\n",
       "      <td>xxbos xxmaj daughter broadcasting news to our next door neighbour : program of the day , games we have planned … &amp; &amp; colour of xxmaj mummy 's xxunk … sweet xxpad xxpad xxpad xxpad xxpad xxpad xxpad xxpad xxpad</td>\n",
       "      <td>0</td>\n",
       "      <td>4</td>\n",
       "      <td>0.9493432641029358</td>\n",
       "      <td>2.9826831817626953</td>\n",
       "    </tr>\n",
       "    <tr>\n",
       "      <th>127</th>\n",
       "      <td>xxbos xxmaj going home today bye val , thanks for everything http : / / short.to / xxunk xxpad xxpad xxpad xxpad xxpad xxpad xxpad xxpad xxpad xxpad xxpad xxpad xxpad xxpad xxpad xxpad xxpad xxpad xxpad xxpad xxpad xxpad</td>\n",
       "      <td>0</td>\n",
       "      <td>4</td>\n",
       "      <td>0.9492167234420776</td>\n",
       "      <td>2.9801878929138184</td>\n",
       "    </tr>\n",
       "    <tr>\n",
       "      <th>128</th>\n",
       "      <td>xxbos bah , xxunk xxpad xxpad xxpad xxpad xxpad xxpad xxpad xxpad xxpad xxpad xxpad xxpad xxpad xxpad xxpad xxpad xxpad xxpad xxpad xxpad xxpad xxpad xxpad xxpad xxpad xxpad xxpad xxpad xxpad xxpad xxpad xxpad xxpad xxpad xxpad xxpad</td>\n",
       "      <td>4</td>\n",
       "      <td>0</td>\n",
       "      <td>0.9491028189659119</td>\n",
       "      <td>2.9779469966888428</td>\n",
       "    </tr>\n",
       "    <tr>\n",
       "      <th>129</th>\n",
       "      <td>xxbos xxmaj happy xxmaj father 's xxmaj day to all xxmaj the xxmaj dads out there and xxmaj to xxmaj my dad up in heaven i love u xxpad xxpad xxpad xxpad xxpad xxpad xxpad xxpad xxpad xxpad xxpad xxpad</td>\n",
       "      <td>0</td>\n",
       "      <td>4</td>\n",
       "      <td>0.9490211009979248</td>\n",
       "      <td>2.9763426780700684</td>\n",
       "    </tr>\n",
       "    <tr>\n",
       "      <th>130</th>\n",
       "      <td>xxbos xxunk oh ok . have a good day of worship ! xxpad xxpad xxpad xxpad xxpad xxpad xxpad xxpad xxpad xxpad xxpad xxpad xxpad xxpad xxpad xxpad xxpad xxpad xxpad xxpad xxpad xxpad xxpad xxpad xxpad xxpad xxpad xxpad</td>\n",
       "      <td>0</td>\n",
       "      <td>4</td>\n",
       "      <td>0.9484537839889526</td>\n",
       "      <td>2.965276002883911</td>\n",
       "    </tr>\n",
       "    <tr>\n",
       "      <th>131</th>\n",
       "      <td>xxbos xxmaj going to bed by my self again . c u after work my darling . xxmaj love you xxpad xxpad xxpad xxpad xxpad xxpad xxpad xxpad xxpad xxpad xxpad xxpad xxpad xxpad xxpad xxpad xxpad xxpad xxpad xxpad</td>\n",
       "      <td>0</td>\n",
       "      <td>4</td>\n",
       "      <td>0.9482530951499939</td>\n",
       "      <td>2.961390495300293</td>\n",
       "    </tr>\n",
       "    <tr>\n",
       "      <th>132</th>\n",
       "      <td>xxbos a xxrep 5 h i love hiking ! i wish i did n't work days so i could everyday ! xxpad xxpad xxpad xxpad xxpad xxpad xxpad xxpad xxpad xxpad xxpad xxpad xxpad xxpad xxpad xxpad xxpad xxpad xxpad</td>\n",
       "      <td>4</td>\n",
       "      <td>0</td>\n",
       "      <td>0.9481865167617798</td>\n",
       "      <td>2.9601056575775146</td>\n",
       "    </tr>\n",
       "    <tr>\n",
       "      <th>133</th>\n",
       "      <td>xxbos i 've been inspired by xxunk xxrep 3 i _ xxunk to wear a xxunk and my xxunk today i do nt think i 've ever been this exhausted ! i could nt sleep xxpad xxpad xxpad xxpad xxpad</td>\n",
       "      <td>4</td>\n",
       "      <td>0</td>\n",
       "      <td>0.9481510519981384</td>\n",
       "      <td>2.9594204425811768</td>\n",
       "    </tr>\n",
       "    <tr>\n",
       "      <th>134</th>\n",
       "      <td>xxbos in - flight wi - fi plus xxunk could possibly equal a much more expensive flight than normal . thankfully xxmaj i 'm not paying for the flight xxpad xxpad xxpad xxpad xxpad xxpad xxpad xxpad xxpad xxpad xxpad</td>\n",
       "      <td>4</td>\n",
       "      <td>0</td>\n",
       "      <td>0.9481443166732788</td>\n",
       "      <td>2.959290027618408</td>\n",
       "    </tr>\n",
       "    <tr>\n",
       "      <th>135</th>\n",
       "      <td>xxbos @marcfennell i should be in that photo xxpad xxpad xxpad xxpad xxpad xxpad xxpad xxpad xxpad xxpad xxpad xxpad xxpad xxpad xxpad xxpad xxpad xxpad xxpad xxpad xxpad xxpad xxpad xxpad xxpad xxpad xxpad xxpad xxpad xxpad xxpad xxpad</td>\n",
       "      <td>0</td>\n",
       "      <td>4</td>\n",
       "      <td>0.9478868246078491</td>\n",
       "      <td>2.9543378353118896</td>\n",
       "    </tr>\n",
       "    <tr>\n",
       "      <th>136</th>\n",
       "      <td>xxbos xxunk i wish xxunk xxpad xxpad xxpad xxpad xxpad xxpad xxpad xxpad xxpad xxpad xxpad xxpad xxpad xxpad xxpad xxpad xxpad xxpad xxpad xxpad xxpad xxpad xxpad xxpad xxpad xxpad xxpad xxpad xxpad xxpad xxpad xxpad xxpad xxpad xxpad</td>\n",
       "      <td>4</td>\n",
       "      <td>0</td>\n",
       "      <td>0.9478852152824402</td>\n",
       "      <td>2.9543068408966064</td>\n",
       "    </tr>\n",
       "    <tr>\n",
       "      <th>137</th>\n",
       "      <td>xxbos xxmaj no more bein xxunk leave it to my adopted siblings lol xxpad xxpad xxpad xxpad xxpad xxpad xxpad xxpad xxpad xxpad xxpad xxpad xxpad xxpad xxpad xxpad xxpad xxpad xxpad xxpad xxpad xxpad xxpad xxpad xxpad xxpad xxpad</td>\n",
       "      <td>4</td>\n",
       "      <td>0</td>\n",
       "      <td>0.9474278688430786</td>\n",
       "      <td>2.945570230484009</td>\n",
       "    </tr>\n",
       "    <tr>\n",
       "      <th>138</th>\n",
       "      <td>xxbos is bored and feels like xxunk … guess xxmaj i 'm going to try to get into a good book and relax . xxmaj i 'm such a bum ! xxpad xxpad xxpad xxpad xxpad xxpad xxpad xxpad xxpad</td>\n",
       "      <td>4</td>\n",
       "      <td>0</td>\n",
       "      <td>0.9470309615135193</td>\n",
       "      <td>2.938047170639038</td>\n",
       "    </tr>\n",
       "    <tr>\n",
       "      <th>139</th>\n",
       "      <td>xxbos dropped my phone in the water .. xxrep 4 o hh y xxrep 4 a y. now i 'm phoneless for a few weeks xxpad xxpad xxpad xxpad xxpad xxpad xxpad xxpad xxpad xxpad xxpad xxpad xxpad xxpad xxpad</td>\n",
       "      <td>4</td>\n",
       "      <td>0</td>\n",
       "      <td>0.9469680190086365</td>\n",
       "      <td>2.9368605613708496</td>\n",
       "    </tr>\n",
       "    <tr>\n",
       "      <th>140</th>\n",
       "      <td>xxbos xxmaj i m not with stupid .. xxpad xxpad xxpad xxpad xxpad xxpad xxpad xxpad xxpad xxpad xxpad xxpad xxpad xxpad xxpad xxpad xxpad xxpad xxpad xxpad xxpad xxpad xxpad xxpad xxpad xxpad xxpad xxpad xxpad xxpad xxpad xxpad</td>\n",
       "      <td>4</td>\n",
       "      <td>0</td>\n",
       "      <td>0.9465356469154358</td>\n",
       "      <td>2.928741455078125</td>\n",
       "    </tr>\n",
       "    <tr>\n",
       "      <th>141</th>\n",
       "      <td>xxbos xxunk well some of us are making the best of our 3 year commitment to xxunk xxpad xxpad xxpad xxpad xxpad xxpad xxpad xxpad xxpad xxpad xxpad xxpad xxpad xxpad xxpad xxpad xxpad xxpad xxpad xxpad xxpad xxpad xxpad</td>\n",
       "      <td>0</td>\n",
       "      <td>4</td>\n",
       "      <td>0.9463523030281067</td>\n",
       "      <td>2.9253175258636475</td>\n",
       "    </tr>\n",
       "    <tr>\n",
       "      <th>142</th>\n",
       "      <td>xxbos xxmaj morning ! my dad took the tie that i wanted to wear today , sneaky ninja business right there . xxmaj no traffic today xxpad xxpad xxpad xxpad xxpad xxpad xxpad xxpad xxpad xxpad xxpad xxpad xxpad xxpad</td>\n",
       "      <td>4</td>\n",
       "      <td>0</td>\n",
       "      <td>0.9462626576423645</td>\n",
       "      <td>2.9236466884613037</td>\n",
       "    </tr>\n",
       "    <tr>\n",
       "      <th>143</th>\n",
       "      <td>xxbos xxunk # xxunk to your wife ! xxpad xxpad xxpad xxpad xxpad xxpad xxpad xxpad xxpad xxpad xxpad xxpad xxpad xxpad xxpad xxpad xxpad xxpad xxpad xxpad xxpad xxpad xxpad xxpad xxpad xxpad xxpad xxpad xxpad xxpad xxpad xxpad</td>\n",
       "      <td>0</td>\n",
       "      <td>4</td>\n",
       "      <td>0.946086049079895</td>\n",
       "      <td>2.920365571975708</td>\n",
       "    </tr>\n",
       "    <tr>\n",
       "      <th>144</th>\n",
       "      <td>xxbos had a xxunk busy weekend . totally exhausted and 100 % not ready to start studying xxpad xxpad xxpad xxpad xxpad xxpad xxpad xxpad xxpad xxpad xxpad xxpad xxpad xxpad xxpad xxpad xxpad xxpad xxpad xxpad xxpad xxpad xxpad</td>\n",
       "      <td>4</td>\n",
       "      <td>0</td>\n",
       "      <td>0.945979118347168</td>\n",
       "      <td>2.918384552001953</td>\n",
       "    </tr>\n",
       "    <tr>\n",
       "      <th>145</th>\n",
       "      <td>xxbos xxmaj stupid hay fever . xxmaj bloody allergy … xxmaj nurses will be welcome xxpad xxpad xxpad xxpad xxpad xxpad xxpad xxpad xxpad xxpad xxpad xxpad xxpad xxpad xxpad xxpad xxpad xxpad xxpad xxpad xxpad xxpad xxpad xxpad xxpad</td>\n",
       "      <td>4</td>\n",
       "      <td>0</td>\n",
       "      <td>0.9458476901054382</td>\n",
       "      <td>2.915954828262329</td>\n",
       "    </tr>\n",
       "    <tr>\n",
       "      <th>146</th>\n",
       "      <td>xxbos i got my wisdom teeth pulled and i m in a xxup lot of pain right now . xxmaj text me ? xxpad xxpad xxpad xxpad xxpad xxpad xxpad xxpad xxpad xxpad xxpad xxpad xxpad xxpad xxpad xxpad xxpad</td>\n",
       "      <td>4</td>\n",
       "      <td>0</td>\n",
       "      <td>0.9452040791511536</td>\n",
       "      <td>2.904139757156372</td>\n",
       "    </tr>\n",
       "    <tr>\n",
       "      <th>147</th>\n",
       "      <td>xxbos @owlcity awe man that movie is s xxrep 3 o sad ! but so good xxpad xxpad xxpad xxpad xxpad xxpad xxpad xxpad xxpad xxpad xxpad xxpad xxpad xxpad xxpad xxpad xxpad xxpad xxpad xxpad xxpad xxpad xxpad xxpad</td>\n",
       "      <td>0</td>\n",
       "      <td>4</td>\n",
       "      <td>0.9449321627616882</td>\n",
       "      <td>2.899188995361328</td>\n",
       "    </tr>\n",
       "    <tr>\n",
       "      <th>148</th>\n",
       "      <td>xxbos xxunk xxup wow . xxmaj you guys have really xxunk yourself . xxmaj awesome . xxmaj but too bad i have to wish my summer away xxpad xxpad xxpad xxpad xxpad xxpad xxpad xxpad xxpad xxpad xxpad xxpad xxpad</td>\n",
       "      <td>4</td>\n",
       "      <td>0</td>\n",
       "      <td>0.9443401098251343</td>\n",
       "      <td>2.888495922088623</td>\n",
       "    </tr>\n",
       "    <tr>\n",
       "      <th>149</th>\n",
       "      <td>xxbos i m back home … wanna distract me from my homework please xxpad xxpad xxpad xxpad xxpad xxpad xxpad xxpad xxpad xxpad xxpad xxpad xxpad xxpad xxpad xxpad xxpad xxpad xxpad xxpad xxpad xxpad xxpad xxpad xxpad xxpad xxpad</td>\n",
       "      <td>4</td>\n",
       "      <td>0</td>\n",
       "      <td>0.9438499212265015</td>\n",
       "      <td>2.879728078842163</td>\n",
       "    </tr>\n",
       "    <tr>\n",
       "      <th>150</th>\n",
       "      <td>xxbos @thisisdavina xxmaj welcome to xxmaj twitter xxmaj well excited about xxmaj thursday , though xxmaj i 'm disappointed about the lack of xxmaj live xxmaj feed xxpad xxpad xxpad xxpad xxpad xxpad xxpad xxpad xxpad xxpad xxpad xxpad xxpad</td>\n",
       "      <td>4</td>\n",
       "      <td>0</td>\n",
       "      <td>0.9437727332115173</td>\n",
       "      <td>2.8783538341522217</td>\n",
       "    </tr>\n",
       "    <tr>\n",
       "      <th>151</th>\n",
       "      <td>xxbos xxmaj having dinner with my grandma since i could n't be with my mum . xxpad xxpad xxpad xxpad xxpad xxpad xxpad xxpad xxpad xxpad xxpad xxpad xxpad xxpad xxpad xxpad xxpad xxpad xxpad xxpad xxpad xxpad xxpad xxpad</td>\n",
       "      <td>4</td>\n",
       "      <td>0</td>\n",
       "      <td>0.9431816935539246</td>\n",
       "      <td>2.8678958415985107</td>\n",
       "    </tr>\n",
       "    <tr>\n",
       "      <th>152</th>\n",
       "      <td>xxbos xxmaj lifetime and xxup xxunk are xxunk on a sick day xxpad xxpad xxpad xxpad xxpad xxpad xxpad xxpad xxpad xxpad xxpad xxpad xxpad xxpad xxpad xxpad xxpad xxpad xxpad xxpad xxpad xxpad xxpad xxpad xxpad xxpad xxpad xxpad</td>\n",
       "      <td>4</td>\n",
       "      <td>0</td>\n",
       "      <td>0.9427446722984314</td>\n",
       "      <td>2.8602335453033447</td>\n",
       "    </tr>\n",
       "    <tr>\n",
       "      <th>153</th>\n",
       "      <td>xxbos xxmaj not sure what to do with xxmaj twitter yet xxpad xxpad xxpad xxpad xxpad xxpad xxpad xxpad xxpad xxpad xxpad xxpad xxpad xxpad xxpad xxpad xxpad xxpad xxpad xxpad xxpad xxpad xxpad xxpad xxpad xxpad xxpad xxpad xxpad</td>\n",
       "      <td>4</td>\n",
       "      <td>0</td>\n",
       "      <td>0.9425755739212036</td>\n",
       "      <td>2.857285499572754</td>\n",
       "    </tr>\n",
       "    <tr>\n",
       "      <th>154</th>\n",
       "      <td>xxbos okayy i really should be reading my xxmaj macbeth book … but there s nothing better than procrastinating xxpad xxpad xxpad xxpad xxpad xxpad xxpad xxpad xxpad xxpad xxpad xxpad xxpad xxpad xxpad xxpad xxpad xxpad xxpad xxpad xxpad</td>\n",
       "      <td>4</td>\n",
       "      <td>0</td>\n",
       "      <td>0.9425285458564758</td>\n",
       "      <td>2.8564682006835938</td>\n",
       "    </tr>\n",
       "    <tr>\n",
       "      <th>155</th>\n",
       "      <td>xxbos xxunk what a great start . xxpad xxpad xxpad xxpad xxpad xxpad xxpad xxpad xxpad xxpad xxpad xxpad xxpad xxpad xxpad xxpad xxpad xxpad xxpad xxpad xxpad xxpad xxpad xxpad xxpad xxpad xxpad xxpad xxpad xxpad xxpad xxpad xxpad</td>\n",
       "      <td>0</td>\n",
       "      <td>4</td>\n",
       "      <td>0.9423025250434875</td>\n",
       "      <td>2.852541208267212</td>\n",
       "    </tr>\n",
       "    <tr>\n",
       "      <th>156</th>\n",
       "      <td>xxbos xxunk xxup ooc : it 's okay . xxpad xxpad xxpad xxpad xxpad xxpad xxpad xxpad xxpad xxpad xxpad xxpad xxpad xxpad xxpad xxpad xxpad xxpad xxpad xxpad xxpad xxpad xxpad xxpad xxpad xxpad xxpad xxpad xxpad xxpad xxpad</td>\n",
       "      <td>0</td>\n",
       "      <td>4</td>\n",
       "      <td>0.9418031573295593</td>\n",
       "      <td>2.843923807144165</td>\n",
       "    </tr>\n",
       "    <tr>\n",
       "      <th>157</th>\n",
       "      <td>xxbos xxmaj paintball on xxmaj saturday must have been awesome . i can barely move because of the pain . xxpad xxpad xxpad xxpad xxpad xxpad xxpad xxpad xxpad xxpad xxpad xxpad xxpad xxpad xxpad xxpad xxpad xxpad xxpad xxpad</td>\n",
       "      <td>4</td>\n",
       "      <td>0</td>\n",
       "      <td>0.9416319131851196</td>\n",
       "      <td>2.8409862518310547</td>\n",
       "    </tr>\n",
       "    <tr>\n",
       "      <th>158</th>\n",
       "      <td>xxbos xxunk good ! xxmaj great actually ! xxmaj almost every1s tweets today are about xxup cody ! lol xxpad xxpad xxpad xxpad xxpad xxpad xxpad xxpad xxpad xxpad xxpad xxpad xxpad xxpad xxpad xxpad xxpad xxpad xxpad xxpad xxpad</td>\n",
       "      <td>0</td>\n",
       "      <td>4</td>\n",
       "      <td>0.9413676261901855</td>\n",
       "      <td>2.836467742919922</td>\n",
       "    </tr>\n",
       "    <tr>\n",
       "      <th>159</th>\n",
       "      <td>xxbos xxmaj no more high school xxrep 3 ! no more classes no more teachers xxpad xxpad xxpad xxpad xxpad xxpad xxpad xxpad xxpad xxpad xxpad xxpad xxpad xxpad xxpad xxpad xxpad xxpad xxpad xxpad xxpad xxpad xxpad xxpad xxpad</td>\n",
       "      <td>4</td>\n",
       "      <td>0</td>\n",
       "      <td>0.9412330985069275</td>\n",
       "      <td>2.8341753482818604</td>\n",
       "    </tr>\n",
       "    <tr>\n",
       "      <th>160</th>\n",
       "      <td>xxbos xxunk do n't you look like xxmaj chloe ? xxmaj upset ? xxpad xxpad xxpad xxpad xxpad xxpad xxpad xxpad xxpad xxpad xxpad xxpad xxpad xxpad xxpad xxpad xxpad xxpad xxpad xxpad xxpad xxpad xxpad xxpad xxpad xxpad xxpad</td>\n",
       "      <td>4</td>\n",
       "      <td>0</td>\n",
       "      <td>0.9411199688911438</td>\n",
       "      <td>2.832253932952881</td>\n",
       "    </tr>\n",
       "    <tr>\n",
       "      <th>161</th>\n",
       "      <td>xxbos xxunk hiccups es xxunk xxpad xxpad xxpad xxpad xxpad xxpad xxpad xxpad xxpad xxpad xxpad xxpad xxpad xxpad xxpad xxpad xxpad xxpad xxpad xxpad xxpad xxpad xxpad xxpad xxpad xxpad xxpad xxpad xxpad xxpad xxpad xxpad xxpad xxpad xxpad</td>\n",
       "      <td>4</td>\n",
       "      <td>0</td>\n",
       "      <td>0.9409323930740356</td>\n",
       "      <td>2.8290724754333496</td>\n",
       "    </tr>\n",
       "    <tr>\n",
       "      <th>162</th>\n",
       "      <td>xxbos xxunk i think they just broke your table xxpad xxpad xxpad xxpad xxpad xxpad xxpad xxpad xxpad xxpad xxpad xxpad xxpad xxpad xxpad xxpad xxpad xxpad xxpad xxpad xxpad xxpad xxpad xxpad xxpad xxpad xxpad xxpad xxpad xxpad xxpad</td>\n",
       "      <td>4</td>\n",
       "      <td>0</td>\n",
       "      <td>0.9408195614814758</td>\n",
       "      <td>2.8271644115448</td>\n",
       "    </tr>\n",
       "    <tr>\n",
       "      <th>163</th>\n",
       "      <td>xxbos found myself laughing at xxmaj jack xxmaj dee … christ i must be depressed xxpad xxpad xxpad xxpad xxpad xxpad xxpad xxpad xxpad xxpad xxpad xxpad xxpad xxpad xxpad xxpad xxpad xxpad xxpad xxpad xxpad xxpad xxpad xxpad xxpad</td>\n",
       "      <td>4</td>\n",
       "      <td>0</td>\n",
       "      <td>0.9406607151031494</td>\n",
       "      <td>2.8244831562042236</td>\n",
       "    </tr>\n",
       "    <tr>\n",
       "      <th>164</th>\n",
       "      <td>xxbos power down for a second . computer re - starting followed by screaming &amp; ' oh , no … the file has not been saved &amp; ' xxpad xxpad xxpad xxpad xxpad xxpad xxpad xxpad xxpad xxpad xxpad xxpad</td>\n",
       "      <td>4</td>\n",
       "      <td>0</td>\n",
       "      <td>0.9404296278953552</td>\n",
       "      <td>2.820596694946289</td>\n",
       "    </tr>\n",
       "    <tr>\n",
       "      <th>165</th>\n",
       "      <td>xxbos xxunk xxmaj yup ! xxmaj here too ! xxpad xxpad xxpad xxpad xxpad xxpad xxpad xxpad xxpad xxpad xxpad xxpad xxpad xxpad xxpad xxpad xxpad xxpad xxpad xxpad xxpad xxpad xxpad xxpad xxpad xxpad xxpad xxpad xxpad xxpad xxpad</td>\n",
       "      <td>0</td>\n",
       "      <td>4</td>\n",
       "      <td>0.9403436183929443</td>\n",
       "      <td>2.819154977798462</td>\n",
       "    </tr>\n",
       "    <tr>\n",
       "      <th>166</th>\n",
       "      <td>xxbos xxmaj weather is so nice and pleasant today . xxmaj xxunk garden garden ho xxunk . xxmaj perfect romantic weather xxpad xxpad xxpad xxpad xxpad xxpad xxpad xxpad xxpad xxpad xxpad xxpad xxpad xxpad xxpad xxpad xxpad xxpad xxpad</td>\n",
       "      <td>0</td>\n",
       "      <td>4</td>\n",
       "      <td>0.9403390884399414</td>\n",
       "      <td>2.8190786838531494</td>\n",
       "    </tr>\n",
       "    <tr>\n",
       "      <th>167</th>\n",
       "      <td>xxbos xxunk xxmaj see , twitter me xxunk xxpad xxpad xxpad xxpad xxpad xxpad xxpad xxpad xxpad xxpad xxpad xxpad xxpad xxpad xxpad xxpad xxpad xxpad xxpad xxpad xxpad xxpad xxpad xxpad xxpad xxpad xxpad xxpad xxpad xxpad xxpad xxpad</td>\n",
       "      <td>0</td>\n",
       "      <td>4</td>\n",
       "      <td>0.940060555934906</td>\n",
       "      <td>2.814420700073242</td>\n",
       "    </tr>\n",
       "    <tr>\n",
       "      <th>168</th>\n",
       "      <td>xxbos xxmaj brit ! yes me tambien yo ! i 'm getting attached to my xxmaj car # xxunk : xxmaj brit ! yes me tambien yo ! i 'm getting .. http : / / twurl.nl / xxunk xxpad</td>\n",
       "      <td>0</td>\n",
       "      <td>4</td>\n",
       "      <td>0.9398117065429688</td>\n",
       "      <td>2.8102779388427734</td>\n",
       "    </tr>\n",
       "    <tr>\n",
       "      <th>169</th>\n",
       "      <td>xxbos xxunk xxrep 3 3 thanks me too xxpad xxpad xxpad xxpad xxpad xxpad xxpad xxpad xxpad xxpad xxpad xxpad xxpad xxpad xxpad xxpad xxpad xxpad xxpad xxpad xxpad xxpad xxpad xxpad xxpad xxpad xxpad xxpad xxpad xxpad xxpad xxpad</td>\n",
       "      <td>0</td>\n",
       "      <td>4</td>\n",
       "      <td>0.9392703771591187</td>\n",
       "      <td>2.801323652267456</td>\n",
       "    </tr>\n",
       "    <tr>\n",
       "      <th>170</th>\n",
       "      <td>xxbos just set up a part of the ceiling lights without any help xxpad xxpad xxpad xxpad xxpad xxpad xxpad xxpad xxpad xxpad xxpad xxpad xxpad xxpad xxpad xxpad xxpad xxpad xxpad xxpad xxpad xxpad xxpad xxpad xxpad xxpad xxpad</td>\n",
       "      <td>4</td>\n",
       "      <td>0</td>\n",
       "      <td>0.9392306208610535</td>\n",
       "      <td>2.8006694316864014</td>\n",
       "    </tr>\n",
       "    <tr>\n",
       "      <th>171</th>\n",
       "      <td>xxbos xxunk oh ! is it ? ! i 'll check on it tomorrow . xxmaj thanks for the feedback . xxmaj using twitterfon for now . xxpad xxpad xxpad xxpad xxpad xxpad xxpad xxpad xxpad xxpad xxpad xxpad xxpad</td>\n",
       "      <td>0</td>\n",
       "      <td>4</td>\n",
       "      <td>0.9391968846321106</td>\n",
       "      <td>2.800114393234253</td>\n",
       "    </tr>\n",
       "    <tr>\n",
       "      <th>172</th>\n",
       "      <td>xxbos i want to be on an xxmaj asian game show one day xxpad xxpad xxpad xxpad xxpad xxpad xxpad xxpad xxpad xxpad xxpad xxpad xxpad xxpad xxpad xxpad xxpad xxpad xxpad xxpad xxpad xxpad xxpad xxpad xxpad xxpad xxpad</td>\n",
       "      <td>4</td>\n",
       "      <td>0</td>\n",
       "      <td>0.9390662908554077</td>\n",
       "      <td>2.797969102859497</td>\n",
       "    </tr>\n",
       "    <tr>\n",
       "      <th>173</th>\n",
       "      <td>xxbos xxmaj damn , sorry , fell asleep and dreamt it was xxup xxunk playing ! xxmaj awake now xxpad xxpad xxpad xxpad xxpad xxpad xxpad xxpad xxpad xxpad xxpad xxpad xxpad xxpad xxpad xxpad xxpad xxpad xxpad xxpad xxpad</td>\n",
       "      <td>4</td>\n",
       "      <td>0</td>\n",
       "      <td>0.9377029538154602</td>\n",
       "      <td>2.775841474533081</td>\n",
       "    </tr>\n",
       "    <tr>\n",
       "      <th>174</th>\n",
       "      <td>xxbos seems that xxunk is in trouble xxpad xxpad xxpad xxpad xxpad xxpad xxpad xxpad xxpad xxpad xxpad xxpad xxpad xxpad xxpad xxpad xxpad xxpad xxpad xxpad xxpad xxpad xxpad xxpad xxpad xxpad xxpad xxpad xxpad xxpad xxpad xxpad xxpad</td>\n",
       "      <td>4</td>\n",
       "      <td>0</td>\n",
       "      <td>0.9375751614570618</td>\n",
       "      <td>2.773792028427124</td>\n",
       "    </tr>\n",
       "    <tr>\n",
       "      <th>175</th>\n",
       "      <td>xxbos xxmaj shit , i need go to bed … xxmaj hum … not now xxpad xxpad xxpad xxpad xxpad xxpad xxpad xxpad xxpad xxpad xxpad xxpad xxpad xxpad xxpad xxpad xxpad xxpad xxpad xxpad xxpad xxpad xxpad xxpad xxpad</td>\n",
       "      <td>4</td>\n",
       "      <td>0</td>\n",
       "      <td>0.937425434589386</td>\n",
       "      <td>2.771397590637207</td>\n",
       "    </tr>\n",
       "    <tr>\n",
       "      <th>176</th>\n",
       "      <td>xxbos whoa xxrep 5 h , i ca n't hold my eyes open anymore xxpad xxpad xxpad xxpad xxpad xxpad xxpad xxpad xxpad xxpad xxpad xxpad xxpad xxpad xxpad xxpad xxpad xxpad xxpad xxpad xxpad xxpad xxpad xxpad xxpad xxpad</td>\n",
       "      <td>4</td>\n",
       "      <td>0</td>\n",
       "      <td>0.9369860291481018</td>\n",
       "      <td>2.7643985748291016</td>\n",
       "    </tr>\n",
       "    <tr>\n",
       "      <th>177</th>\n",
       "      <td>xxbos xxunk xxmaj thanks , tried them - they 're all out xxmaj thanks anyway for offer of help . xxpad xxpad xxpad xxpad xxpad xxpad xxpad xxpad xxpad xxpad xxpad xxpad xxpad xxpad xxpad xxpad xxpad xxpad xxpad xxpad</td>\n",
       "      <td>0</td>\n",
       "      <td>4</td>\n",
       "      <td>0.9369787573814392</td>\n",
       "      <td>2.764284372329712</td>\n",
       "    </tr>\n",
       "    <tr>\n",
       "      <th>178</th>\n",
       "      <td>xxbos xxunk that stinks i luv quiznos , u shud try the cool turkey xxmaj caesar &amp; &amp; and tomato basil soup , delicious xxrep 3 ! xxpad xxpad xxpad xxpad xxpad xxpad xxpad xxpad xxpad xxpad xxpad xxpad xxpad</td>\n",
       "      <td>0</td>\n",
       "      <td>4</td>\n",
       "      <td>0.9368252754211426</td>\n",
       "      <td>2.7618517875671387</td>\n",
       "    </tr>\n",
       "    <tr>\n",
       "      <th>179</th>\n",
       "      <td>xxbos xxunk lol xxmaj i 'm sorry for being such a ' literal ' pain xxpad xxpad xxpad xxpad xxpad xxpad xxpad xxpad xxpad xxpad xxpad xxpad xxpad xxpad xxpad xxpad xxpad xxpad xxpad xxpad xxpad xxpad xxpad xxpad xxpad</td>\n",
       "      <td>4</td>\n",
       "      <td>0</td>\n",
       "      <td>0.9366344809532166</td>\n",
       "      <td>2.758835792541504</td>\n",
       "    </tr>\n",
       "    <tr>\n",
       "      <th>180</th>\n",
       "      <td>xxbos xxunk and andy up next my ulcer is annoying grr xxpad xxpad xxpad xxpad xxpad xxpad xxpad xxpad xxpad xxpad xxpad xxpad xxpad xxpad xxpad xxpad xxpad xxpad xxpad xxpad xxpad xxpad xxpad xxpad xxpad xxpad xxpad xxpad xxpad</td>\n",
       "      <td>4</td>\n",
       "      <td>0</td>\n",
       "      <td>0.9364039301872253</td>\n",
       "      <td>2.7552034854888916</td>\n",
       "    </tr>\n",
       "    <tr>\n",
       "      <th>181</th>\n",
       "      <td>xxbos xxmaj this time next week .. the weekend wo n't be over . xxpad xxpad xxpad xxpad xxpad xxpad xxpad xxpad xxpad xxpad xxpad xxpad xxpad xxpad xxpad xxpad xxpad xxpad xxpad xxpad xxpad xxpad xxpad xxpad xxpad xxpad</td>\n",
       "      <td>4</td>\n",
       "      <td>0</td>\n",
       "      <td>0.9361648559570312</td>\n",
       "      <td>2.7514517307281494</td>\n",
       "    </tr>\n",
       "    <tr>\n",
       "      <th>182</th>\n",
       "      <td>xxbos xxunk h xxrep 3 m no its not true … sorry u r wrong … xxpad xxpad xxpad xxpad xxpad xxpad xxpad xxpad xxpad xxpad xxpad xxpad xxpad xxpad xxpad xxpad xxpad xxpad xxpad xxpad xxpad xxpad xxpad xxpad</td>\n",
       "      <td>4</td>\n",
       "      <td>0</td>\n",
       "      <td>0.9360718727111816</td>\n",
       "      <td>2.7499947547912598</td>\n",
       "    </tr>\n",
       "    <tr>\n",
       "      <th>183</th>\n",
       "      <td>xxbos xxunk xxmaj sure do . xxpad xxpad xxpad xxpad xxpad xxpad xxpad xxpad xxpad xxpad xxpad xxpad xxpad xxpad xxpad xxpad xxpad xxpad xxpad xxpad xxpad xxpad xxpad xxpad xxpad xxpad xxpad xxpad xxpad xxpad xxpad xxpad xxpad xxpad</td>\n",
       "      <td>0</td>\n",
       "      <td>4</td>\n",
       "      <td>0.9355225563049316</td>\n",
       "      <td>2.7414402961730957</td>\n",
       "    </tr>\n",
       "    <tr>\n",
       "      <th>184</th>\n",
       "      <td>xxbos xxunk i always wanna to talk just afraid to be boring xxpad xxpad xxpad xxpad xxpad xxpad xxpad xxpad xxpad xxpad xxpad xxpad xxpad xxpad xxpad xxpad xxpad xxpad xxpad xxpad xxpad xxpad xxpad xxpad xxpad xxpad xxpad xxpad</td>\n",
       "      <td>4</td>\n",
       "      <td>0</td>\n",
       "      <td>0.9352133274078369</td>\n",
       "      <td>2.736654281616211</td>\n",
       "    </tr>\n",
       "    <tr>\n",
       "      <th>185</th>\n",
       "      <td>xxbos power washing xxpad xxpad xxpad xxpad xxpad xxpad xxpad xxpad xxpad xxpad xxpad xxpad xxpad xxpad xxpad xxpad xxpad xxpad xxpad xxpad xxpad xxpad xxpad xxpad xxpad xxpad xxpad xxpad xxpad xxpad xxpad xxpad xxpad xxpad xxpad xxpad xxpad</td>\n",
       "      <td>4</td>\n",
       "      <td>0</td>\n",
       "      <td>0.9351081252098083</td>\n",
       "      <td>2.735032558441162</td>\n",
       "    </tr>\n",
       "    <tr>\n",
       "      <th>186</th>\n",
       "      <td>xxbos xxunk xxrep 3 x i would come but i ca nt go to xxmaj london tomorrow ! xxmaj but i am going to xxmaj london next sunday … xxpad xxpad xxpad xxpad xxpad xxpad xxpad xxpad xxpad xxpad xxpad</td>\n",
       "      <td>4</td>\n",
       "      <td>0</td>\n",
       "      <td>0.9340115189552307</td>\n",
       "      <td>2.718276023864746</td>\n",
       "    </tr>\n",
       "    <tr>\n",
       "      <th>187</th>\n",
       "      <td>xxbos xxmaj doing xxmaj english essay . xxmaj not cool xxpad xxpad xxpad xxpad xxpad xxpad xxpad xxpad xxpad xxpad xxpad xxpad xxpad xxpad xxpad xxpad xxpad xxpad xxpad xxpad xxpad xxpad xxpad xxpad xxpad xxpad xxpad xxpad xxpad xxpad</td>\n",
       "      <td>4</td>\n",
       "      <td>0</td>\n",
       "      <td>0.9340102672576904</td>\n",
       "      <td>2.7182562351226807</td>\n",
       "    </tr>\n",
       "    <tr>\n",
       "      <th>188</th>\n",
       "      <td>xxbos xxmaj computer class no teacher :o xxpad xxpad xxpad xxpad xxpad xxpad xxpad xxpad xxpad xxpad xxpad xxpad xxpad xxpad xxpad xxpad xxpad xxpad xxpad xxpad xxpad xxpad xxpad xxpad xxpad xxpad xxpad xxpad xxpad xxpad xxpad xxpad xxpad</td>\n",
       "      <td>4</td>\n",
       "      <td>0</td>\n",
       "      <td>0.9334269165992737</td>\n",
       "      <td>2.7094550132751465</td>\n",
       "    </tr>\n",
       "    <tr>\n",
       "      <th>189</th>\n",
       "      <td>xxbos is uber tired and but has a lot of energy left xxpad xxpad xxpad xxpad xxpad xxpad xxpad xxpad xxpad xxpad xxpad xxpad xxpad xxpad xxpad xxpad xxpad xxpad xxpad xxpad xxpad xxpad xxpad xxpad xxpad xxpad xxpad xxpad</td>\n",
       "      <td>4</td>\n",
       "      <td>0</td>\n",
       "      <td>0.9327311515808105</td>\n",
       "      <td>2.6990585327148438</td>\n",
       "    </tr>\n",
       "    <tr>\n",
       "      <th>190</th>\n",
       "      <td>xxbos mexican xxunk w xxrep 7 a h xxpad xxpad xxpad xxpad xxpad xxpad xxpad xxpad xxpad xxpad xxpad xxpad xxpad xxpad xxpad xxpad xxpad xxpad xxpad xxpad xxpad xxpad xxpad xxpad xxpad xxpad xxpad xxpad xxpad xxpad xxpad xxpad</td>\n",
       "      <td>0</td>\n",
       "      <td>4</td>\n",
       "      <td>0.9326702952384949</td>\n",
       "      <td>2.698153018951416</td>\n",
       "    </tr>\n",
       "    <tr>\n",
       "      <th>191</th>\n",
       "      <td>xxbos i just killed 4 oranges that s xxunk xxpad xxpad xxpad xxpad xxpad xxpad xxpad xxpad xxpad xxpad xxpad xxpad xxpad xxpad xxpad xxpad xxpad xxpad xxpad xxpad xxpad xxpad xxpad xxpad xxpad xxpad xxpad xxpad xxpad xxpad xxpad</td>\n",
       "      <td>4</td>\n",
       "      <td>0</td>\n",
       "      <td>0.9324891567230225</td>\n",
       "      <td>2.6954665184020996</td>\n",
       "    </tr>\n",
       "    <tr>\n",
       "      <th>192</th>\n",
       "      <td>xxbos what to do on a saturday … . i m so lame xxpad xxpad xxpad xxpad xxpad xxpad xxpad xxpad xxpad xxpad xxpad xxpad xxpad xxpad xxpad xxpad xxpad xxpad xxpad xxpad xxpad xxpad xxpad xxpad xxpad xxpad xxpad</td>\n",
       "      <td>4</td>\n",
       "      <td>0</td>\n",
       "      <td>0.9323039650917053</td>\n",
       "      <td>2.692728042602539</td>\n",
       "    </tr>\n",
       "    <tr>\n",
       "      <th>193</th>\n",
       "      <td>xxbos xxup t_t i still do n't have a copy of xxunk fair … i did n't went 2 the stores yet bec . of that xxup swine thingy … bad xxup xxunk flu .. haha .. xxpad xxpad xxpad</td>\n",
       "      <td>4</td>\n",
       "      <td>0</td>\n",
       "      <td>0.9320970773696899</td>\n",
       "      <td>2.6896755695343018</td>\n",
       "    </tr>\n",
       "    <tr>\n",
       "      <th>194</th>\n",
       "      <td>xxbos i did n't have to xxunk much today ! i really xxup really want to write right now . i have the dancing scene written out in my head … xxpad xxpad xxpad xxpad xxpad xxpad xxpad xxpad xxpad</td>\n",
       "      <td>4</td>\n",
       "      <td>0</td>\n",
       "      <td>0.9318577647209167</td>\n",
       "      <td>2.686157464981079</td>\n",
       "    </tr>\n",
       "    <tr>\n",
       "      <th>195</th>\n",
       "      <td>xxbos xxmaj not good to watch infomercials while xxmaj i 'm hungry i really want one of those easy bake xxup gt xxmaj xxunk 101 things now xxpad xxpad xxpad xxpad xxpad xxpad xxpad xxpad xxpad xxpad xxpad xxpad xxpad</td>\n",
       "      <td>4</td>\n",
       "      <td>0</td>\n",
       "      <td>0.9311434626579285</td>\n",
       "      <td>2.6757302284240723</td>\n",
       "    </tr>\n",
       "    <tr>\n",
       "      <th>196</th>\n",
       "      <td>xxbos xxunk yeah … that 's cos it 's a great song and it goes super duper well with xxmaj xxunk atm xxpad xxpad xxpad xxpad xxpad xxpad xxpad xxpad xxpad xxpad xxpad xxpad xxpad xxpad xxpad xxpad xxpad xxpad</td>\n",
       "      <td>0</td>\n",
       "      <td>4</td>\n",
       "      <td>0.931135356426239</td>\n",
       "      <td>2.675611972808838</td>\n",
       "    </tr>\n",
       "    <tr>\n",
       "      <th>197</th>\n",
       "      <td>xxbos xxunk days until xxmaj new xxmaj moon xxpad xxpad xxpad xxpad xxpad xxpad xxpad xxpad xxpad xxpad xxpad xxpad xxpad xxpad xxpad xxpad xxpad xxpad xxpad xxpad xxpad xxpad xxpad xxpad xxpad xxpad xxpad xxpad xxpad xxpad xxpad xxpad</td>\n",
       "      <td>0</td>\n",
       "      <td>4</td>\n",
       "      <td>0.9306047558784485</td>\n",
       "      <td>2.667936086654663</td>\n",
       "    </tr>\n",
       "    <tr>\n",
       "      <th>198</th>\n",
       "      <td>xxbos xxunk ok still nice to have new clothes , xxunk get xxunk / xxunk , can i ' marry ' u xxunk of me as ur own xxmaj joey xxmaj xxunk ! xxpad xxpad xxpad xxpad xxpad xxpad xxpad</td>\n",
       "      <td>0</td>\n",
       "      <td>4</td>\n",
       "      <td>0.9303976893424988</td>\n",
       "      <td>2.664957284927368</td>\n",
       "    </tr>\n",
       "    <tr>\n",
       "      <th>199</th>\n",
       "      <td>xxbos xxmaj the xxmaj dj xxmaj hero xxmaj release party on monday was awsome but y did a stranger hug me ? lol but it stil rocked xxpad xxpad xxpad xxpad xxpad xxpad xxpad xxpad xxpad xxpad xxpad xxpad xxpad</td>\n",
       "      <td>4</td>\n",
       "      <td>0</td>\n",
       "      <td>0.930312991142273</td>\n",
       "      <td>2.6637415885925293</td>\n",
       "    </tr>\n",
       "  </tbody>\n",
       "</table>"
      ],
      "text/plain": [
       "<IPython.core.display.HTML object>"
      ]
     },
     "metadata": {},
     "output_type": "display_data"
    }
   ],
   "source": [
    "df_toplosses = interp.plot_top_losses(200)"
   ]
  },
  {
   "cell_type": "code",
   "execution_count": 46,
   "metadata": {},
   "outputs": [],
   "source": [
    "top_200losses = df_losses[0:200]"
   ]
  },
  {
   "cell_type": "code",
   "execution_count": 47,
   "metadata": {
    "collapsed": true
   },
   "outputs": [
    {
     "ename": "TypeError",
     "evalue": "Can only merge Series or DataFrame objects, a <class 'NoneType'> was passed",
     "output_type": "error",
     "traceback": [
      "\u001b[0;31m---------------------------------------------------------------------------\u001b[0m",
      "\u001b[0;31mTypeError\u001b[0m                                 Traceback (most recent call last)",
      "\u001b[0;32m<ipython-input-47-bb12fdfe81eb>\u001b[0m in \u001b[0;36m<module>\u001b[0;34m\u001b[0m\n\u001b[0;32m----> 1\u001b[0;31m \u001b[0mtop_200losses\u001b[0m\u001b[0;34m.\u001b[0m\u001b[0mmerge\u001b[0m\u001b[0;34m(\u001b[0m\u001b[0mdf_toplosses\u001b[0m\u001b[0;34m,\u001b[0m \u001b[0mon\u001b[0m\u001b[0;34m=\u001b[0m\u001b[0;34m'loss'\u001b[0m\u001b[0;34m)\u001b[0m\u001b[0;34m\u001b[0m\u001b[0;34m\u001b[0m\u001b[0m\n\u001b[0m",
      "\u001b[0;32m/opt/conda/envs/fastai/lib/python3.8/site-packages/pandas/core/frame.py\u001b[0m in \u001b[0;36mmerge\u001b[0;34m(self, right, how, on, left_on, right_on, left_index, right_index, sort, suffixes, copy, indicator, validate)\u001b[0m\n\u001b[1;32m   7937\u001b[0m         \u001b[0;32mfrom\u001b[0m \u001b[0mpandas\u001b[0m\u001b[0;34m.\u001b[0m\u001b[0mcore\u001b[0m\u001b[0;34m.\u001b[0m\u001b[0mreshape\u001b[0m\u001b[0;34m.\u001b[0m\u001b[0mmerge\u001b[0m \u001b[0;32mimport\u001b[0m \u001b[0mmerge\u001b[0m\u001b[0;34m\u001b[0m\u001b[0;34m\u001b[0m\u001b[0m\n\u001b[1;32m   7938\u001b[0m \u001b[0;34m\u001b[0m\u001b[0m\n\u001b[0;32m-> 7939\u001b[0;31m         return merge(\n\u001b[0m\u001b[1;32m   7940\u001b[0m             \u001b[0mself\u001b[0m\u001b[0;34m,\u001b[0m\u001b[0;34m\u001b[0m\u001b[0;34m\u001b[0m\u001b[0m\n\u001b[1;32m   7941\u001b[0m             \u001b[0mright\u001b[0m\u001b[0;34m,\u001b[0m\u001b[0;34m\u001b[0m\u001b[0;34m\u001b[0m\u001b[0m\n",
      "\u001b[0;32m/opt/conda/envs/fastai/lib/python3.8/site-packages/pandas/core/reshape/merge.py\u001b[0m in \u001b[0;36mmerge\u001b[0;34m(left, right, how, on, left_on, right_on, left_index, right_index, sort, suffixes, copy, indicator, validate)\u001b[0m\n\u001b[1;32m     72\u001b[0m     \u001b[0mvalidate\u001b[0m\u001b[0;34m=\u001b[0m\u001b[0;32mNone\u001b[0m\u001b[0;34m,\u001b[0m\u001b[0;34m\u001b[0m\u001b[0;34m\u001b[0m\u001b[0m\n\u001b[1;32m     73\u001b[0m ) -> \"DataFrame\":\n\u001b[0;32m---> 74\u001b[0;31m     op = _MergeOperation(\n\u001b[0m\u001b[1;32m     75\u001b[0m         \u001b[0mleft\u001b[0m\u001b[0;34m,\u001b[0m\u001b[0;34m\u001b[0m\u001b[0;34m\u001b[0m\u001b[0m\n\u001b[1;32m     76\u001b[0m         \u001b[0mright\u001b[0m\u001b[0;34m,\u001b[0m\u001b[0;34m\u001b[0m\u001b[0;34m\u001b[0m\u001b[0m\n",
      "\u001b[0;32m/opt/conda/envs/fastai/lib/python3.8/site-packages/pandas/core/reshape/merge.py\u001b[0m in \u001b[0;36m__init__\u001b[0;34m(self, left, right, how, on, left_on, right_on, axis, left_index, right_index, sort, suffixes, copy, indicator, validate)\u001b[0m\n\u001b[1;32m    592\u001b[0m     ):\n\u001b[1;32m    593\u001b[0m         \u001b[0m_left\u001b[0m \u001b[0;34m=\u001b[0m \u001b[0m_validate_operand\u001b[0m\u001b[0;34m(\u001b[0m\u001b[0mleft\u001b[0m\u001b[0;34m)\u001b[0m\u001b[0;34m\u001b[0m\u001b[0;34m\u001b[0m\u001b[0m\n\u001b[0;32m--> 594\u001b[0;31m         \u001b[0m_right\u001b[0m \u001b[0;34m=\u001b[0m \u001b[0m_validate_operand\u001b[0m\u001b[0;34m(\u001b[0m\u001b[0mright\u001b[0m\u001b[0;34m)\u001b[0m\u001b[0;34m\u001b[0m\u001b[0;34m\u001b[0m\u001b[0m\n\u001b[0m\u001b[1;32m    595\u001b[0m         \u001b[0mself\u001b[0m\u001b[0;34m.\u001b[0m\u001b[0mleft\u001b[0m \u001b[0;34m=\u001b[0m \u001b[0mself\u001b[0m\u001b[0;34m.\u001b[0m\u001b[0morig_left\u001b[0m \u001b[0;34m=\u001b[0m \u001b[0m_left\u001b[0m\u001b[0;34m\u001b[0m\u001b[0;34m\u001b[0m\u001b[0m\n\u001b[1;32m    596\u001b[0m         \u001b[0mself\u001b[0m\u001b[0;34m.\u001b[0m\u001b[0mright\u001b[0m \u001b[0;34m=\u001b[0m \u001b[0mself\u001b[0m\u001b[0;34m.\u001b[0m\u001b[0morig_right\u001b[0m \u001b[0;34m=\u001b[0m \u001b[0m_right\u001b[0m\u001b[0;34m\u001b[0m\u001b[0;34m\u001b[0m\u001b[0m\n",
      "\u001b[0;32m/opt/conda/envs/fastai/lib/python3.8/site-packages/pandas/core/reshape/merge.py\u001b[0m in \u001b[0;36m_validate_operand\u001b[0;34m(obj)\u001b[0m\n\u001b[1;32m   2059\u001b[0m             \u001b[0;32mreturn\u001b[0m \u001b[0mobj\u001b[0m\u001b[0;34m.\u001b[0m\u001b[0mto_frame\u001b[0m\u001b[0;34m(\u001b[0m\u001b[0;34m)\u001b[0m\u001b[0;34m\u001b[0m\u001b[0;34m\u001b[0m\u001b[0m\n\u001b[1;32m   2060\u001b[0m     \u001b[0;32melse\u001b[0m\u001b[0;34m:\u001b[0m\u001b[0;34m\u001b[0m\u001b[0;34m\u001b[0m\u001b[0m\n\u001b[0;32m-> 2061\u001b[0;31m         raise TypeError(\n\u001b[0m\u001b[1;32m   2062\u001b[0m             \u001b[0;34mf\"Can only merge Series or DataFrame objects, a {type(obj)} was passed\"\u001b[0m\u001b[0;34m\u001b[0m\u001b[0;34m\u001b[0m\u001b[0m\n\u001b[1;32m   2063\u001b[0m         )\n",
      "\u001b[0;31mTypeError\u001b[0m: Can only merge Series or DataFrame objects, a <class 'NoneType'> was passed"
     ]
    }
   ],
   "source": [
    "top_200losses.merge(df_toplosses, on='loss')"
   ]
  },
  {
   "cell_type": "code",
   "execution_count": null,
   "metadata": {},
   "outputs": [],
   "source": []
  },
  {
   "cell_type": "code",
   "execution_count": 48,
   "metadata": {},
   "outputs": [],
   "source": [
    "valid = dls_clas.valid.items"
   ]
  },
  {
   "cell_type": "code",
   "execution_count": 49,
   "metadata": {},
   "outputs": [],
   "source": [
    "valid = valid[['text', 'is_valid', 'target']]"
   ]
  },
  {
   "cell_type": "code",
   "execution_count": 50,
   "metadata": {},
   "outputs": [
    {
     "data": {
      "text/html": [
       "<div>\n",
       "<style scoped>\n",
       "    .dataframe tbody tr th:only-of-type {\n",
       "        vertical-align: middle;\n",
       "    }\n",
       "\n",
       "    .dataframe tbody tr th {\n",
       "        vertical-align: top;\n",
       "    }\n",
       "\n",
       "    .dataframe thead th {\n",
       "        text-align: right;\n",
       "    }\n",
       "</style>\n",
       "<table border=\"1\" class=\"dataframe\">\n",
       "  <thead>\n",
       "    <tr style=\"text-align: right;\">\n",
       "      <th></th>\n",
       "      <th>text</th>\n",
       "      <th>is_valid</th>\n",
       "      <th>target</th>\n",
       "    </tr>\n",
       "  </thead>\n",
       "  <tbody>\n",
       "    <tr>\n",
       "      <th>1</th>\n",
       "      <td>[xxbos, xxmaj, making, pasta, and, insalata, blu, with, mom]</td>\n",
       "      <td>True</td>\n",
       "      <td>4</td>\n",
       "    </tr>\n",
       "    <tr>\n",
       "      <th>2</th>\n",
       "      <td>[xxbos, xxmaj, worst, ., xxmaj, day, ., xxmaj, ever, ., xxmaj, needing, some, legitimate, hug, action, ., xxmaj, show, starts, in, 30]</td>\n",
       "      <td>True</td>\n",
       "      <td>0</td>\n",
       "    </tr>\n",
       "    <tr>\n",
       "      <th>13</th>\n",
       "      <td>[xxbos, @honnydipp, oh, no, today, is, not, a, good, day, ., xxmaj, aw, doll]</td>\n",
       "      <td>True</td>\n",
       "      <td>0</td>\n",
       "    </tr>\n",
       "    <tr>\n",
       "      <th>14</th>\n",
       "      <td>[xxbos, grr, boys, annoy, the, shit, out, of, me, ,, why, ca, nt, i, just, hang, with, mah, girls, all, the, time]</td>\n",
       "      <td>True</td>\n",
       "      <td>4</td>\n",
       "    </tr>\n",
       "    <tr>\n",
       "      <th>31</th>\n",
       "      <td>[xxbos, xxup, fuck, xxup, you, xxup, lord, xxup, of, xxup, the, xxup, flies, i, xxup, hate, xxup, you, -, bubbleant, :, xxup, o.o, xxmaj, you, hate, it, ?, !, i, loved, it, !, lol, xxmaj, but, i, read, it, a, long, …, http, :, /, /, tumblr.com, /, xbw1t3cwz]</td>\n",
       "      <td>True</td>\n",
       "      <td>4</td>\n",
       "    </tr>\n",
       "  </tbody>\n",
       "</table>\n",
       "</div>"
      ],
      "text/plain": [
       "                                                                                                                                                                                                                                                                  text  \\\n",
       "1                                                                                                                                                                                                         [xxbos, xxmaj, making, pasta, and, insalata, blu, with, mom]   \n",
       "2                                                                                                                               [xxbos, xxmaj, worst, ., xxmaj, day, ., xxmaj, ever, ., xxmaj, needing, some, legitimate, hug, action, ., xxmaj, show, starts, in, 30]   \n",
       "13                                                                                                                                                                                       [xxbos, @honnydipp, oh, no, today, is, not, a, good, day, ., xxmaj, aw, doll]   \n",
       "14                                                                                                                                                  [xxbos, grr, boys, annoy, the, shit, out, of, me, ,, why, ca, nt, i, just, hang, with, mah, girls, all, the, time]   \n",
       "31  [xxbos, xxup, fuck, xxup, you, xxup, lord, xxup, of, xxup, the, xxup, flies, i, xxup, hate, xxup, you, -, bubbleant, :, xxup, o.o, xxmaj, you, hate, it, ?, !, i, loved, it, !, lol, xxmaj, but, i, read, it, a, long, …, http, :, /, /, tumblr.com, /, xbw1t3cwz]   \n",
       "\n",
       "    is_valid  target  \n",
       "1       True       4  \n",
       "2       True       0  \n",
       "13      True       0  \n",
       "14      True       4  \n",
       "31      True       4  "
      ]
     },
     "execution_count": 50,
     "metadata": {},
     "output_type": "execute_result"
    }
   ],
   "source": [
    "valid.head()"
   ]
  },
  {
   "cell_type": "code",
   "execution_count": 51,
   "metadata": {
    "collapsed": true
   },
   "outputs": [
    {
     "ename": "NameError",
     "evalue": "name 'l' is not defined",
     "output_type": "error",
     "traceback": [
      "\u001b[0;31m---------------------------------------------------------------------------\u001b[0m",
      "\u001b[0;31mNameError\u001b[0m                                 Traceback (most recent call last)",
      "\u001b[0;32m<ipython-input-51-7b0afa5c363c>\u001b[0m in \u001b[0;36m<module>\u001b[0;34m\u001b[0m\n\u001b[0;32m----> 1\u001b[0;31m \u001b[0mvalid\u001b[0m\u001b[0;34m[\u001b[0m\u001b[0ml\u001b[0m\u001b[0;34m]\u001b[0m \u001b[0;34m=\u001b[0m \u001b[0mvalid\u001b[0m\u001b[0;34m.\u001b[0m\u001b[0massign\u001b[0m\u001b[0;34m(\u001b[0m\u001b[0mprediction\u001b[0m\u001b[0;34m=\u001b[0m\u001b[0mpd\u001b[0m\u001b[0;34m.\u001b[0m\u001b[0mSeries\u001b[0m\u001b[0;34m(\u001b[0m\u001b[0mpreds\u001b[0m\u001b[0;34m[\u001b[0m\u001b[0;36m1\u001b[0m\u001b[0;34m]\u001b[0m\u001b[0;34m)\u001b[0m\u001b[0;34m)\u001b[0m\u001b[0;34m\u001b[0m\u001b[0;34m\u001b[0m\u001b[0m\n\u001b[0m",
      "\u001b[0;31mNameError\u001b[0m: name 'l' is not defined"
     ]
    }
   ],
   "source": [
    "valid[l] = valid.assign(prediction=pd.Series(preds[1]))"
   ]
  },
  {
   "cell_type": "code",
   "execution_count": 52,
   "metadata": {},
   "outputs": [],
   "source": [
    "valid = valid.assign(prediction=pd.Series(preds[1]))"
   ]
  },
  {
   "cell_type": "code",
   "execution_count": 53,
   "metadata": {
    "collapsed": true
   },
   "outputs": [
    {
     "ename": "NameError",
     "evalue": "name 'Series' is not defined",
     "output_type": "error",
     "traceback": [
      "\u001b[0;31m---------------------------------------------------------------------------\u001b[0m",
      "\u001b[0;31mNameError\u001b[0m                                 Traceback (most recent call last)",
      "\u001b[0;32m<ipython-input-53-207b9b54e34b>\u001b[0m in \u001b[0;36m<module>\u001b[0;34m\u001b[0m\n\u001b[0;32m----> 1\u001b[0;31m \u001b[0mvalid\u001b[0m \u001b[0;34m=\u001b[0m \u001b[0mvalid\u001b[0m\u001b[0;34m.\u001b[0m\u001b[0massign\u001b[0m\u001b[0;34m(\u001b[0m\u001b[0mprobability_0\u001b[0m\u001b[0;34m=\u001b[0m\u001b[0mSeries\u001b[0m\u001b[0;34m(\u001b[0m\u001b[0mpreds\u001b[0m\u001b[0;34m[\u001b[0m\u001b[0;36m0\u001b[0m\u001b[0;34m]\u001b[0m\u001b[0;34m)\u001b[0m\u001b[0;34m)\u001b[0m\u001b[0;34m\u001b[0m\u001b[0;34m\u001b[0m\u001b[0m\n\u001b[0m",
      "\u001b[0;31mNameError\u001b[0m: name 'Series' is not defined"
     ]
    }
   ],
   "source": [
    "valid = valid.assign(probability_0=Series(preds[0]))"
   ]
  },
  {
   "cell_type": "code",
   "execution_count": 54,
   "metadata": {
    "collapsed": true
   },
   "outputs": [
    {
     "ename": "NameError",
     "evalue": "name 'Series' is not defined",
     "output_type": "error",
     "traceback": [
      "\u001b[0;31m---------------------------------------------------------------------------\u001b[0m",
      "\u001b[0;31mNameError\u001b[0m                                 Traceback (most recent call last)",
      "\u001b[0;32m<ipython-input-54-207b9b54e34b>\u001b[0m in \u001b[0;36m<module>\u001b[0;34m\u001b[0m\n\u001b[0;32m----> 1\u001b[0;31m \u001b[0mvalid\u001b[0m \u001b[0;34m=\u001b[0m \u001b[0mvalid\u001b[0m\u001b[0;34m.\u001b[0m\u001b[0massign\u001b[0m\u001b[0;34m(\u001b[0m\u001b[0mprobability_0\u001b[0m\u001b[0;34m=\u001b[0m\u001b[0mSeries\u001b[0m\u001b[0;34m(\u001b[0m\u001b[0mpreds\u001b[0m\u001b[0;34m[\u001b[0m\u001b[0;36m0\u001b[0m\u001b[0;34m]\u001b[0m\u001b[0;34m)\u001b[0m\u001b[0;34m)\u001b[0m\u001b[0;34m\u001b[0m\u001b[0;34m\u001b[0m\u001b[0m\n\u001b[0m",
      "\u001b[0;31mNameError\u001b[0m: name 'Series' is not defined"
     ]
    }
   ],
   "source": [
    "valid = valid.assign(probability_0=Series(preds[0]))"
   ]
  },
  {
   "cell_type": "code",
   "execution_count": 55,
   "metadata": {},
   "outputs": [
    {
     "data": {
      "text/plain": [
       "tensor(0.9736)"
      ]
     },
     "execution_count": 55,
     "metadata": {},
     "output_type": "execute_result"
    }
   ],
   "source": [
    "max(preds[0][0])"
   ]
  },
  {
   "cell_type": "code",
   "execution_count": 56,
   "metadata": {},
   "outputs": [
    {
     "data": {
      "text/plain": [
       "tensor([0.0264, 0.9736])"
      ]
     },
     "execution_count": 56,
     "metadata": {},
     "output_type": "execute_result"
    }
   ],
   "source": [
    "preds[0][0]"
   ]
  },
  {
   "cell_type": "code",
   "execution_count": 57,
   "metadata": {},
   "outputs": [],
   "source": [
    "most_confused = interp.most_confused()"
   ]
  },
  {
   "cell_type": "code",
   "execution_count": 58,
   "metadata": {},
   "outputs": [
    {
     "data": {
      "text/plain": [
       "[(4, 0, 2033), (0, 4, 1866)]"
      ]
     },
     "execution_count": 58,
     "metadata": {},
     "output_type": "execute_result"
    }
   ],
   "source": [
    "most_confused #actual, predicted, no of ocurences"
   ]
  },
  {
   "cell_type": "code",
   "execution_count": 59,
   "metadata": {},
   "outputs": [
    {
     "name": "stdout",
     "output_type": "stream",
     "text": [
      "              precision    recall  f1-score   support\n",
      "\n",
      "           0       0.80      0.82      0.81     10156\n",
      "           4       0.81      0.79      0.80      9844\n",
      "\n",
      "    accuracy                           0.81     20000\n",
      "   macro avg       0.81      0.80      0.80     20000\n",
      "weighted avg       0.81      0.81      0.81     20000\n",
      "\n"
     ]
    }
   ],
   "source": [
    "report = interp.print_classification_report()"
   ]
  },
  {
   "cell_type": "code",
   "execution_count": 147,
   "metadata": {},
   "outputs": [],
   "source": [
    "?? ClassificationInterpretation.plot_top_losses"
   ]
  },
  {
   "cell_type": "code",
   "execution_count": null,
   "metadata": {},
   "outputs": [],
   "source": []
  }
 ],
 "metadata": {
  "jupytext": {
   "text_representation": {
    "extension": ".py",
    "format_name": "percent",
    "format_version": "1.3",
    "jupytext_version": "1.6.0"
   }
  },
  "kernelspec": {
   "display_name": "Python 3",
   "language": "python",
   "name": "python3"
  },
  "language_info": {
   "codemirror_mode": {
    "name": "ipython",
    "version": 3
   },
   "file_extension": ".py",
   "mimetype": "text/x-python",
   "name": "python",
   "nbconvert_exporter": "python",
   "pygments_lexer": "ipython3",
   "version": "3.8.5"
  },
  "toc": {
   "base_numbering": 1,
   "nav_menu": {},
   "number_sections": true,
   "sideBar": true,
   "skip_h1_title": false,
   "title_cell": "Table of Contents",
   "title_sidebar": "Contents",
   "toc_cell": false,
   "toc_position": {},
   "toc_section_display": true,
   "toc_window_display": false
  }
 },
 "nbformat": 4,
 "nbformat_minor": 4
}
